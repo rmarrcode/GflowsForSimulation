{
 "cells": [
  {
   "cell_type": "code",
   "execution_count": 1,
   "metadata": {},
   "outputs": [
    {
     "name": "stdout",
     "output_type": "stream",
     "text": [
      "Step 1, Loss: 2.398120641708374\n",
      "Step 2, Loss: 2.337202787399292\n",
      "Step 3, Loss: 2.2792856693267822\n",
      "Step 4, Loss: 2.2265946865081787\n",
      "Step 5, Loss: 2.1679422855377197\n",
      "Step 6, Loss: 2.1093966960906982\n",
      "Step 7, Loss: 2.0471279621124268\n",
      "Step 8, Loss: 1.9802863597869873\n",
      "Step 9, Loss: 1.908290982246399\n",
      "Step 10, Loss: 1.8305720090866089\n",
      "Step 11, Loss: 1.7466317415237427\n",
      "Step 12, Loss: 1.6560555696487427\n",
      "Step 13, Loss: 1.5585566759109497\n",
      "Step 14, Loss: 1.4539896249771118\n",
      "Step 15, Loss: 1.3420538902282715\n",
      "Step 16, Loss: 1.2232842445373535\n",
      "Step 17, Loss: 1.0988245010375977\n",
      "Step 18, Loss: 0.9703865647315979\n",
      "Step 19, Loss: 0.840324342250824\n",
      "Step 20, Loss: 0.7116349339485168\n",
      "\n",
      "Evaluation:\n",
      "Logits: tensor([[0.5555, 0.0412, 0.0509, 0.0314, 0.0680, 0.0609, 0.0551, 0.0521, 0.0345,\n",
      "         0.0503]], grad_fn=<SoftmaxBackward0>)\n",
      "Probabilities: tensor([[0.1556, 0.0930, 0.0940, 0.0921, 0.0956, 0.0949, 0.0944, 0.0941, 0.0924,\n",
      "         0.0939]], grad_fn=<SoftmaxBackward0>)\n",
      "Target Node: 0\n"
     ]
    }
   ],
   "source": []
  }
 ],
 "metadata": {
  "kernelspec": {
   "display_name": ".cogn_arch",
   "language": "python",
   "name": "python3"
  },
  "language_info": {
   "codemirror_mode": {
    "name": "ipython",
    "version": 3
   },
   "file_extension": ".py",
   "mimetype": "text/x-python",
   "name": "python",
   "nbconvert_exporter": "python",
   "pygments_lexer": "ipython3",
   "version": "3.10.5"
  },
  "orig_nbformat": 4
 },
 "nbformat": 4,
 "nbformat_minor": 2
}
