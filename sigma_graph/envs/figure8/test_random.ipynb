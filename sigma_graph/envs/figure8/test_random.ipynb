{
 "cells": [
  {
   "cell_type": "code",
   "execution_count": 2,
   "metadata": {},
   "outputs": [
    {
     "name": "stdout",
     "output_type": "stream",
     "text": [
      "0\n",
      "[0, 0]\n",
      "1\n",
      "[1, 0]\n",
      "2\n",
      "[2, 0]\n",
      "3\n",
      "[3, 0]\n",
      "4\n",
      "[4, 0]\n",
      "5\n",
      "[0, 1]\n",
      "6\n",
      "[1, 1]\n",
      "7\n",
      "[2, 1]\n",
      "8\n",
      "[3, 1]\n",
      "9\n",
      "[4, 1]\n",
      "10\n",
      "[0, 2]\n",
      "11\n",
      "[1, 2]\n",
      "12\n",
      "[2, 2]\n",
      "13\n",
      "[3, 2]\n",
      "14\n",
      "[4, 2]\n"
     ]
    }
   ],
   "source": [
    "MOVE_LOOKUP = {\n",
    "    0: \"NOOP\",\n",
    "    1: \"N\",\n",
    "    2: \"S\",\n",
    "    3: \"W\",\n",
    "    4: \"E\",\n",
    "}\n",
    "local_action_move = MOVE_LOOKUP\n",
    "def convert_discrete_action_to_multidiscrete(action):\n",
    "    return [action % len(local_action_move), action // len(local_action_move)]\n",
    "for i in range(15):\n",
    "    print(f'{i} {convert_discrete_action_to_multidiscrete(i)}')"
   ]
  }
 ],
 "metadata": {
  "kernelspec": {
   "display_name": "GflowsForSimulation_venv_real",
   "language": "python",
   "name": "python3"
  },
  "language_info": {
   "codemirror_mode": {
    "name": "ipython",
    "version": 3
   },
   "file_extension": ".py",
   "mimetype": "text/x-python",
   "name": "python",
   "nbconvert_exporter": "python",
   "pygments_lexer": "ipython3",
   "version": "3.8.10"
  }
 },
 "nbformat": 4,
 "nbformat_minor": 2
}
