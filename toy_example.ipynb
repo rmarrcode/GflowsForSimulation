{
 "cells": [
  {
   "cell_type": "code",
   "execution_count": 1,
   "metadata": {},
   "outputs": [],
   "source": [
    "import torch\n",
    "import torch.nn as nn\n",
    "from torch.distributions.categorical import Categorical\n",
    "import tqdm\n",
    "import matplotlib.pyplot as pp\n",
    "import numpy as np"
   ]
  },
  {
   "cell_type": "code",
   "execution_count": 2,
   "metadata": {},
   "outputs": [],
   "source": [
    "transitions = {\n",
    "    1: {0: 1, 1: 2, 2: 1, 3: 3, 4: 1},\n",
    "    2: {0: 2, 1: 12, 2: 1, 3: 2, 4: 2},\n",
    "    3: {0: 3, 1: 3, 2: 3, 3: 4, 4: 1},\n",
    "    4: {0: 4, 1: 5, 2: 4, 3: 6, 4: 3},\n",
    "    5: {0: 5, 1: 13, 2: 4, 3: 5, 4: 5},\n",
    "    6: {0: 6, 1: 6, 2: 6, 3: 7, 4: 4},\n",
    "    7: {0: 7, 1: 8, 2: 7, 3: 9, 4: 6},\n",
    "    8: {0: 8, 1: 14, 2: 7, 3: 8, 4: 8},\n",
    "    9: {0: 9, 1: 9, 2: 9, 3: 10, 4: 7},\n",
    "    10: {0: 10, 1: 11, 2: 10, 3: 10, 4: 9},\n",
    "    11: {0: 11, 1: 15, 2: 10, 3: 16, 4: 11},\n",
    "    12: {0: 12, 1: 18, 2: 2, 3: 12, 4: 12},\n",
    "    13: {0: 13, 1: 19, 2: 5, 3: 13, 4: 13},\n",
    "    14: {0: 14, 1: 20, 2: 8, 3: 14, 4: 14},\n",
    "    15: {0: 15, 1: 21, 2: 11, 3: 17, 4: 15},\n",
    "    16: {0: 16, 1: 17, 2: 16, 3: 16, 4: 11},\n",
    "    17: {0: 17, 1: 22, 2: 16, 3: 23, 4: 15},\n",
    "    18: {0: 18, 1: 18, 2: 12, 3: 25, 4: 18},\n",
    "    19: {0: 19, 1: 19, 2: 13, 3: 26, 4: 25},\n",
    "    20: {0: 20, 1: 20, 2: 14, 3: 27, 4: 26},\n",
    "    21: {0: 21, 1: 21, 2: 15, 3: 22, 4: 27},\n",
    "    22: {0: 22, 1: 22, 2: 17, 3: 24, 4: 21},\n",
    "    23: {0: 23, 1: 24, 2: 17, 3: 23, 4: 17},\n",
    "    24: {0: 24, 1: 22, 2: 23, 3: 24, 4: 22},\n",
    "    25: {0: 25, 1: 25, 2: 25, 3: 19, 4: 18},\n",
    "    26: {0: 26, 1: 26, 2: 26, 3: 20, 4: 19},\n",
    "    27: {0: 27, 1: 27, 2: 27, 3: 21, 4: 20}\n",
    "}\n",
    "\n",
    "def state_to_vec(state):\n",
    "    result = [0]*27\n",
    "    result[state-1] = 1\n",
    "    return torch.tensor(result).float()\n",
    "\n",
    "def compute_reward(state):\n",
    "    if state == 11:\n",
    "        return torch.tensor(100)\n",
    "    return torch.tensor(0)\n",
    "\n",
    "INPUT_DIMS = 27\n",
    "OUTPUT_DIMS = 5\n",
    "NUM_EPOCHS = 100000\n",
    "TRAJECTORY_LENGTH = 20\n",
    "BATCH_SIZE = 100\n",
    "START_NODE = 6\n",
    "LEARNING_RATE = 3e-4"
   ]
  },
  {
   "cell_type": "code",
   "execution_count": 3,
   "metadata": {},
   "outputs": [],
   "source": [
    "class TBModel(nn.Module):\n",
    "  def __init__(self, num_hid):\n",
    "    super().__init__()\n",
    "\n",
    "    self.mlp_forward = nn.Sequential(nn.Linear(INPUT_DIMS, num_hid), nn.LeakyReLU(),\n",
    "                             nn.Linear(num_hid, OUTPUT_DIMS))\n",
    "    \n",
    "    self.mlp_backward = nn.Sequential(nn.Linear(INPUT_DIMS, num_hid), nn.LeakyReLU(),\n",
    "                             nn.Linear(num_hid, OUTPUT_DIMS))\n",
    "    \n",
    "    self.logZ = nn.Parameter(torch.ones(1))\n",
    "\n",
    "  def forward(self, x):\n",
    "    P_F = self.mlp_forward(x)\n",
    "    return P_F\n",
    "  \n",
    "  def backward(self, x):\n",
    "    P_B = self.mlp_backward(x) \n",
    "\n",
    "    return P_B"
   ]
  },
  {
   "cell_type": "code",
   "execution_count": 4,
   "metadata": {},
   "outputs": [
    {
     "name": "stderr",
     "output_type": "stream",
     "text": [
      "  0%| | 98/100000 [00:00<12:35, 132.20it"
     ]
    },
    {
     "name": "stdout",
     "output_type": "stream",
     "text": [
      "minibatch_loss tensor([40789.0977], grad_fn=<AddBackward0>)\n"
     ]
    },
    {
     "name": "stderr",
     "output_type": "stream",
     "text": [
      "  0%| | 187/100000 [00:02<16:30, 100.76i"
     ]
    },
    {
     "name": "stdout",
     "output_type": "stream",
     "text": [
      "minibatch_loss tensor([38918.5977], grad_fn=<AddBackward0>)\n"
     ]
    },
    {
     "name": "stderr",
     "output_type": "stream",
     "text": [
      "  0%| | 290/100000 [00:03<15:01, 110.57i"
     ]
    },
    {
     "name": "stdout",
     "output_type": "stream",
     "text": [
      "minibatch_loss tensor([42893.1055], grad_fn=<AddBackward0>)\n"
     ]
    },
    {
     "name": "stderr",
     "output_type": "stream",
     "text": [
      "  0%| | 393/100000 [00:04<13:16, 125.08i"
     ]
    },
    {
     "name": "stdout",
     "output_type": "stream",
     "text": [
      "minibatch_loss tensor([38708.5078], grad_fn=<AddBackward0>)\n"
     ]
    },
    {
     "name": "stderr",
     "output_type": "stream",
     "text": [
      "  0%| | 497/100000 [00:05<13:08, 126.18i"
     ]
    },
    {
     "name": "stdout",
     "output_type": "stream",
     "text": [
      "minibatch_loss tensor([38002.5859], grad_fn=<AddBackward0>)\n"
     ]
    },
    {
     "name": "stderr",
     "output_type": "stream",
     "text": [
      "  1%| | 597/100000 [00:06<13:36, 121.75i"
     ]
    },
    {
     "name": "stdout",
     "output_type": "stream",
     "text": [
      "minibatch_loss tensor([40525.1406], grad_fn=<AddBackward0>)\n"
     ]
    },
    {
     "name": "stderr",
     "output_type": "stream",
     "text": [
      "  1%| | 698/100000 [00:07<13:45, 120.29i"
     ]
    },
    {
     "name": "stdout",
     "output_type": "stream",
     "text": [
      "minibatch_loss tensor([37953.1289], grad_fn=<AddBackward0>)\n"
     ]
    },
    {
     "name": "stderr",
     "output_type": "stream",
     "text": [
      "  1%| | 787/100000 [00:08<13:47, 119.90i"
     ]
    },
    {
     "name": "stdout",
     "output_type": "stream",
     "text": [
      "minibatch_loss tensor([41314.8242], grad_fn=<AddBackward0>)\n"
     ]
    },
    {
     "name": "stderr",
     "output_type": "stream",
     "text": [
      "  1%| | 891/100000 [00:09<13:05, 126.11i"
     ]
    },
    {
     "name": "stdout",
     "output_type": "stream",
     "text": [
      "minibatch_loss tensor([34311.3438], grad_fn=<AddBackward0>)\n"
     ]
    },
    {
     "name": "stderr",
     "output_type": "stream",
     "text": [
      "  1%| | 899/100000 [00:10<18:48, 87.84it\n"
     ]
    },
    {
     "ename": "KeyboardInterrupt",
     "evalue": "",
     "output_type": "error",
     "traceback": [
      "\u001b[0;31m---------------------------------------------------------------------------\u001b[0m",
      "\u001b[0;31mKeyboardInterrupt\u001b[0m                         Traceback (most recent call last)",
      "Cell \u001b[0;32mIn[4], line 41\u001b[0m\n\u001b[1;32m     39\u001b[0m tb_losses\u001b[38;5;241m.\u001b[39mappend(minibatch_loss\u001b[38;5;241m.\u001b[39mitem())\n\u001b[1;32m     40\u001b[0m tb_rewards\u001b[38;5;241m.\u001b[39mappend(minibatch_reward\u001b[38;5;241m.\u001b[39mitem())\n\u001b[0;32m---> 41\u001b[0m \u001b[43mminibatch_loss\u001b[49m\u001b[38;5;241;43m.\u001b[39;49m\u001b[43mbackward\u001b[49m\u001b[43m(\u001b[49m\u001b[43m)\u001b[49m\n\u001b[1;32m     42\u001b[0m opt\u001b[38;5;241m.\u001b[39mstep()\n\u001b[1;32m     43\u001b[0m opt\u001b[38;5;241m.\u001b[39mzero_grad()\n",
      "File \u001b[0;32m~/Documents/GflowsForSimulation_env/GflowsForSimulation/.venv/lib/python3.8/site-packages/torch/_tensor.py:492\u001b[0m, in \u001b[0;36mTensor.backward\u001b[0;34m(self, gradient, retain_graph, create_graph, inputs)\u001b[0m\n\u001b[1;32m    482\u001b[0m \u001b[38;5;28;01mif\u001b[39;00m has_torch_function_unary(\u001b[38;5;28mself\u001b[39m):\n\u001b[1;32m    483\u001b[0m     \u001b[38;5;28;01mreturn\u001b[39;00m handle_torch_function(\n\u001b[1;32m    484\u001b[0m         Tensor\u001b[38;5;241m.\u001b[39mbackward,\n\u001b[1;32m    485\u001b[0m         (\u001b[38;5;28mself\u001b[39m,),\n\u001b[0;32m   (...)\u001b[0m\n\u001b[1;32m    490\u001b[0m         inputs\u001b[38;5;241m=\u001b[39minputs,\n\u001b[1;32m    491\u001b[0m     )\n\u001b[0;32m--> 492\u001b[0m \u001b[43mtorch\u001b[49m\u001b[38;5;241;43m.\u001b[39;49m\u001b[43mautograd\u001b[49m\u001b[38;5;241;43m.\u001b[39;49m\u001b[43mbackward\u001b[49m\u001b[43m(\u001b[49m\n\u001b[1;32m    493\u001b[0m \u001b[43m    \u001b[49m\u001b[38;5;28;43mself\u001b[39;49m\u001b[43m,\u001b[49m\u001b[43m \u001b[49m\u001b[43mgradient\u001b[49m\u001b[43m,\u001b[49m\u001b[43m \u001b[49m\u001b[43mretain_graph\u001b[49m\u001b[43m,\u001b[49m\u001b[43m \u001b[49m\u001b[43mcreate_graph\u001b[49m\u001b[43m,\u001b[49m\u001b[43m \u001b[49m\u001b[43minputs\u001b[49m\u001b[38;5;241;43m=\u001b[39;49m\u001b[43minputs\u001b[49m\n\u001b[1;32m    494\u001b[0m \u001b[43m\u001b[49m\u001b[43m)\u001b[49m\n",
      "File \u001b[0;32m~/Documents/GflowsForSimulation_env/GflowsForSimulation/.venv/lib/python3.8/site-packages/torch/autograd/__init__.py:251\u001b[0m, in \u001b[0;36mbackward\u001b[0;34m(tensors, grad_tensors, retain_graph, create_graph, grad_variables, inputs)\u001b[0m\n\u001b[1;32m    246\u001b[0m     retain_graph \u001b[38;5;241m=\u001b[39m create_graph\n\u001b[1;32m    248\u001b[0m \u001b[38;5;66;03m# The reason we repeat the same comment below is that\u001b[39;00m\n\u001b[1;32m    249\u001b[0m \u001b[38;5;66;03m# some Python versions print out the first line of a multi-line function\u001b[39;00m\n\u001b[1;32m    250\u001b[0m \u001b[38;5;66;03m# calls in the traceback and some print out the last line\u001b[39;00m\n\u001b[0;32m--> 251\u001b[0m \u001b[43mVariable\u001b[49m\u001b[38;5;241;43m.\u001b[39;49m\u001b[43m_execution_engine\u001b[49m\u001b[38;5;241;43m.\u001b[39;49m\u001b[43mrun_backward\u001b[49m\u001b[43m(\u001b[49m\u001b[43m  \u001b[49m\u001b[38;5;66;43;03m# Calls into the C++ engine to run the backward pass\u001b[39;49;00m\n\u001b[1;32m    252\u001b[0m \u001b[43m    \u001b[49m\u001b[43mtensors\u001b[49m\u001b[43m,\u001b[49m\n\u001b[1;32m    253\u001b[0m \u001b[43m    \u001b[49m\u001b[43mgrad_tensors_\u001b[49m\u001b[43m,\u001b[49m\n\u001b[1;32m    254\u001b[0m \u001b[43m    \u001b[49m\u001b[43mretain_graph\u001b[49m\u001b[43m,\u001b[49m\n\u001b[1;32m    255\u001b[0m \u001b[43m    \u001b[49m\u001b[43mcreate_graph\u001b[49m\u001b[43m,\u001b[49m\n\u001b[1;32m    256\u001b[0m \u001b[43m    \u001b[49m\u001b[43minputs\u001b[49m\u001b[43m,\u001b[49m\n\u001b[1;32m    257\u001b[0m \u001b[43m    \u001b[49m\u001b[43mallow_unreachable\u001b[49m\u001b[38;5;241;43m=\u001b[39;49m\u001b[38;5;28;43;01mTrue\u001b[39;49;00m\u001b[43m,\u001b[49m\n\u001b[1;32m    258\u001b[0m \u001b[43m    \u001b[49m\u001b[43maccumulate_grad\u001b[49m\u001b[38;5;241;43m=\u001b[39;49m\u001b[38;5;28;43;01mTrue\u001b[39;49;00m\u001b[43m,\u001b[49m\n\u001b[1;32m    259\u001b[0m \u001b[43m\u001b[49m\u001b[43m)\u001b[49m\n",
      "\u001b[0;31mKeyboardInterrupt\u001b[0m: "
     ]
    }
   ],
   "source": [
    "# Very basic toy env \n",
    "\n",
    "model = TBModel(512)\n",
    "opt = torch.optim.Adam(model.parameters(),  3e-4)\n",
    "\n",
    "tb_losses = []\n",
    "tb_rewards = []\n",
    "logZs = []\n",
    "\n",
    "minibatch_loss = 0\n",
    "minibatch_reward = 0\n",
    "\n",
    "for episode in tqdm.tqdm(range(NUM_EPOCHS), ncols=40):\n",
    "  state = START_NODE\n",
    "  \n",
    "  total_P_F = 0\n",
    "  total_P_B = 0\n",
    "  reward = torch.tensor(0)\n",
    "  for t in range(TRAJECTORY_LENGTH):\n",
    "    P_F_s = model.forward(state_to_vec(state))\n",
    "    P_B_s = model.backward(state_to_vec(state))\n",
    "    reward = reward + compute_reward(state)\n",
    "\n",
    "    cat = Categorical(logits=P_F_s)\n",
    "    action = cat.sample()\n",
    "    new_state = transitions[state][action.item()]\n",
    "    total_P_F += cat.log_prob(action)\n",
    "\n",
    "    total_P_B += Categorical(logits=P_B_s).log_prob(action)\n",
    "\n",
    "    state = new_state\n",
    "\n",
    "  print(f'reward {reward}')\n",
    "  loss = (model.logZ + total_P_F - torch.log(reward).clip(-20) - total_P_B).pow(2)\n",
    "  minibatch_loss += loss\n",
    "  minibatch_reward += reward\n",
    "\n",
    "  if (episode + 1) % BATCH_SIZE == 0:\n",
    "    print(f'minibatch_loss {minibatch_loss}')\n",
    "    tb_losses.append(minibatch_loss.item())\n",
    "    tb_rewards.append(minibatch_reward.item())\n",
    "    minibatch_loss.backward()\n",
    "    opt.step()\n",
    "    opt.zero_grad()\n",
    "    minibatch_loss = 0\n",
    "    minibatch_reward = 0\n",
    "    logZs.append(model.logZ.item())"
   ]
  },
  {
   "cell_type": "code",
   "execution_count": 5,
   "metadata": {},
   "outputs": [
    {
     "data": {
      "text/plain": [
       "Text(0, 0.5, 'rewards')"
      ]
     },
     "execution_count": 5,
     "metadata": {},
     "output_type": "execute_result"
    },
    {
     "data": {
      "image/png": "[encoded data removed]",
      "text/plain": [
       "<Figure size 720x432 with 3 Axes>"
      ]
     },
     "metadata": {
      "needs_background": "light"
     },
     "output_type": "display_data"
    }
   ],
   "source": [
    "f, ax = pp.subplots(3, 1, figsize=(10,6))\n",
    "pp.sca(ax[0])\n",
    "pp.plot(tb_losses)\n",
    "pp.yscale('log')\n",
    "pp.ylabel('loss')\n",
    "pp.sca(ax[1])\n",
    "pp.plot(np.exp(logZs))\n",
    "pp.ylabel('estimated Z')\n",
    "pp.sca(ax[2])\n",
    "pp.plot(tb_rewards)\n",
    "pp.ylabel('rewards')"
   ]
  },
  {
   "cell_type": "code",
   "execution_count": 15,
   "metadata": {},
   "outputs": [
    {
     "name": "stdout",
     "output_type": "stream",
     "text": [
      "state 6\n",
      "state 6\n",
      "state 7\n",
      "state 7\n",
      "state 9\n",
      "state 9\n",
      "state 10\n",
      "state 10\n",
      "state 9\n",
      "state 9\n",
      "state 10\n",
      "state 10\n",
      "state 10\n",
      "state 11\n",
      "state 11\n",
      "state 11\n",
      "state 10\n",
      "state 11\n",
      "state 15\n",
      "state 17\n"
     ]
    }
   ],
   "source": [
    "state = START_NODE\n",
    "\n",
    "for t in range(TRAJECTORY_LENGTH):\n",
    "    print(f'state {state}')\n",
    "    P_F_s = model.forward(state_to_vec(state))\n",
    "    P_B_s = model.backward(state_to_vec(state))\n",
    "\n",
    "    cat = Categorical(logits=P_F_s)\n",
    "    action = cat.sample()\n",
    "    new_state = transitions[state][action.item()]\n",
    "    total_P_F += cat.log_prob(action)\n",
    "\n",
    "    total_P_B += Categorical(logits=P_B_s).log_prob(action)\n",
    "\n",
    "    state = new_state"
   ]
  }
 ],
 "metadata": {
  "kernelspec": {
   "display_name": ".cogn_arch",
   "language": "python",
   "name": "python3"
  },
  "language_info": {
   "codemirror_mode": {
    "name": "ipython",
    "version": 3
   },
   "file_extension": ".py",
   "mimetype": "text/x-python",
   "name": "python",
   "nbconvert_exporter": "python",
   "pygments_lexer": "ipython3",
   "version": "3.8.10"
  },
  "orig_nbformat": 4
 },
 "nbformat": 4,
 "nbformat_minor": 2
}
