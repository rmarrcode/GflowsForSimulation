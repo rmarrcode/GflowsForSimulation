{
 "cells": [
  {
   "cell_type": "code",
   "execution_count": 1,
   "metadata": {},
   "outputs": [
    {
     "name": "stderr",
     "output_type": "stream",
     "text": [
      "2024-02-06 12:22:14,179\tWARNING deprecation.py:47 -- DeprecationWarning: `ray.rllib.agents.dqn` has been deprecated. Use `ray.rllib.algorithms.[dqn|simple_q|r2d2|apex_dqn]` instead. This will raise an error in the future!\n"
     ]
    }
   ],
   "source": [
    "# general\n",
    "import argparse\n",
    "import pickle\n",
    "import torch\n",
    "import time\n",
    "import tempfile\n",
    "import numpy as np\n",
    "import random\n",
    "import os\n",
    "import wandb\n",
    "#from ray.rllib.agents import ppo, dqn, pg, a3c, impala\n",
    "from tqdm import tnrange\n",
    "\n",
    "# our code\n",
    "from sigma_graph.envs.figure8.action_lookup import MOVE_LOOKUP, TURN_90_LOOKUP\n",
    "from sigma_graph.envs.figure8.default_setup import OBS_TOKEN\n",
    "from sigma_graph.envs.figure8.figure8_squad_rllib import Figure8SquadRLLib\n",
    "from sigma_graph.envs.figure8.gflow_figure8_squad import GlowFigure8Squad\n",
    "#from graph_scout.envs.base import ScoutMissionStdRLLib\n",
    "import sigma_graph.envs.figure8.default_setup as default_setup\n",
    "import model  # THIS NEEDS TO BE HERE IN ORDER TO RUN __init__.py!\n",
    "import model.utils as utils\n",
    "import model.gnn_gflow \n",
    "from trajectory import Trajectory\n",
    "import losses\n",
    "import torch.optim as optim"
   ]
  },
  {
   "cell_type": "code",
   "execution_count": 2,
   "metadata": {},
   "outputs": [],
   "source": [
    "WANDB = True\n",
    "SEED = 0\n",
    "LEARNING_RATE = 1e-3\n",
    "EPOCHS = 300000\n",
    "BATCH_SIZE = 500"
   ]
  },
  {
   "cell_type": "code",
   "execution_count": 3,
   "metadata": {},
   "outputs": [
    {
     "name": "stderr",
     "output_type": "stream",
     "text": [
      "Failed to detect the name of this notebook, you can set it manually with the WANDB_NOTEBOOK_NAME environment variable to enable code saving.\n",
      "\u001b[34m\u001b[1mwandb\u001b[0m: Currently logged in as: \u001b[33mr-marr747\u001b[0m. Use \u001b[1m`wandb login --relogin`\u001b[0m to force relogin\n"
     ]
    },
    {
     "data": {
      "text/html": [
       "wandb version 0.16.3 is available!  To upgrade, please run:\n",
       " $ pip install wandb --upgrade"
      ],
      "text/plain": [
       "<IPython.core.display.HTML object>"
      ]
     },
     "metadata": {},
     "output_type": "display_data"
    },
    {
     "data": {
      "text/html": [
       "Tracking run with wandb version 0.16.1"
      ],
      "text/plain": [
       "<IPython.core.display.HTML object>"
      ]
     },
     "metadata": {},
     "output_type": "display_data"
    },
    {
     "data": {
      "text/html": [
       "Run data is saved locally in <code>/Users/ryanmarr/Documents/CognArch/GflowsForSimulation/wandb/run-20240206_122215-53fste2z</code>"
      ],
      "text/plain": [
       "<IPython.core.display.HTML object>"
      ]
     },
     "metadata": {},
     "output_type": "display_data"
    },
    {
     "data": {
      "text/html": [
       "Syncing run <strong><a href='https://wandb.ai/r-marr747/graph-training-simulation/runs/53fste2z' target=\"_blank\">hearty-jazz-137</a></strong> to <a href='https://wandb.ai/r-marr747/graph-training-simulation' target=\"_blank\">Weights & Biases</a> (<a href='https://wandb.me/run' target=\"_blank\">docs</a>)<br/>"
      ],
      "text/plain": [
       "<IPython.core.display.HTML object>"
      ]
     },
     "metadata": {},
     "output_type": "display_data"
    },
    {
     "data": {
      "text/html": [
       " View project at <a href='https://wandb.ai/r-marr747/graph-training-simulation' target=\"_blank\">https://wandb.ai/r-marr747/graph-training-simulation</a>"
      ],
      "text/plain": [
       "<IPython.core.display.HTML object>"
      ]
     },
     "metadata": {},
     "output_type": "display_data"
    },
    {
     "data": {
      "text/html": [
       " View run at <a href='https://wandb.ai/r-marr747/graph-training-simulation/runs/53fste2z' target=\"_blank\">https://wandb.ai/r-marr747/graph-training-simulation/runs/53fste2z</a>"
      ],
      "text/plain": [
       "<IPython.core.display.HTML object>"
      ]
     },
     "metadata": {},
     "output_type": "display_data"
    }
   ],
   "source": [
    "if WANDB:\n",
    "    wandb.login()\n",
    "    wandb.init(\n",
    "        project=\"graph-training-simulation\",\n",
    "        config={\n",
    "            \"learning_rate\": LEARNING_RATE,\n",
    "            \"epochs\": EPOCHS,\n",
    "            \"batch_size\": BATCH_SIZE,\n",
    "            \"seed\": SEED\n",
    "        }\n",
    "    )"
   ]
  },
  {
   "cell_type": "code",
   "execution_count": 4,
   "metadata": {},
   "outputs": [],
   "source": [
    "config = {\n",
    "    \"custom_model\": \"graph_transformer_policy\",\n",
    "    \"custom_model_config\": {\n",
    "        \"nred\": 1,\n",
    "        \"nblue\": 1,\n",
    "        \"aggregation_fn\": \"agent_node\",\n",
    "        \"hidden_size\": 10,\n",
    "        \"is_hybrid\": False,\n",
    "        \"conv_type\": \"gcn\",\n",
    "        \"layernorm\": False,\n",
    "        \"graph_obs_token\": {\"embed_opt\": False, \"embed_dir\": True},\n",
    "    },\n",
    "    \"env_config\": {\n",
    "        \"env_path\": \".\",\n",
    "        \"act_masked\": True,\n",
    "        \"init_red\": None,\n",
    "        \"init_blue\": None,\n",
    "        \"init_health_red\": 20,\n",
    "        \"init_health_blue\": 20,\n",
    "        \"obs_embed\": False,\n",
    "        \"obs_dir\": False,\n",
    "        \"obs_team\": True,\n",
    "        \"obs_sight\": False,\n",
    "        \"log_on\": False,\n",
    "        \"log_path\": \"logs/temp/\",\n",
    "        \"fixed_start\": -1,\n",
    "        \"penalty_stay\": 0,\n",
    "        \"threshold_damage_2_blue\": 2,\n",
    "        \"threshold_damage_2_red\": 5,\n",
    "    },\n",
    "}"
   ]
  },
  {
   "cell_type": "code",
   "execution_count": 5,
   "metadata": {},
   "outputs": [
    {
     "data": {
      "text/plain": [
       "<torch._C.Generator at 0x1084082b0>"
      ]
     },
     "execution_count": 5,
     "metadata": {},
     "output_type": "execute_result"
    }
   ],
   "source": [
    "random.seed(SEED)\n",
    "np.random.seed(SEED)\n",
    "torch.manual_seed(SEED)"
   ]
  },
  {
   "cell_type": "code",
   "execution_count": 6,
   "metadata": {},
   "outputs": [
    {
     "name": "stdout",
     "output_type": "stream",
     "text": [
      "---------------\n",
      "path_data ./GflowsForSimulation/sigma_graph/data/parsed/\n",
      "/Users/ryanmarr/Documents/CognArch/GflowsForSimulation\n"
     ]
    }
   ],
   "source": [
    "gflowfigure8 = GlowFigure8Squad(sampler_config=config)\n",
    "# 25, '11_0110'"
   ]
  },
  {
   "attachments": {},
   "cell_type": "markdown",
   "metadata": {},
   "source": [
    "random.seed(SEED)\n",
    "np.random.seed(SEED)\n",
    "torch.manual_seed(SEED)\n",
    "\n",
    "gflowfigure8 = GlowFigure8Squad(sampler_config=config)"
   ]
  },
  {
   "cell_type": "code",
   "execution_count": 7,
   "metadata": {},
   "outputs": [],
   "source": [
    "optimizer = optim.AdamW(gflowfigure8.sampler_fcn.parameters(), lr=LEARNING_RATE)\n",
    "\n",
    "batch_loss = 0\n",
    "batch_num = 0\n",
    "batch_reward = 0\n",
    "\n",
    "for i in range(EPOCHS):\n",
    "    trajectory = Trajectory()\n",
    "    gflowfigure8._reset_agents()\n",
    "    for _ in range(20):   \n",
    "        for a_id in range(config['custom_model_config']['nred']):\n",
    "            step = gflowfigure8.step(a_id)\n",
    "            trajectory.add_step(\n",
    "                forward_prob=step['forward_prob'],\n",
    "                backward_prob=step['backward_prob'],\n",
    "                # flow=step['flow'],\n",
    "                # action=step['action'],\n",
    "                reward=step['step_reward'],\n",
    "                # node=step['node']\n",
    "            )\n",
    "\n",
    "    logZ = gflowfigure8.sampler_fcn.logZ\n",
    "    episode_loss = losses.Losses.trajectory_balance(trajectory, logZ)\n",
    "    \n",
    "    episode_reward = trajectory.rewards\n",
    "\n",
    "    batch_num = batch_num + 1\n",
    "    batch_loss += episode_loss\n",
    "    batch_reward += episode_reward\n",
    "\n",
    "    if batch_num % BATCH_SIZE == 0:\n",
    "        if WANDB:\n",
    "            wandb.log({\"loss\": batch_loss/BATCH_SIZE, \"reward\":  batch_reward/BATCH_SIZE})\n",
    "            batch_loss = 0\n",
    "            batch_reward = 0\n",
    "            for name, param in gflowfigure8.sampler_fcn.named_parameters():\n",
    "                wandb.log({f\"{name}_mean\": param.data.mean().item(), f\"{name}_std\": param.data.std().item()})\n",
    "\n",
    "    episode_loss.backward()\n",
    "    optimizer.step()\n",
    "    optimizer.zero_grad()"
   ]
  },
  {
   "cell_type": "code",
   "execution_count": null,
   "metadata": {},
   "outputs": [
    {
     "name": "stdout",
     "output_type": "stream",
     "text": [
      "{0: {'NOOP': 0.197892485540067, 'N': 0.18303711599719225, 'S': 0.21064509474496013, 'W': 0.2070748694448996, 'E': 0.20135043427288107}, 1: {'NOOP': 0.19575514195559146, 'N': 0.18752441845729081, 'S': 0.21878724263096466, 'W': 0.19796590556704607, 'E': 0.199967291389107}, 2: {'NOOP': 0.20688771542622192, 'N': 0.19796450736079851, 'S': 0.19404442055785914, 'W': 0.19947918901112077, 'E': 0.20162416764399965}, 3: {'NOOP': 0.2059739444550824, 'N': 0.17585825330454466, 'S': 0.21880498936997209, 'W': 0.20204315000302658, 'E': 0.19731966286737426}, 4: {'NOOP': 0.19520190979348379, 'N': 0.1921007977601235, 'S': 0.1995546261392051, 'W': 0.19930362767880244, 'E': 0.21383903862838513}, 5: {'NOOP': 0.19937993387203728, 'N': 0.202021699368537, 'S': 0.1898697828653488, 'W': 0.21138476073763707, 'E': 0.1973438231564398}, 6: {'NOOP': 0.18361756254954387, 'N': 0.19868087095005435, 'S': 0.20764093926256325, 'W': 0.2190791671580997, 'E': 0.19098146007973885}, 7: {'NOOP': 0.2054796724503387, 'N': 0.18206063340525183, 'S': 0.2125193170001866, 'W': 0.19464253538276166, 'E': 0.20529784176146115}, 8: {'NOOP': 0.1872759616200756, 'N': 0.18615984421500165, 'S': 0.2079190619454542, 'W': 0.20787938329936828, 'E': 0.21076574892010028}, 9: {'NOOP': 0.18331900681747276, 'N': 0.19770068330313273, 'S': 0.19908861650681658, 'W': 0.1987307471563855, 'E': 0.22116094621619242}, 10: {'NOOP': 0.2019490982767953, 'N': 0.19530971434829703, 'S': 0.20770276292300838, 'W': 0.20000782940581127, 'E': 0.19503059504608788}, 11: {'NOOP': 0.20321173153974403, 'N': 0.19748831463419786, 'S': 0.19544498068380356, 'W': 0.20667280067216862, 'E': 0.19718217247008601}, 12: {'NOOP': 0.20091225502127394, 'N': 0.1888087591576075, 'S': 0.21781570134297376, 'W': 0.19170844270737936, 'E': 0.20075484177076547}, 13: {'NOOP': 0.19568081483139516, 'N': 0.20366171816731857, 'S': 0.1987640897845938, 'W': 0.20086061178195813, 'E': 0.20103276543473445}, 14: {'NOOP': 0.19973880832229501, 'N': 0.1913905269559641, 'S': 0.1931956109875102, 'W': 0.22491728159365212, 'E': 0.1907577721405786}, 15: {'NOOP': 0.18713792709961152, 'N': 0.1930594847343797, 'S': 0.2088263968033956, 'W': 0.2023344426535567, 'E': 0.20864174870905658}, 16: {'NOOP': 0.18249621509209024, 'N': 0.19072726915887667, 'S': 0.2036928301273722, 'W': 0.21698690622364047, 'E': 0.20609677939802035}, 17: {'NOOP': 0.19643590136811995, 'N': 0.19902590010793877, 'S': 0.19878882352237578, 'W': 0.20863259449395705, 'E': 0.1971167805076085}, 18: {'NOOP': 0.2020261522823481, 'N': 0.2010057892886279, 'S': 0.19350702123790553, 'W': 0.2088146562909548, 'E': 0.19464638090016365}, 19: {'NOOP': 0.19493629435602097, 'N': 0.20572354140151772, 'S': 0.19648293959239882, 'W': 0.20682757564144855, 'E': 0.19602964900861392}, 20: {'NOOP': 0.18934370786744184, 'N': 0.19297744804330375, 'S': 0.213390172738898, 'W': 0.20859199835873488, 'E': 0.19569667299162163}, 21: {'NOOP': 0.19452337845177287, 'N': 0.17876866584772114, 'S': 0.22013749976844377, 'W': 0.21437313061251145, 'E': 0.19219732531955078}, 22: {'NOOP': 0.18942919474289838, 'N': 0.2096914227688928, 'S': 0.20234399829908856, 'W': 0.18326312278682277, 'E': 0.21527226140229738}, 23: {'NOOP': 0.20335045684447872, 'N': 0.19334768221294657, 'S': 0.20034925687577843, 'W': 0.2070946386460334, 'E': 0.19585796542076273}, 24: {'NOOP': 0.2002248561152184, 'N': 0.19547990057895837, 'S': 0.19566101240654082, 'W': 0.20671521099685958, 'E': 0.20191901990242292}, 25: {'NOOP': 0.2048121694229061, 'N': 0.191446721160362, 'S': 0.1885496031942118, 'W': 0.21723588655463105, 'E': 0.19795561966788916}, 26: {'NOOP': 0.1840829857691047, 'N': 0.19523058293248474, 'S': 0.21472120656677307, 'W': 0.204743394033238, 'E': 0.20122183069839958}}\n"
     ]
    }
   ],
   "source": [
    "gflowfigure8._reset_agents()\n",
    "state_dirs = {}\n",
    "for node in range(27):\n",
    "    states = [[0, 0, 0, 0, 0, 0, 0, 0, 0, 0, 0, 0, 0, 0, 0, 0, 0, 0, 0, 0, 0, 0, 0, 0, 0, 0, 0]]\n",
    "    states[0][node] = 1\n",
    "    device = torch.device(\"cuda\" if torch.cuda.is_available() else \"cpu\")\n",
    "    state = torch.tensor(np.array([states[0],], dtype=np.int8)).to(device)\n",
    "    probs = gflowfigure8.sampler_fcn.forward(state)\n",
    "    # (forward_prob, action) = gflowfigure8.probs_to_action(probs)\n",
    "    total_probs = {}\n",
    "    total_probs[\"NOOP\"] = (probs[0]+probs[5]+probs[10]).tolist()\n",
    "    total_probs[\"N\"] = (probs[1]+probs[6]+probs[11]).tolist()\n",
    "    total_probs[\"S\"] = (probs[2]+probs[7]+probs[12]).tolist()\n",
    "    total_probs[\"W\"] = (probs[3]+probs[8]+probs[13]).tolist()\n",
    "    total_probs[\"E\"] = (probs[4]+probs[9]+probs[14]).tolist()\n",
    "    \n",
    "    state_dirs[node] = total_probs\n",
    "print(state_dirs)"
   ]
  },
  {
   "cell_type": "code",
   "execution_count": null,
   "metadata": {},
   "outputs": [
    {
     "name": "stdout",
     "output_type": "stream",
     "text": [
      "25\n",
      "[[2, 1]]\n",
      "25\n",
      "[[3, 0]]\n",
      "19\n",
      "[[2, 1]]\n",
      "13\n",
      "[[0, 2]]\n",
      "13\n",
      "[[1, 0]]\n",
      "19\n",
      "[[4, 1]]\n",
      "25\n",
      "[[0, 1]]\n",
      "25\n",
      "[[4, 2]]\n",
      "18\n",
      "[[2, 0]]\n",
      "12\n",
      "[[2, 1]]\n",
      "2\n",
      "[[2, 1]]\n",
      "1\n",
      "[[3, 1]]\n",
      "3\n",
      "[[2, 0]]\n",
      "3\n",
      "[[2, 0]]\n",
      "3\n",
      "[[1, 1]]\n",
      "3\n",
      "[[2, 0]]\n",
      "3\n",
      "[[0, 2]]\n",
      "3\n",
      "[[0, 2]]\n",
      "3\n",
      "[[1, 2]]\n",
      "3\n",
      "[[2, 0]]\n"
     ]
    }
   ],
   "source": [
    "trajectory = Trajectory()\n",
    "gflowfigure8._reset_agents()\n",
    "for _ in range(20):   \n",
    "    for a_id in range(config['custom_model_config']['nred']):\n",
    "        step = gflowfigure8.step(a_id)\n",
    "        trajectory.add_step(\n",
    "            forward_prob=step['forward_prob'],\n",
    "            backward_prob=step['backward_prob'],\n",
    "            # flow=step['flow'],\n",
    "            # action=step['action'],\n",
    "            reward=step['step_reward'],\n",
    "            # node=step['node']\n",
    "        )\n",
    "        print(step['node'])\n",
    "        print(step['action'])\n"
   ]
  },
  {
   "cell_type": "code",
   "execution_count": null,
   "metadata": {},
   "outputs": [
    {
     "ename": "FileNotFoundError",
     "evalue": "[Errno 2] No such file or directory: b'../logs/temp'",
     "output_type": "error",
     "traceback": [
      "\u001b[0;31m---------------------------------------------------------------------------\u001b[0m",
      "\u001b[0;31mFileNotFoundError\u001b[0m                         Traceback (most recent call last)",
      "Cell \u001b[0;32mIn[10], line 190\u001b[0m\n\u001b[1;32m    187\u001b[0m parser\u001b[39m.\u001b[39madd_argument(\u001b[39m'\u001b[39m\u001b[39m--route_info\u001b[39m\u001b[39m'\u001b[39m, \u001b[39mtype\u001b[39m\u001b[39m=\u001b[39m\u001b[39mstr\u001b[39m, default\u001b[39m=\u001b[39m\u001b[39m'\u001b[39m\u001b[39mname\u001b[39m\u001b[39m'\u001b[39m)  \u001b[39m# choose from ['name', 'pos', 'idx']\u001b[39;00m\n\u001b[1;32m    188\u001b[0m args \u001b[39m=\u001b[39m parser\u001b[39m.\u001b[39mparse_args(args\u001b[39m=\u001b[39m[\u001b[39m'\u001b[39m\u001b[39m--log_dir\u001b[39m\u001b[39m'\u001b[39m, \u001b[39m'\u001b[39m\u001b[39m../logs/temp\u001b[39m\u001b[39m'\u001b[39m, \u001b[39m'\u001b[39m\u001b[39m--env_dir\u001b[39m\u001b[39m'\u001b[39m, \u001b[39m'\u001b[39m\u001b[39m../\u001b[39m\u001b[39m'\u001b[39m, \u001b[39m'\u001b[39m\u001b[39m--background\u001b[39m\u001b[39m'\u001b[39m, \u001b[39m'\u001b[39m\u001b[39m../logs/background.png\u001b[39m\u001b[39m'\u001b[39m])\n\u001b[0;32m--> 190\u001b[0m local_run(args\u001b[39m.\u001b[39;49menv_dir, args\u001b[39m.\u001b[39;49mlog_dir, args\u001b[39m.\u001b[39;49mprefix, args\u001b[39m.\u001b[39;49mbackground, args\u001b[39m.\u001b[39;49mfps,\n\u001b[1;32m    191\u001b[0m           args\u001b[39m.\u001b[39;49mHP_red, args\u001b[39m.\u001b[39;49mTR_red, args\u001b[39m.\u001b[39;49mHP_blue, args\u001b[39m.\u001b[39;49mTR_blue, args\u001b[39m.\u001b[39;49mHP_color_off,\n\u001b[1;32m    192\u001b[0m           args\u001b[39m.\u001b[39;49mHP_froze_on, args\u001b[39m.\u001b[39;49mroute_only, args\u001b[39m.\u001b[39;49mroute_info)\n",
      "Cell \u001b[0;32mIn[10], line 157\u001b[0m, in \u001b[0;36mlocal_run\u001b[0;34m(env_dir, log_dir, prefix, bg_pic, fps, HP_red, TR_red, HP_blue, TR_blue, color_decay, froze, route_only, route_info)\u001b[0m\n\u001b[1;32m    154\u001b[0m \u001b[39mdef\u001b[39;00m \u001b[39mlocal_run\u001b[39m(env_dir, log_dir, prefix, bg_pic, fps, HP_red, TR_red, HP_blue, TR_blue,\n\u001b[1;32m    155\u001b[0m               color_decay\u001b[39m=\u001b[39m\u001b[39mTrue\u001b[39;00m, froze\u001b[39m=\u001b[39m\u001b[39mFalse\u001b[39;00m, route_only\u001b[39m=\u001b[39m\u001b[39mFalse\u001b[39;00m, route_info\u001b[39m=\u001b[39m\u001b[39mNone\u001b[39;00m):\n\u001b[1;32m    156\u001b[0m     directory \u001b[39m=\u001b[39m os\u001b[39m.\u001b[39mfsencode(log_dir)\n\u001b[0;32m--> 157\u001b[0m     \u001b[39mfor\u001b[39;00m file \u001b[39min\u001b[39;00m os\u001b[39m.\u001b[39;49mlistdir(directory):\n\u001b[1;32m    158\u001b[0m         log_file \u001b[39m=\u001b[39m os\u001b[39m.\u001b[39mfsdecode(file)\n\u001b[1;32m    159\u001b[0m         \u001b[39mprint\u001b[39m(\u001b[39mf\u001b[39m\u001b[39m'\u001b[39m\u001b[39mlog_file \u001b[39m\u001b[39m{\u001b[39;00mlog_file\u001b[39m}\u001b[39;00m\u001b[39m'\u001b[39m)\n",
      "\u001b[0;31mFileNotFoundError\u001b[0m: [Errno 2] No such file or directory: b'../logs/temp'"
     ]
    }
   ],
   "source": [
    "import argparse\n",
    "import glob\n",
    "import os\n",
    "import re\n",
    "\n",
    "import networkx as nx\n",
    "import numpy as np\n",
    "from PIL import Image\n",
    "import matplotlib.colors as colors\n",
    "import matplotlib.pyplot as plt\n",
    "# from matplotlib.animation import FuncAnimation, PillowWriter\n",
    "from sigma_graph.data.file_manager import check_dir, find_file_in_dir, load_graph_files\n",
    "\n",
    "def agent_log_parser(line) -> dict:\n",
    "    agent_info = {}\n",
    "    # parse team info\n",
    "    team_red = re.search(r\"red:(\\d+)\", line)\n",
    "    team_blue = re.search(r\"blue:(\\d+)\", line)\n",
    "    if team_red is not None:\n",
    "        agent_info[\"team\"] = \"red\"\n",
    "        agent_info[\"id\"] = team_red[1]\n",
    "    elif team_blue is not None:\n",
    "        agent_info[\"team\"] = \"blue\"\n",
    "        agent_info[\"id\"] = team_blue[1]\n",
    "    else:\n",
    "        assert f\"[log] Invalid agent team format: {line}\"\n",
    "    # parse agent info\n",
    "    agent_pos = re.search(r\"HP:\\s?(\\d+) node:(\\d+) dir:(\\d) pos:\\((\\d+), (\\d+)\\)\", line)\n",
    "    if agent_info is not None:\n",
    "        agent_info[\"HP\"] = int(agent_pos[1])\n",
    "        agent_info[\"node\"] = int(agent_pos[2])\n",
    "        agent_info[\"dir\"] = int(agent_pos[3])\n",
    "        agent_info[\"pos\"] = (int(agent_pos[4]), int(agent_pos[5]))\n",
    "    else:\n",
    "        assert f\"[log] Invalid agent info format: {line}\"\n",
    "    return agent_info\n",
    "\n",
    "\n",
    "def list_nums_log_parser(line):\n",
    "    pass\n",
    "\n",
    "\n",
    "def log_file_parser(line):\n",
    "    print(f'line {line}')\n",
    "    segments = line.split(\" | \")\n",
    "    print(f'segments {segments}')\n",
    "    step_num = int(re.search(r\"Step #\\s?(\\d+)\", segments[0])[1])\n",
    "\n",
    "    agents = []\n",
    "    for str_agents in segments[1:-2]:\n",
    "        agents.append(agent_log_parser(str_agents))\n",
    "    actions = segments[-2]\n",
    "    rewards = segments[-1]\n",
    "\n",
    "    return step_num, agents, actions, rewards[:-1]\n",
    "\n",
    "\n",
    "def check_log_files(env_dir, log_dir, log_file):\n",
    "    # generate a subfolder in the log folder for -> animations (and optional pictures for each step)\n",
    "    log_file_dir = find_file_in_dir(log_dir, log_file)\n",
    "    fig_file_dir = os.path.join(log_dir, log_file[:-4])\n",
    "    if not check_dir(fig_file_dir):\n",
    "        os.mkdir(fig_file_dir)\n",
    "    return log_file_dir, fig_file_dir\n",
    "\n",
    "\n",
    "def generate_picture(env_dir, log_dir, log_file, HP_red, TR_red, HP_blue, TR_blue,\n",
    "                     color_decay=True, if_froze=False, max_step=40, map_lookup=\"S\"):\n",
    "    # check file existence\n",
    "    log_file_dir, fig_folder = check_log_files(env_dir, log_dir, log_file)\n",
    "    map_info, _ = load_graph_files(env_path=env_dir, map_lookup=map_lookup)\n",
    "    # load log info\n",
    "    file = open(log_file_dir, 'r')\n",
    "    lines = file.readlines()\n",
    "\n",
    "    # predetermined colors\n",
    "    col_map_red = ['#200000', '#200000', '#400000', '#800000', '#BF0000', '#FF0000']\n",
    "    col_map_blue = ['#000020', '#000020', '#000040', '#000080', '#0000BF', '#0000FF']\n",
    "    if color_decay:\n",
    "        HP_offset = 0.1\n",
    "        red_bds = np.append([0], np.linspace(HP_red - TR_red + HP_offset, HP_red + HP_offset, num=len(col_map_red)))\n",
    "        red_norm = colors.BoundaryNorm(boundaries=red_bds, ncolors=len(col_map_red))\n",
    "        blue_bds = np.append([0], np.linspace(HP_blue - TR_blue, HP_blue + HP_offset, num=len(col_map_blue)))\n",
    "        blue_norm = colors.BoundaryNorm(boundaries=blue_bds, ncolors=len(col_map_blue))\n",
    "    else:\n",
    "        red_norm = lambda x: -1\n",
    "        blue_norm = lambda x: -1\n",
    "\n",
    "    total_reward = 0\n",
    "    pause_step = 0\n",
    "\n",
    "    for i, line in enumerate(lines):\n",
    "        fig = plt.figure()\n",
    "        # set figure background opacity (alpha) to 0\n",
    "        fig.patch.set_alpha(0.)\n",
    "        fig.tight_layout()\n",
    "        plt.axis('off')\n",
    "\n",
    "        if i < max_step:\n",
    "            idx_step, agents, action, reward = log_file_parser(line)\n",
    "            text_head = f\"#{idx_step:2d}/{max_step} {action} {reward} \"\n",
    "        elif i == max_step:\n",
    "            # get episode rewards from log\n",
    "            text_head += line[:-1]\n",
    "        legend_text = [text_head]\n",
    "        # set color map for agents and waypoints\n",
    "        col_map = [\"gold\"] * len(map_info.n_info)\n",
    "        for agent in agents:\n",
    "            legend_text += [\"{}_{} HP:{} node:{} dir:{} pos:{}\".format(agent[\"team\"], agent[\"id\"], agent[\"HP\"],\n",
    "                                                                       agent[\"node\"], agent[\"dir\"], agent[\"pos\"])]\n",
    "            if agent[\"team\"] == 'red':\n",
    "                col_map[agent['node'] - 1] = \"red\" #col_map_red[red_norm(agent['HP'])]\n",
    "            elif agent[\"team\"] == 'blue':\n",
    "                blue_health = agent['HP']\n",
    "                col_map[agent['node'] - 1] = \"blue\" #col_map_blue[blue_norm(blue_health)]\n",
    "        # set pause frame number for gif looping\n",
    "        if if_froze and (not pause_step) and (blue_health <= HP_blue - TR_blue):\n",
    "            pause_step = i\n",
    "        # render fig and save to png\n",
    "        nx.draw_networkx(map_info.g_acs, map_info.n_info, node_color=col_map, edge_color=\"grey\", arrows=True)\n",
    "        plt.legend(legend_text, bbox_to_anchor=(0.07, 0.95, 0.83, 0.1), loc='lower left', prop={'size': 8},\n",
    "                   mode=\"expand\", borderaxespad=0.)\n",
    "        plt.savefig(os.path.join(fig_folder, f\"{i:03d}.png\"), dpi=100, transparent=True)\n",
    "        plt.close()\n",
    "    return fig_folder, pause_step\n",
    "\n",
    "\n",
    "def generate_picture_route(env_dir, log_dir, log_file, route_info):\n",
    "    log_file_dir, fig_folder = check_log_files(env_dir, log_dir, log_file)\n",
    "    return fig_folder\n",
    "\n",
    "\n",
    "def frame_add_background(img_dir, gif_file, bg_file, fps, stop_frame=0, wait_frame=5):\n",
    "    img_files = img_dir + \"/*.png\"\n",
    "    imgs = []\n",
    "    frames = 0\n",
    "    for f in sorted(glob.glob(img_files)):\n",
    "        foreground = Image.open(f)\n",
    "        background = Image.open(bg_file)\n",
    "        background.paste(foreground, (0, 0), foreground)\n",
    "        imgs.append(background)\n",
    "        if stop_frame:\n",
    "            if frames == stop_frame:\n",
    "                break\n",
    "            frames += 1\n",
    "    # set up additional end frames before looping\n",
    "    if not stop_frame:\n",
    "        for i in range(wait_frame):\n",
    "            imgs.append(imgs[-1])\n",
    "    imgs[0].save(fp=gif_file, format='GIF', append_images=imgs[1:],\n",
    "                 save_all=True, duration=(1000 // fps), loop=(stop_frame > 0))\n",
    "\n",
    "\n",
    "def local_run(env_dir, log_dir, prefix, bg_pic, fps, HP_red, TR_red, HP_blue, TR_blue,\n",
    "              color_decay=True, froze=False, route_only=False, route_info=None):\n",
    "    directory = os.fsencode(log_dir)\n",
    "    for file in os.listdir(directory):\n",
    "        log_file = os.fsdecode(file)\n",
    "        print(f'log_file {log_file}')\n",
    "        if log_file.endswith(\".txt\") and log_file.startswith(prefix):\n",
    "            if route_only:\n",
    "                fig_folder = generate_picture_route(env_dir, log_dir, log_file, route_info)\n",
    "                pause_frame = 0\n",
    "            else:\n",
    "                fig_folder, pause_frame = generate_picture(env_dir, log_dir, log_file,\n",
    "                                                           HP_red, TR_red, HP_blue, TR_blue, color_decay, froze)\n",
    "            frame_add_background(fig_folder, os.path.join(log_dir, f\"{log_file[:-4]}.gif\"), bg_pic, fps,\n",
    "                                 pause_frame)\n",
    "\n",
    "\n",
    "if __name__ == \"__main__\":\n",
    "    parser = argparse.ArgumentParser()\n",
    "    parser.add_argument('--env_dir', type=str, default='../../', help='path to project root')\n",
    "    parser.add_argument('--log_dir', type=str, default='../../logs/visuals/demo/', help='path to log file folder')\n",
    "    parser.add_argument('--prefix', type=str, default='log_', help='log file prefix')\n",
    "    parser.add_argument('--background', type=str, default='../../logs/visuals/background.png')\n",
    "    parser.add_argument('--fps', type=int, default=2)  # frame per second in animations\n",
    "\n",
    "    parser.add_argument('--HP_froze_on', action='store_true', default=False, help='stop animation if agent is dead')\n",
    "    parser.add_argument('--HP_red', type=int, default=100)\n",
    "    parser.add_argument('--TR_red', type=int, default=5)\n",
    "    parser.add_argument('--HP_blue', type=int, default=100)\n",
    "    parser.add_argument('--TR_blue', type=int, default=10)\n",
    "    parser.add_argument('--HP_color_off', action='store_false', default=True, help='gradient colors for HP')\n",
    "\n",
    "    parser.add_argument('--route_only', type=bool, default=False)  # exclude step info\n",
    "    parser.add_argument('--route_info', type=str, default='name')  # choose from ['name', 'pos', 'idx']\n",
    "    args = parser.parse_args(args=['--log_dir', '../logs/temp', '--env_dir', '../', '--background', '../logs/background.png'])\n",
    "\n",
    "    local_run(args.env_dir, args.log_dir, args.prefix, args.background, args.fps,\n",
    "              args.HP_red, args.TR_red, args.HP_blue, args.TR_blue, args.HP_color_off,\n",
    "              args.HP_froze_on, args.route_only, args.route_info)"
   ]
  }
 ],
 "metadata": {
  "kernelspec": {
   "display_name": "GflowsForSimulation_venv_real",
   "language": "python",
   "name": "python3"
  },
  "language_info": {
   "codemirror_mode": {
    "name": "ipython",
    "version": 3
   },
   "file_extension": ".py",
   "mimetype": "text/x-python",
   "name": "python",
   "nbconvert_exporter": "python",
   "pygments_lexer": "ipython3",
   "version": "3.8.10"
  }
 },
 "nbformat": 4,
 "nbformat_minor": 2
}
