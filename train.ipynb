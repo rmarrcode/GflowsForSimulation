{
 "cells": [
  {
   "cell_type": "code",
   "execution_count": 1,
   "metadata": {},
   "outputs": [
    {
     "name": "stderr",
     "output_type": "stream",
     "text": [
      "2024-05-02 13:57:42,832\tWARNING deprecation.py:47 -- DeprecationWarning: `ray.rllib.agents.dqn` has been deprecated. Use `ray.rllib.algorithms.[dqn|simple_q|r2d2|apex_dqn]` instead. This will raise an error in the future!\n"
     ]
    }
   ],
   "source": [
    "import torch\n",
    "import torch.nn as nn\n",
    "from torch.distributions.categorical import Categorical\n",
    "from tqdm import tqdm\n",
    "from datetime import datetime\n",
    "import matplotlib.pyplot as pp\n",
    "import numpy as np\n",
    "from ipywidgets import interact, IntSlider, fixed\n",
    "\n",
    "from sigma_graph.envs.figure8.action_lookup import MOVE_LOOKUP, TURN_90_LOOKUP\n",
    "from sigma_graph.envs.figure8.default_setup import OBS_TOKEN\n",
    "from sigma_graph.envs.figure8.figure8_squad_rllib import Figure8SquadRLLib\n",
    "from sigma_graph.envs.figure8.gflow_figure8_squad import GlowFigure8Squad\n",
    "#from graph_scout.envs.base import ScoutMissionStdRLLib\n",
    "import sigma_graph.envs.figure8.default_setup as default_setup\n",
    "from sigma_graph.data.file_manager import check_dir, find_file_in_dir, load_graph_files\n",
    "import model  # THIS NEEDS TO BE HERE IN ORDER TO RUN __init__.py!\n",
    "import model.utils as utils\n",
    "import model.gnn_gflow \n",
    "from trajectory import Trajectory\n",
    "import losses\n",
    "\n",
    "import torch.optim as optim\n",
    "import wandb\n",
    "import json\n",
    "import random\n",
    "import networkx as nx\n",
    "import matplotlib.pyplot as plt\n",
    "\n",
    "NUM_EPOCHS = 1000\n",
    "# default = 34\n",
    "BATCH_SIZE = 50\n",
    "LEARNING_RATE = 3e-4\n",
    "WANDB = True\n",
    "\n",
    "device = torch.device(\"cuda\" if torch.cuda.is_available() else \"cpu\")\n",
    "\n",
    "local_action_move = {\n",
    "    0: \"NOOP\",\n",
    "    1: \"N\",\n",
    "    2: \"S\",\n",
    "    3: \"W\",\n",
    "    4: \"E\",\n",
    "}\n",
    "\n",
    "def state_to_vec(state):\n",
    "    result = [0]*27\n",
    "    result[state-1] = 1\n",
    "    return torch.tensor(result).float()\n",
    "\n",
    "def compute_reward(state):\n",
    "    if state == 10:\n",
    "        return 2\n",
    "    if state == 2:\n",
    "        return 1\n",
    "    return 0\n",
    "\n",
    "def convert_discrete_action_to_multidiscrete(action):\n",
    "        return [action % len(local_action_move), action // len(local_action_move)]"
   ]
  },
  {
   "cell_type": "code",
   "execution_count": 2,
   "metadata": {},
   "outputs": [
    {
     "name": "stdout",
     "output_type": "stream",
     "text": [
      "fcn-single-coordinate-2024-05-02 13:57:43\n",
      "data_pat /home/rmarr/Documents/GflowsForSimulation_env/GflowsForSimulation/sigma_graph/data/parsed/info_list_pat_0_27.pickle\n"
     ]
    }
   ],
   "source": [
    "# Investigate loss rewar mirror\n",
    "# Try real reward\n",
    "# Make code cleaner \n",
    "# visualize flows \n",
    "\n",
    "config = {\n",
    "    \"custom_model_config\": {\n",
    "        \"custom_model\": \"fcn\", #fcn #attn_fcn\n",
    "        \"reward\": \"single\", #random_region random single complex\n",
    "        \"reward_interval\": \"step\", #trajectory \n",
    "        \"trajectory_per_reward\": 1,\n",
    "        \"embedding\": \"coordinate\", #number #coordinate\n",
    "        \"is_dynamic_embedding\": False,\n",
    "        \"trajectory_length\": 34,\n",
    "        \"nred\": 1,\n",
    "        \"nblue\": 1,\n",
    "        \"start_node\": 22,\n",
    "        \"aggregation_fn\": \"agent_node\",\n",
    "        \"hidden_size\": 15,\n",
    "        \"is_hybrid\": False,\n",
    "        \"conv_type\": \"gcn\",\n",
    "        \"layernorm\": False,\n",
    "        \"graph_obs_token\": {\"embed_opt\": False, \"embed_dir\": True},\n",
    "    },\n",
    "    \"env_config\": {\n",
    "        \"env_path\": \".\",\n",
    "        \"act_masked\": True,\n",
    "        \"init_red\": None,\n",
    "        \"init_blue\": None,\n",
    "        \"init_health_red\": 20,\n",
    "        \"init_health_blue\": 20,\n",
    "        \"obs_embed\": False,\n",
    "        \"obs_dir\": False,\n",
    "        \"obs_team\": True,\n",
    "        \"obs_sight\": False,\n",
    "        \"log_on\": True,\n",
    "        \"log_path\": \"logs/temp/\",\n",
    "        \"fixed_start\": -1,\n",
    "        \"penalty_stay\": 0,\n",
    "        \"threshold_damage_2_blue\": 2,\n",
    "        \"threshold_damage_2_red\": 5,\n",
    "    },\n",
    "}\n",
    "\n",
    "current_time = datetime.now()\n",
    "run_name = f\"{config['custom_model_config']['custom_model']}-{config['custom_model_config']['reward']}-{config['custom_model_config']['embedding']}-{current_time.strftime('%Y-%m-%d %H:%M:%S')}\"\n",
    "print(run_name)\n",
    "\n",
    "if WANDB:\n",
    "    wandb.init(\n",
    "        project=\"graph-training-simulation\",\n",
    "        config={\n",
    "                \"model_config\": config,\n",
    "                \"exp_config\": {\n",
    "                    \"learning_rate\": LEARNING_RATE,\n",
    "                    \"epocs\": NUM_EPOCHS,\n",
    "                    \"batch_size\": BATCH_SIZE\n",
    "            }\n",
    "        },\n",
    "        name=run_name\n",
    "    )\n",
    "\n",
    "gflowfigure8 = GlowFigure8Squad(sampler_config=config)\n",
    "optimizer = optim.AdamW(gflowfigure8.sampler.parameters(), lr=LEARNING_RATE)"
   ]
  },
  {
   "cell_type": "code",
   "execution_count": 3,
   "metadata": {},
   "outputs": [
    {
     "name": "stderr",
     "output_type": "stream",
     "text": [
      "  0%|          | 0/100000 [00:00<?, ?it/s]"
     ]
    },
    {
     "name": "stderr",
     "output_type": "stream",
     "text": [
      "  0%|          | 149/100000 [00:11<1:50:28, 15.06it/s]"
     ]
    },
    {
     "ename": "KeyboardInterrupt",
     "evalue": "",
     "output_type": "error",
     "traceback": [
      "\u001b[0;31m---------------------------------------------------------------------------\u001b[0m",
      "\u001b[0;31mKeyboardInterrupt\u001b[0m                         Traceback (most recent call last)",
      "Cell \u001b[0;32mIn[3], line 79\u001b[0m\n\u001b[1;32m     69\u001b[0m   wandb\u001b[38;5;241m.\u001b[39mlog({\n\u001b[1;32m     70\u001b[0m       \u001b[38;5;124m\"\u001b[39m\u001b[38;5;124mloss\u001b[39m\u001b[38;5;124m\"\u001b[39m: minibatch_loss\u001b[38;5;241m/\u001b[39mBATCH_SIZE, \n\u001b[1;32m     71\u001b[0m       \u001b[38;5;124m\"\u001b[39m\u001b[38;5;124mreward\u001b[39m\u001b[38;5;124m\"\u001b[39m:  minibatch_reward\u001b[38;5;241m/\u001b[39mBATCH_SIZE,\n\u001b[0;32m   (...)\u001b[0m\n\u001b[1;32m     74\u001b[0m       \u001b[38;5;124m\"\u001b[39m\u001b[38;5;124mz\u001b[39m\u001b[38;5;124m\"\u001b[39m: minibatch_z\u001b[38;5;241m/\u001b[39mBATCH_SIZE\n\u001b[1;32m     75\u001b[0m     })\n\u001b[1;32m     76\u001b[0m   \u001b[38;5;66;03m# for name, param in sampler.named_parameters():\u001b[39;00m\n\u001b[1;32m     77\u001b[0m   \u001b[38;5;66;03m#     wandb.log({f\"{name}_mean\": param.data.mean().item(), f\"{name}_std\": param.data.std().item()})\u001b[39;00m\n\u001b[0;32m---> 79\u001b[0m \u001b[43mminibatch_loss\u001b[49m\u001b[38;5;241;43m.\u001b[39;49m\u001b[43mbackward\u001b[49m\u001b[43m(\u001b[49m\u001b[43mretain_graph\u001b[49m\u001b[38;5;241;43m=\u001b[39;49m\u001b[38;5;28;43;01mTrue\u001b[39;49;00m\u001b[43m)\u001b[49m\n\u001b[1;32m     80\u001b[0m optimizer\u001b[38;5;241m.\u001b[39mstep()\n\u001b[1;32m     81\u001b[0m optimizer\u001b[38;5;241m.\u001b[39mzero_grad()\n",
      "File \u001b[0;32m~/Documents/GflowsForSimulation_env/GflowsForSimulation/.venv/lib/python3.8/site-packages/torch/_tensor.py:492\u001b[0m, in \u001b[0;36mTensor.backward\u001b[0;34m(self, gradient, retain_graph, create_graph, inputs)\u001b[0m\n\u001b[1;32m    482\u001b[0m \u001b[38;5;28;01mif\u001b[39;00m has_torch_function_unary(\u001b[38;5;28mself\u001b[39m):\n\u001b[1;32m    483\u001b[0m     \u001b[38;5;28;01mreturn\u001b[39;00m handle_torch_function(\n\u001b[1;32m    484\u001b[0m         Tensor\u001b[38;5;241m.\u001b[39mbackward,\n\u001b[1;32m    485\u001b[0m         (\u001b[38;5;28mself\u001b[39m,),\n\u001b[0;32m   (...)\u001b[0m\n\u001b[1;32m    490\u001b[0m         inputs\u001b[38;5;241m=\u001b[39minputs,\n\u001b[1;32m    491\u001b[0m     )\n\u001b[0;32m--> 492\u001b[0m \u001b[43mtorch\u001b[49m\u001b[38;5;241;43m.\u001b[39;49m\u001b[43mautograd\u001b[49m\u001b[38;5;241;43m.\u001b[39;49m\u001b[43mbackward\u001b[49m\u001b[43m(\u001b[49m\n\u001b[1;32m    493\u001b[0m \u001b[43m    \u001b[49m\u001b[38;5;28;43mself\u001b[39;49m\u001b[43m,\u001b[49m\u001b[43m \u001b[49m\u001b[43mgradient\u001b[49m\u001b[43m,\u001b[49m\u001b[43m \u001b[49m\u001b[43mretain_graph\u001b[49m\u001b[43m,\u001b[49m\u001b[43m \u001b[49m\u001b[43mcreate_graph\u001b[49m\u001b[43m,\u001b[49m\u001b[43m \u001b[49m\u001b[43minputs\u001b[49m\u001b[38;5;241;43m=\u001b[39;49m\u001b[43minputs\u001b[49m\n\u001b[1;32m    494\u001b[0m \u001b[43m\u001b[49m\u001b[43m)\u001b[49m\n",
      "File \u001b[0;32m~/Documents/GflowsForSimulation_env/GflowsForSimulation/.venv/lib/python3.8/site-packages/torch/autograd/__init__.py:251\u001b[0m, in \u001b[0;36mbackward\u001b[0;34m(tensors, grad_tensors, retain_graph, create_graph, grad_variables, inputs)\u001b[0m\n\u001b[1;32m    246\u001b[0m     retain_graph \u001b[38;5;241m=\u001b[39m create_graph\n\u001b[1;32m    248\u001b[0m \u001b[38;5;66;03m# The reason we repeat the same comment below is that\u001b[39;00m\n\u001b[1;32m    249\u001b[0m \u001b[38;5;66;03m# some Python versions print out the first line of a multi-line function\u001b[39;00m\n\u001b[1;32m    250\u001b[0m \u001b[38;5;66;03m# calls in the traceback and some print out the last line\u001b[39;00m\n\u001b[0;32m--> 251\u001b[0m \u001b[43mVariable\u001b[49m\u001b[38;5;241;43m.\u001b[39;49m\u001b[43m_execution_engine\u001b[49m\u001b[38;5;241;43m.\u001b[39;49m\u001b[43mrun_backward\u001b[49m\u001b[43m(\u001b[49m\u001b[43m  \u001b[49m\u001b[38;5;66;43;03m# Calls into the C++ engine to run the backward pass\u001b[39;49;00m\n\u001b[1;32m    252\u001b[0m \u001b[43m    \u001b[49m\u001b[43mtensors\u001b[49m\u001b[43m,\u001b[49m\n\u001b[1;32m    253\u001b[0m \u001b[43m    \u001b[49m\u001b[43mgrad_tensors_\u001b[49m\u001b[43m,\u001b[49m\n\u001b[1;32m    254\u001b[0m \u001b[43m    \u001b[49m\u001b[43mretain_graph\u001b[49m\u001b[43m,\u001b[49m\n\u001b[1;32m    255\u001b[0m \u001b[43m    \u001b[49m\u001b[43mcreate_graph\u001b[49m\u001b[43m,\u001b[49m\n\u001b[1;32m    256\u001b[0m \u001b[43m    \u001b[49m\u001b[43minputs\u001b[49m\u001b[43m,\u001b[49m\n\u001b[1;32m    257\u001b[0m \u001b[43m    \u001b[49m\u001b[43mallow_unreachable\u001b[49m\u001b[38;5;241;43m=\u001b[39;49m\u001b[38;5;28;43;01mTrue\u001b[39;49;00m\u001b[43m,\u001b[49m\n\u001b[1;32m    258\u001b[0m \u001b[43m    \u001b[49m\u001b[43maccumulate_grad\u001b[49m\u001b[38;5;241;43m=\u001b[39;49m\u001b[38;5;28;43;01mTrue\u001b[39;49;00m\u001b[43m,\u001b[49m\n\u001b[1;32m    259\u001b[0m \u001b[43m\u001b[49m\u001b[43m)\u001b[49m\n",
      "\u001b[0;31mKeyboardInterrupt\u001b[0m: "
     ]
    }
   ],
   "source": [
    "minibatch_loss = 0\n",
    "minibatch_reward = 0\n",
    "minibatch_z = 0\n",
    "minibatch_pf = 0\n",
    "minibatch_pb = 0\n",
    "\n",
    "pbar = tqdm(total=NUM_EPOCHS)\n",
    "episode = 0\n",
    "\n",
    "while episode <= NUM_EPOCHS:\n",
    "  \n",
    "  TEMP_AGENT_INDEX = 0\n",
    "  gflowfigure8._reset_agents()\n",
    "  \n",
    "  total_P_F = 0\n",
    "  total_P_B = 0\n",
    "  total_reward = 0\n",
    "\n",
    "  region_nodes = {15, 11, 10}\n",
    "\n",
    "  if config['custom_model_config']['reward'] == 'random':\n",
    "    reward_node = [random.randint(1, 27)]\n",
    "  elif config['custom_model_config']['reward'] == 'random_region':\n",
    "    reward_node = random.sample(region_nodes, 1)\n",
    "  elif config['custom_model_config']['reward'] == 'single':\n",
    "    reward_node = [17]\n",
    "  elif config['custom_model_config']['reward'] == 'complex':\n",
    "    reward_node = []\n",
    "  \n",
    "  if config['custom_model_config']['is_dynamic_embedding']:  \n",
    "    gflowfigure8.update_reward(reward_node)\n",
    "    \n",
    "  gflowfigure8.reset()\n",
    "\n",
    "  no_trajectory = config['custom_model_config']['trajectory_per_reward']\n",
    "  trajectory_length = config['custom_model_config']['trajectory_length']\n",
    "\n",
    "  for trajectory in range(no_trajectory):\n",
    "    trajectory_path = []\n",
    "    action_path = []\n",
    "    for t in range(trajectory_length):\n",
    "      step = gflowfigure8.step(TEMP_AGENT_INDEX, reward_node)  \n",
    "      total_P_F += step['forward_prob']\n",
    "      total_P_B += step['backward_prob']\n",
    "      total_reward += step['step_reward']\n",
    "      trajectory_path.append(step['red_node'])\n",
    "      action_path.append(step['action'])\n",
    "\n",
    "    logZ = gflowfigure8.sampler.logZ\n",
    "    \n",
    "    if config['custom_model_config']['reward'] == 'complex':\n",
    "      episode_reward = gflowfigure8._episode_rewards_aggressive()[0]\n",
    "      total_reward += episode_reward\n",
    "      \n",
    "    clipped_reward = torch.log(torch.tensor(total_reward)).clip(-20)\n",
    "\n",
    "    # clipped_reward = torch.log(torch.tensor(end_rewards)).clip(-20)\n",
    "\n",
    "    loss = (logZ + total_P_F - clipped_reward - total_P_B).pow(2)\n",
    "\n",
    "    minibatch_loss += loss\n",
    "    minibatch_reward += clipped_reward\n",
    "    minibatch_z += logZ\n",
    "    minibatch_pf += total_P_F\n",
    "    minibatch_pb += total_P_B\n",
    "\n",
    "    if (episode + 1) % BATCH_SIZE == 0:\n",
    "      if WANDB:\n",
    "        wandb.log({\n",
    "            \"loss\": minibatch_loss/BATCH_SIZE, \n",
    "            \"reward\":  minibatch_reward/BATCH_SIZE,\n",
    "            \"pf\": minibatch_pf/BATCH_SIZE,\n",
    "            \"pb\": minibatch_pb/BATCH_SIZE,\n",
    "            \"z\": minibatch_z/BATCH_SIZE\n",
    "          })\n",
    "        # for name, param in sampler.named_parameters():\n",
    "        #     wandb.log({f\"{name}_mean\": param.data.mean().item(), f\"{name}_std\": param.data.std().item()})\n",
    "      \n",
    "      minibatch_loss.backward(retain_graph=True)\n",
    "      optimizer.step()\n",
    "      optimizer.zero_grad()\n",
    "      minibatch_loss = 0\n",
    "      minibatch_reward = 0\n",
    "      minibatch_z = 0 \n",
    "      minibatch_pf = 0 \n",
    "      minibatch_pb = 0 \n",
    "\n",
    "    pbar.update(1)\n",
    "    episode = episode + 1"
   ]
  },
  {
   "cell_type": "code",
   "execution_count": null,
   "metadata": {},
   "outputs": [],
   "source": [
    "torch.save(gflowfigure8, f'models/{run_name}.pt')"
   ]
  },
  {
   "cell_type": "code",
   "execution_count": null,
   "metadata": {},
   "outputs": [
    {
     "name": "stdout",
     "output_type": "stream",
     "text": [
      "step_rewards 12\n",
      "episode_reward 4\n",
      "total_reward 16\n"
     ]
    }
   ],
   "source": [
    "gflowfigure8.reset()\n",
    "red_path = []\n",
    "blue_path = []\n",
    "total_reward = 0\n",
    "for r in range(34):   \n",
    "    step = gflowfigure8.step(0, [])\n",
    "    red_path.append(step['red_node'])\n",
    "    blue_path.append(step['blue_node'])\n",
    "    total_reward += step['step_reward']\n",
    "\n",
    "print(f'step_rewards {total_reward}')\n",
    "episode_reward = gflowfigure8._episode_rewards_aggressive()[0]\n",
    "print(f'episode_reward {episode_reward}')\n",
    "total_reward += episode_reward\n",
    "print(f'total_reward {total_reward}')"
   ]
  },
  {
   "cell_type": "code",
   "execution_count": null,
   "metadata": {},
   "outputs": [
    {
     "name": "stdout",
     "output_type": "stream",
     "text": [
      "data_pat /home/rmarr/Documents/GflowsForSimulation_env/GflowsForSimulation/sigma_graph/data/parsed/info_list_pat_0_27.pickle\n"
     ]
    },
    {
     "data": {
      "application/vnd.jupyter.widget-view+json": {
       "model_id": "7f84374b0a7544bdafa9f50df2eb6bf4",
       "version_major": 2,
       "version_minor": 0
      },
      "text/plain": [
       "interactive(children=(IntSlider(value=0, description='Graph Index', max=33), Output()), _dom_classes=('widget-…"
      ]
     },
     "metadata": {},
     "output_type": "display_data"
    },
    {
     "data": {
      "text/plain": [
       "<function __main__.display_graph(index)>"
      ]
     },
     "execution_count": 5,
     "metadata": {},
     "output_type": "execute_result"
    }
   ],
   "source": [
    "map_info, _ = load_graph_files(map_lookup=\"S\")\n",
    "col_map = [\"gold\"] * len(map_info.n_info)\n",
    "\n",
    "def display_graph(index):\n",
    "    fig, ax = plt.subplots(figsize=(8, 6))\n",
    "    cur_col_map = col_map[:]\n",
    "    cur_col_map[red_path[index]-1] = \"red\"\n",
    "    cur_col_map[blue_path[index]-1] = \"blue\"\n",
    "    nx.draw_networkx(map_info.g_acs, pos=map_info.n_info, node_color=cur_col_map, edge_color=\"blue\", arrows=True, ax=ax)\n",
    "    ax.set_title(f\"Graph {index}\")\n",
    "    plt.axis('off')\n",
    "    plt.show()\n",
    "\n",
    "# Create an interactive widget to display different graphs\n",
    "slider = IntSlider(min=0, max=33, step=1, value=0, description='Graph Index')\n",
    "interact(display_graph, index=slider)"
   ]
  },
  {
   "cell_type": "code",
   "execution_count": null,
   "metadata": {},
   "outputs": [
    {
     "name": "stdout",
     "output_type": "stream",
     "text": [
      "{0: {'NOOP': -60.4727771107851, 'N': 106.27830927735266, 'S': 242.67455391701216, 'W': -21.35154864633226, 'E': -106.26484738761201}, 1: {'NOOP': -60.62052341163985, 'N': 106.51415441047577, 'S': 243.20142030698946, 'W': -21.377637016729825, 'E': -106.51581788033972}, 2: {'NOOP': -60.884469958495, 'N': 106.26572812061877, 'S': 242.2664891177544, 'W': -20.679572532407548, 'E': -106.7256073645218}, 3: {'NOOP': -61.26943022359417, 'N': 106.22777940943796, 'S': 241.81157183297717, 'W': -20.022116900628873, 'E': -107.14712186935677}, 4: {'NOOP': -61.47521817445265, 'N': 106.47863574458235, 'S': 242.32792696759202, 'W': -19.972130412177375, 'E': -107.46903035471004}, 5: {'NOOP': -61.65480289514416, 'N': 106.14886286625207, 'S': 241.24151965554037, 'W': -19.318452165137728, 'E': -107.55450986421928}, 6: {'NOOP': -61.99729756402821, 'N': 106.14041056775649, 'S': 240.9076854935018, 'W': -18.761662649227198, 'E': -107.93854180451586}, 7: {'NOOP': -62.21665800941746, 'N': 106.38346676412178, 'S': 241.3898994245467, 'W': -18.68131136784642, 'E': -108.27300977092031}, 8: {'NOOP': -62.411818783897566, 'N': 106.09820150049799, 'S': 240.4140639798713, 'W': -18.05222437782588, 'E': -108.39194470851669}, 9: {'NOOP': -62.8024643476756, 'N': 106.10590829430123, 'S': 240.06159508071894, 'W': -17.42221532576602, 'E': -108.82992166233554}, 10: {'NOOP': -62.98584824408649, 'N': 106.36325884344211, 'S': 240.61062287469076, 'W': -17.41118485008772, 'E': -109.127043950737}, 11: {'NOOP': -60.91684082625104, 'N': 106.90390901271165, 'S': 244.0248833016251, 'W': -21.337395550099764, 'E': -106.98950584585013}, 12: {'NOOP': -61.727891246492646, 'N': 106.76364334200765, 'S': 242.8974902287011, 'W': -19.885180804042093, 'E': -107.85608678870122}, 13: {'NOOP': -62.424449519533695, 'N': 106.68663085275179, 'S': 242.05096763010778, 'W': -18.68628092934332, 'E': -108.61581420330961}, 14: {'NOOP': -63.23289238257699, 'N': 106.6288045684909, 'S': 241.1247562888393, 'W': -17.311494062438104, 'E': -109.4874576524592}, 15: {'NOOP': -63.36380553405133, 'N': 106.39107269644983, 'S': 240.33298216578524, 'W': -16.849462611155424, 'E': -109.50200356786078}, 16: {'NOOP': -63.57723428992388, 'N': 106.64687570361279, 'S': 240.85452215489133, 'W': -16.79527572990488, 'E': -109.82331039061927}, 17: {'NOOP': -61.265287699911916, 'N': 107.30952688818441, 'S': 244.84557588666897, 'W': -21.231475752545364, 'E': -107.52775412415303}, 18: {'NOOP': -62.180852484887865, 'N': 107.25939151378769, 'S': 243.87601457753624, 'W': -19.712432131667377, 'E': -108.54454751823994}, 19: {'NOOP': -62.82877752412471, 'N': 107.154323758599, 'S': 242.99494336447736, 'W': -18.560067113732657, 'E': -109.2393228628256}, 20: {'NOOP': -63.45808091950927, 'N': 107.14910827894693, 'S': 242.38314138852667, 'W': -17.529341148998967, 'E': -109.94024681028168}, 21: {'NOOP': -63.8598649719347, 'N': 107.21450924143042, 'S': 242.1899383279608, 'W': -16.97222001114783, 'E': -110.35466922192037}, 22: {'NOOP': -63.99723699412247, 'N': 106.75001675858688, 'S': 240.75336417187083, 'W': -16.2537496640144, 'E': -110.27047076317868}, 23: {'NOOP': -64.26376240127033, 'N': 107.07396242096794, 'S': 241.41893146907816, 'W': -16.193950816332183, 'E': -110.67712058026127}, 24: {'NOOP': -61.631175685977084, 'N': 107.23926255499312, 'S': 244.31740575857287, 'W': -20.568572337908073, 'E': -107.91620495813113}, 25: {'NOOP': -62.49245049282983, 'N': 107.22032773571269, 'S': 243.48440926372015, 'W': -19.17098788874725, 'E': -108.88276042801336}, 26: {'NOOP': -63.12921900324445, 'N': 107.1344000407836, 'S': 242.66705743251794, 'W': -18.057734609977715, 'E': -109.57174572861132}}\n",
      "flows {0: {'NOOP': -60.4727771107851, 'N': 106.27830927735266, 'S': 242.67455391701216, 'W': -21.35154864633226, 'E': -106.26484738761201}, 1: {'NOOP': -60.62052341163985, 'N': 106.51415441047577, 'S': 243.20142030698946, 'W': -21.377637016729825, 'E': -106.51581788033972}, 2: {'NOOP': -60.884469958495, 'N': 106.26572812061877, 'S': 242.2664891177544, 'W': -20.679572532407548, 'E': -106.7256073645218}, 3: {'NOOP': -61.26943022359417, 'N': 106.22777940943796, 'S': 241.81157183297717, 'W': -20.022116900628873, 'E': -107.14712186935677}, 4: {'NOOP': -61.47521817445265, 'N': 106.47863574458235, 'S': 242.32792696759202, 'W': -19.972130412177375, 'E': -107.46903035471004}, 5: {'NOOP': -61.65480289514416, 'N': 106.14886286625207, 'S': 241.24151965554037, 'W': -19.318452165137728, 'E': -107.55450986421928}, 6: {'NOOP': -61.99729756402821, 'N': 106.14041056775649, 'S': 240.9076854935018, 'W': -18.761662649227198, 'E': -107.93854180451586}, 7: {'NOOP': -62.21665800941746, 'N': 106.38346676412178, 'S': 241.3898994245467, 'W': -18.68131136784642, 'E': -108.27300977092031}, 8: {'NOOP': -62.411818783897566, 'N': 106.09820150049799, 'S': 240.4140639798713, 'W': -18.05222437782588, 'E': -108.39194470851669}, 9: {'NOOP': -62.8024643476756, 'N': 106.10590829430123, 'S': 240.06159508071894, 'W': -17.42221532576602, 'E': -108.82992166233554}, 10: {'NOOP': -62.98584824408649, 'N': 106.36325884344211, 'S': 240.61062287469076, 'W': -17.41118485008772, 'E': -109.127043950737}, 11: {'NOOP': -60.91684082625104, 'N': 106.90390901271165, 'S': 244.0248833016251, 'W': -21.337395550099764, 'E': -106.98950584585013}, 12: {'NOOP': -61.727891246492646, 'N': 106.76364334200765, 'S': 242.8974902287011, 'W': -19.885180804042093, 'E': -107.85608678870122}, 13: {'NOOP': -62.424449519533695, 'N': 106.68663085275179, 'S': 242.05096763010778, 'W': -18.68628092934332, 'E': -108.61581420330961}, 14: {'NOOP': -63.23289238257699, 'N': 106.6288045684909, 'S': 241.1247562888393, 'W': -17.311494062438104, 'E': -109.4874576524592}, 15: {'NOOP': -63.36380553405133, 'N': 106.39107269644983, 'S': 240.33298216578524, 'W': -16.849462611155424, 'E': -109.50200356786078}, 16: {'NOOP': -63.57723428992388, 'N': 106.64687570361279, 'S': 240.85452215489133, 'W': -16.79527572990488, 'E': -109.82331039061927}, 17: {'NOOP': -61.265287699911916, 'N': 107.30952688818441, 'S': 244.84557588666897, 'W': -21.231475752545364, 'E': -107.52775412415303}, 18: {'NOOP': -62.180852484887865, 'N': 107.25939151378769, 'S': 243.87601457753624, 'W': -19.712432131667377, 'E': -108.54454751823994}, 19: {'NOOP': -62.82877752412471, 'N': 107.154323758599, 'S': 242.99494336447736, 'W': -18.560067113732657, 'E': -109.2393228628256}, 20: {'NOOP': -63.45808091950927, 'N': 107.14910827894693, 'S': 242.38314138852667, 'W': -17.529341148998967, 'E': -109.94024681028168}, 21: {'NOOP': -63.8598649719347, 'N': 107.21450924143042, 'S': 242.1899383279608, 'W': -16.97222001114783, 'E': -110.35466922192037}, 22: {'NOOP': -63.99723699412247, 'N': 106.75001675858688, 'S': 240.75336417187083, 'W': -16.2537496640144, 'E': -110.27047076317868}, 23: {'NOOP': -64.26376240127033, 'N': 107.07396242096794, 'S': 241.41893146907816, 'W': -16.193950816332183, 'E': -110.67712058026127}, 24: {'NOOP': -61.631175685977084, 'N': 107.23926255499312, 'S': 244.31740575857287, 'W': -20.568572337908073, 'E': -107.91620495813113}, 25: {'NOOP': -62.49245049282983, 'N': 107.22032773571269, 'S': 243.48440926372015, 'W': -19.17098788874725, 'E': -108.88276042801336}, 26: {'NOOP': -63.12921900324445, 'N': 107.1344000407836, 'S': 242.66705743251794, 'W': -18.057734609977715, 'E': -109.57174572861132}}\n",
      "data_pat /home/rmarr/Documents/GflowsForSimulation_env/GflowsForSimulation/sigma_graph/data/parsed/info_list_pat_0_27.pickle\n"
     ]
    },
    {
     "ename": "IndexError",
     "evalue": "list index out of range",
     "output_type": "error",
     "traceback": [
      "\u001b[0;31m---------------------------------------------------------------------------\u001b[0m",
      "\u001b[0;31mIndexError\u001b[0m                                Traceback (most recent call last)",
      "Cell \u001b[0;32mIn[7], line 68\u001b[0m\n\u001b[1;32m     66\u001b[0m     flow \u001b[38;5;241m=\u001b[39m \u001b[38;5;28mint\u001b[39m((dir_flows[op]) \u001b[38;5;241m*\u001b[39m \u001b[38;5;241m99\u001b[39m)\n\u001b[1;32m     67\u001b[0m     dx, dy \u001b[38;5;241m=\u001b[39m op_to_dir[op]\n\u001b[0;32m---> 68\u001b[0m     plt\u001b[38;5;241m.\u001b[39marrow(x, y, dx\u001b[38;5;241m*\u001b[39mscale_factor, dy\u001b[38;5;241m*\u001b[39mscale_factor, color\u001b[38;5;241m=\u001b[39m\u001b[43mcolors\u001b[49m\u001b[43m[\u001b[49m\u001b[43mflow\u001b[49m\u001b[43m]\u001b[49m, alpha\u001b[38;5;241m=\u001b[39m\u001b[38;5;241m1\u001b[39m, width\u001b[38;5;241m=\u001b[39m\u001b[38;5;241m0.1\u001b[39m, head_width\u001b[38;5;241m=\u001b[39m\u001b[38;5;241m1\u001b[39m)\n\u001b[1;32m     70\u001b[0m circle_radius \u001b[38;5;241m=\u001b[39m \u001b[38;5;241m1.00\u001b[39m \n\u001b[1;32m     71\u001b[0m circle_center_x \u001b[38;5;241m=\u001b[39m x \u001b[38;5;241m+\u001b[39m circle_radius  \n",
      "\u001b[0;31mIndexError\u001b[0m: list index out of range"
     ]
    },
    {
     "data": {
      "image/png": "[encoded data removed]",
      "text/plain": [
       "<Figure size 432x288 with 1 Axes>"
      ]
     },
     "metadata": {},
     "output_type": "display_data"
    }
   ],
   "source": [
    "# TODO: there has to be a better way to do this\n",
    "def norm_dict(unnorm):\n",
    "    min_val = 9999999\n",
    "    for key in unnorm:\n",
    "        min_val = min(unnorm[key], min_val)\n",
    "    for key in unnorm:\n",
    "        unnorm[key] = unnorm[key] + (min(min_val, 0) * -1)\n",
    "    sum = 0\n",
    "    for key in unnorm:\n",
    "        sum += unnorm[key]\n",
    "    for key in unnorm:\n",
    "        unnorm[key] /= sum\n",
    "        \n",
    "gflowfigure8._reset_agents()\n",
    "state_dirs = {}\n",
    "for node in range(27):\n",
    "    states = [[0, 0, 0, 0, 0, 0, 0, 0, 0, 0, 0, 0, 0, 0, 0, 0, 0, 0, 0, 0, 0, 0, 0, 0, 0, 0, 0]]\n",
    "    states[0][node] = 1\n",
    "    device = torch.device(\"cuda\" if torch.cuda.is_available() else \"cpu\")\n",
    "    state = torch.tensor(np.array([states[0],], dtype=np.int8)).to(device)\n",
    "    probs = gflowfigure8.sampler.forward(state, 1)\n",
    "    # (forward_prob, action) = gflowfigure8.probs_to_action(probs)\n",
    "    total_probs = {}\n",
    "    total_probs[\"NOOP\"] = (probs[0]+probs[5]+probs[10]).tolist()\n",
    "    total_probs[\"N\"] = (probs[1]+probs[6]+probs[11]).tolist()\n",
    "    total_probs[\"S\"] = (probs[2]+probs[7]+probs[12]).tolist()\n",
    "    total_probs[\"W\"] = (probs[3]+probs[8]+probs[13]).tolist()\n",
    "    total_probs[\"E\"] = (probs[4]+probs[9]+probs[14]).tolist()\n",
    "    #norm_dict(total_probs)\n",
    "\n",
    "    state_dirs[node] = total_probs\n",
    "\n",
    "print(state_dirs)\n",
    "flows = state_dirs\n",
    "print(f'flows {flows}')\n",
    "map_info, _ = load_graph_files(map_lookup=\"S\")\n",
    "\n",
    "fig = plt.figure()\n",
    "fig.patch.set_alpha(0.)\n",
    "fig.tight_layout()\n",
    "\n",
    "plt.axis('off')\n",
    "\n",
    "col_map = [\"gold\"] * len(map_info.n_info)\n",
    "\n",
    "nx.draw_networkx(map_info.g_acs, map_info.n_info, node_color=col_map, edge_color=\"blue\", arrows=True)\n",
    "\n",
    "max_x = max(pos[0] for pos in map_info.n_info.values())\n",
    "max_y = max(pos[1] for pos in map_info.n_info.values())\n",
    "scale_factor = max(max_x, max_y) / 2000\n",
    "op_to_dir = {\n",
    "    'N': (0, 1), \n",
    "    'S': (0, -1), \n",
    "    'W': (-1, 0),\n",
    "    'E': (1, 0)\n",
    "}\n",
    "for node in map_info.g_acs.nodes:\n",
    "    pos = map_info.n_info[node]\n",
    "    x, y = pos\n",
    "    dir_flows = flows[node-1]\n",
    "\n",
    "    color_vals = np.linspace(0, 1.75, 100)\n",
    "    colors = [(color, 0, 0, 0) for color in color_vals]\n",
    "\n",
    "    for op in ['N', 'S', 'W', 'E']:\n",
    "        flow = int((dir_flows[op]) * 99)\n",
    "        dx, dy = op_to_dir[op]\n",
    "        plt.arrow(x, y, dx*scale_factor, dy*scale_factor, color=colors[flow], alpha=1, width=0.1, head_width=1)\n",
    "\n",
    "    circle_radius = 1.00 \n",
    "    circle_center_x = x + circle_radius  \n",
    "    circle_center_y = y + circle_radius \n",
    "\n",
    "    flow = int((dir_flows['NOOP']) * 99)\n",
    "\n",
    "    circle = plt.Circle((circle_center_x, circle_center_y), circle_radius, color=colors[flow], alpha=0.8, fill=False, linewidth=2)\n",
    "\n",
    "    plt.gca().add_patch(circle)\n",
    "\n",
    "\n",
    "plt.close()"
   ]
  }
 ],
 "metadata": {
  "kernelspec": {
   "display_name": ".venv",
   "language": "python",
   "name": "python3"
  },
  "language_info": {
   "codemirror_mode": {
    "name": "ipython",
    "version": 3
   },
   "file_extension": ".py",
   "mimetype": "text/x-python",
   "name": "python",
   "nbconvert_exporter": "python",
   "pygments_lexer": "ipython3",
   "version": "3.8.10"
  },
  "orig_nbformat": 4
 },
 "nbformat": 4,
 "nbformat_minor": 2
}
