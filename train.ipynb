{
 "cells": [
  {
   "cell_type": "code",
   "execution_count": 1,
   "metadata": {},
   "outputs": [
    {
     "name": "stderr",
     "output_type": "stream",
     "text": [
      "2024-02-06 12:22:14,179\tWARNING deprecation.py:47 -- DeprecationWarning: `ray.rllib.agents.dqn` has been deprecated. Use `ray.rllib.algorithms.[dqn|simple_q|r2d2|apex_dqn]` instead. This will raise an error in the future!\n"
     ]
    }
   ],
   "source": [
    "# general\n",
    "import argparse\n",
    "import pickle\n",
    "import torch\n",
    "import time\n",
    "import tempfile\n",
    "import numpy as np\n",
    "import random\n",
    "import os\n",
    "import wandb\n",
    "#from ray.rllib.agents import ppo, dqn, pg, a3c, impala\n",
    "from tqdm import tnrange\n",
    "\n",
    "# our code\n",
    "from sigma_graph.envs.figure8.action_lookup import MOVE_LOOKUP, TURN_90_LOOKUP\n",
    "from sigma_graph.envs.figure8.default_setup import OBS_TOKEN\n",
    "from sigma_graph.envs.figure8.figure8_squad_rllib import Figure8SquadRLLib\n",
    "from sigma_graph.envs.figure8.gflow_figure8_squad import GlowFigure8Squad\n",
    "#from graph_scout.envs.base import ScoutMissionStdRLLib\n",
    "import sigma_graph.envs.figure8.default_setup as default_setup\n",
    "import model  # THIS NEEDS TO BE HERE IN ORDER TO RUN __init__.py!\n",
    "import model.utils as utils\n",
    "import model.gnn_gflow \n",
    "from trajectory import Trajectory\n",
    "import losses\n",
    "import torch.optim as optim"
   ]
  },
  {
   "cell_type": "code",
   "execution_count": 2,
   "metadata": {},
   "outputs": [],
   "source": [
    "WANDB = True\n",
    "SEED = 0\n",
    "LEARNING_RATE = 1e-3\n",
    "EPOCHS = 300000\n",
    "BATCH_SIZE = 500"
   ]
  },
  {
   "cell_type": "code",
   "execution_count": 3,
   "metadata": {},
   "outputs": [
    {
     "name": "stderr",
     "output_type": "stream",
     "text": [
      "Failed to detect the name of this notebook, you can set it manually with the WANDB_NOTEBOOK_NAME environment variable to enable code saving.\n",
      "\u001b[34m\u001b[1mwandb\u001b[0m: Currently logged in as: \u001b[33mr-marr747\u001b[0m. Use \u001b[1m`wandb login --relogin`\u001b[0m to force relogin\n"
     ]
    },
    {
     "data": {
      "text/html": [
       "wandb version 0.16.3 is available!  To upgrade, please run:\n",
       " $ pip install wandb --upgrade"
      ],
      "text/plain": [
       "<IPython.core.display.HTML object>"
      ]
     },
     "metadata": {},
     "output_type": "display_data"
    },
    {
     "data": {
      "text/html": [
       "Tracking run with wandb version 0.16.1"
      ],
      "text/plain": [
       "<IPython.core.display.HTML object>"
      ]
     },
     "metadata": {},
     "output_type": "display_data"
    },
    {
     "data": {
      "text/html": [
       "Run data is saved locally in <code>/Users/ryanmarr/Documents/CognArch/GflowsForSimulation/wandb/run-20240206_122215-53fste2z</code>"
      ],
      "text/plain": [
       "<IPython.core.display.HTML object>"
      ]
     },
     "metadata": {},
     "output_type": "display_data"
    },
    {
     "data": {
      "text/html": [
       "Syncing run <strong><a href='https://wandb.ai/r-marr747/graph-training-simulation/runs/53fste2z' target=\"_blank\">hearty-jazz-137</a></strong> to <a href='https://wandb.ai/r-marr747/graph-training-simulation' target=\"_blank\">Weights & Biases</a> (<a href='https://wandb.me/run' target=\"_blank\">docs</a>)<br/>"
      ],
      "text/plain": [
       "<IPython.core.display.HTML object>"
      ]
     },
     "metadata": {},
     "output_type": "display_data"
    },
    {
     "data": {
      "text/html": [
       " View project at <a href='https://wandb.ai/r-marr747/graph-training-simulation' target=\"_blank\">https://wandb.ai/r-marr747/graph-training-simulation</a>"
      ],
      "text/plain": [
       "<IPython.core.display.HTML object>"
      ]
     },
     "metadata": {},
     "output_type": "display_data"
    },
    {
     "data": {
      "text/html": [
       " View run at <a href='https://wandb.ai/r-marr747/graph-training-simulation/runs/53fste2z' target=\"_blank\">https://wandb.ai/r-marr747/graph-training-simulation/runs/53fste2z</a>"
      ],
      "text/plain": [
       "<IPython.core.display.HTML object>"
      ]
     },
     "metadata": {},
     "output_type": "display_data"
    }
   ],
   "source": [
    "if WANDB:\n",
    "    wandb.login()\n",
    "    wandb.init(\n",
    "        project=\"graph-training-simulation\",\n",
    "        config={\n",
    "            \"learning_rate\": LEARNING_RATE,\n",
    "            \"epochs\": EPOCHS,\n",
    "            \"batch_size\": BATCH_SIZE,\n",
    "            \"seed\": SEED\n",
    "        }\n",
    "    )"
   ]
  },
  {
   "cell_type": "code",
   "execution_count": 4,
   "metadata": {},
   "outputs": [],
   "source": [
    "config = {\n",
    "    \"custom_model\": \"graph_transformer_policy\",\n",
    "    \"custom_model_config\": {\n",
    "        \"nred\": 1,\n",
    "        \"nblue\": 1,\n",
    "        \"aggregation_fn\": \"agent_node\",\n",
    "        \"hidden_size\": 10,\n",
    "        \"is_hybrid\": False,\n",
    "        \"conv_type\": \"gcn\",\n",
    "        \"layernorm\": False,\n",
    "        \"graph_obs_token\": {\"embed_opt\": False, \"embed_dir\": True},\n",
    "    },\n",
    "    \"env_config\": {\n",
    "        \"env_path\": \".\",\n",
    "        \"act_masked\": True,\n",
    "        \"init_red\": None,\n",
    "        \"init_blue\": None,\n",
    "        \"init_health_red\": 20,\n",
    "        \"init_health_blue\": 20,\n",
    "        \"obs_embed\": False,\n",
    "        \"obs_dir\": False,\n",
    "        \"obs_team\": True,\n",
    "        \"obs_sight\": False,\n",
    "        \"log_on\": False,\n",
    "        \"log_path\": \"logs/temp/\",\n",
    "        \"fixed_start\": -1,\n",
    "        \"penalty_stay\": 0,\n",
    "        \"threshold_damage_2_blue\": 2,\n",
    "        \"threshold_damage_2_red\": 5,\n",
    "    },\n",
    "}"
   ]
  },
  {
   "cell_type": "code",
   "execution_count": 5,
   "metadata": {},
   "outputs": [
    {
     "data": {
      "text/plain": [
       "<torch._C.Generator at 0x1084082b0>"
      ]
     },
     "execution_count": 5,
     "metadata": {},
     "output_type": "execute_result"
    }
   ],
   "source": [
    "random.seed(SEED)\n",
    "np.random.seed(SEED)\n",
    "torch.manual_seed(SEED)"
   ]
  },
  {
   "cell_type": "code",
   "execution_count": 6,
   "metadata": {},
   "outputs": [
    {
     "name": "stdout",
     "output_type": "stream",
     "text": [
      "---------------\n",
      "path_data ./GflowsForSimulation/sigma_graph/data/parsed/\n",
      "/Users/ryanmarr/Documents/CognArch/GflowsForSimulation\n"
     ]
    }
   ],
   "source": [
    "gflowfigure8 = GlowFigure8Squad(sampler_config=config)\n",
    "# 25, '11_0110'"
   ]
  },
  {
   "attachments": {},
   "cell_type": "markdown",
   "metadata": {},
   "source": [
    "random.seed(SEED)\n",
    "np.random.seed(SEED)\n",
    "torch.manual_seed(SEED)\n",
    "\n",
    "gflowfigure8 = GlowFigure8Squad(sampler_config=config)"
   ]
  },
  {
   "cell_type": "code",
   "execution_count": 11,
   "metadata": {},
   "outputs": [
    {
     "ename": "KeyboardInterrupt",
     "evalue": "",
     "output_type": "error",
     "traceback": [
      "\u001b[0;31m---------------------------------------------------------------------------\u001b[0m",
      "\u001b[0;31mKeyboardInterrupt\u001b[0m                         Traceback (most recent call last)",
      "Cell \u001b[0;32mIn[11], line 42\u001b[0m\n\u001b[1;32m     39\u001b[0m         \u001b[39mfor\u001b[39;00m name, param \u001b[39min\u001b[39;00m gflowfigure8\u001b[39m.\u001b[39msampler_fcn\u001b[39m.\u001b[39mnamed_parameters():\n\u001b[1;32m     40\u001b[0m             wandb\u001b[39m.\u001b[39mlog({\u001b[39mf\u001b[39m\u001b[39m\"\u001b[39m\u001b[39m{\u001b[39;00mname\u001b[39m}\u001b[39;00m\u001b[39m_mean\u001b[39m\u001b[39m\"\u001b[39m: param\u001b[39m.\u001b[39mdata\u001b[39m.\u001b[39mmean()\u001b[39m.\u001b[39mitem(), \u001b[39mf\u001b[39m\u001b[39m\"\u001b[39m\u001b[39m{\u001b[39;00mname\u001b[39m}\u001b[39;00m\u001b[39m_std\u001b[39m\u001b[39m\"\u001b[39m: param\u001b[39m.\u001b[39mdata\u001b[39m.\u001b[39mstd()\u001b[39m.\u001b[39mitem()})\n\u001b[0;32m---> 42\u001b[0m episode_loss\u001b[39m.\u001b[39;49mbackward()\n\u001b[1;32m     43\u001b[0m optimizer\u001b[39m.\u001b[39mstep()\n\u001b[1;32m     44\u001b[0m optimizer\u001b[39m.\u001b[39mzero_grad()\n",
      "File \u001b[0;32m~/Documents/CognArch/.cogn_arch/lib/python3.10/site-packages/torch/_tensor.py:492\u001b[0m, in \u001b[0;36mTensor.backward\u001b[0;34m(self, gradient, retain_graph, create_graph, inputs)\u001b[0m\n\u001b[1;32m    482\u001b[0m \u001b[39mif\u001b[39;00m has_torch_function_unary(\u001b[39mself\u001b[39m):\n\u001b[1;32m    483\u001b[0m     \u001b[39mreturn\u001b[39;00m handle_torch_function(\n\u001b[1;32m    484\u001b[0m         Tensor\u001b[39m.\u001b[39mbackward,\n\u001b[1;32m    485\u001b[0m         (\u001b[39mself\u001b[39m,),\n\u001b[0;32m   (...)\u001b[0m\n\u001b[1;32m    490\u001b[0m         inputs\u001b[39m=\u001b[39minputs,\n\u001b[1;32m    491\u001b[0m     )\n\u001b[0;32m--> 492\u001b[0m torch\u001b[39m.\u001b[39;49mautograd\u001b[39m.\u001b[39;49mbackward(\n\u001b[1;32m    493\u001b[0m     \u001b[39mself\u001b[39;49m, gradient, retain_graph, create_graph, inputs\u001b[39m=\u001b[39;49minputs\n\u001b[1;32m    494\u001b[0m )\n",
      "File \u001b[0;32m~/Documents/CognArch/.cogn_arch/lib/python3.10/site-packages/torch/autograd/__init__.py:251\u001b[0m, in \u001b[0;36mbackward\u001b[0;34m(tensors, grad_tensors, retain_graph, create_graph, grad_variables, inputs)\u001b[0m\n\u001b[1;32m    246\u001b[0m     retain_graph \u001b[39m=\u001b[39m create_graph\n\u001b[1;32m    248\u001b[0m \u001b[39m# The reason we repeat the same comment below is that\u001b[39;00m\n\u001b[1;32m    249\u001b[0m \u001b[39m# some Python versions print out the first line of a multi-line function\u001b[39;00m\n\u001b[1;32m    250\u001b[0m \u001b[39m# calls in the traceback and some print out the last line\u001b[39;00m\n\u001b[0;32m--> 251\u001b[0m Variable\u001b[39m.\u001b[39;49m_execution_engine\u001b[39m.\u001b[39;49mrun_backward(  \u001b[39m# Calls into the C++ engine to run the backward pass\u001b[39;49;00m\n\u001b[1;32m    252\u001b[0m     tensors,\n\u001b[1;32m    253\u001b[0m     grad_tensors_,\n\u001b[1;32m    254\u001b[0m     retain_graph,\n\u001b[1;32m    255\u001b[0m     create_graph,\n\u001b[1;32m    256\u001b[0m     inputs,\n\u001b[1;32m    257\u001b[0m     allow_unreachable\u001b[39m=\u001b[39;49m\u001b[39mTrue\u001b[39;49;00m,\n\u001b[1;32m    258\u001b[0m     accumulate_grad\u001b[39m=\u001b[39;49m\u001b[39mTrue\u001b[39;49;00m,\n\u001b[1;32m    259\u001b[0m )\n",
      "\u001b[0;31mKeyboardInterrupt\u001b[0m: "
     ]
    }
   ],
   "source": [
    "optimizer = optim.AdamW(gflowfigure8.sampler_fcn.parameters(), lr=LEARNING_RATE)\n",
    "\n",
    "batch_loss = 0\n",
    "batch_num = 0\n",
    "batch_reward = 0\n",
    "\n",
    "minibatch_loss = 0\n",
    "minibatch_reward = 0\n",
    "\n",
    "for i in range(EPOCHS):\n",
    "    trajectory = Trajectory()\n",
    "    gflowfigure8._reset_agents()\n",
    "    for _ in range(20):   \n",
    "        for a_id in range(config['custom_model_config']['nred']):\n",
    "            step = gflowfigure8.step(a_id)\n",
    "            trajectory.add_step(\n",
    "                forward_prob=step['forward_prob'],\n",
    "                backward_prob=step['backward_prob'],\n",
    "                # flow=step['flow'],\n",
    "                # action=step['action'],\n",
    "                reward=step['step_reward'],\n",
    "                # node=step['node']\n",
    "            )\n",
    "\n",
    "    logZ = gflowfigure8.sampler_fcn.logZ\n",
    "    episode_loss = losses.Losses.trajectory_balance(trajectory, logZ)\n",
    "    \n",
    "    episode_reward = trajectory.rewards\n",
    "\n",
    "    batch_num = batch_num + 1\n",
    "    batch_loss += episode_loss\n",
    "    batch_reward += episode_reward\n",
    "\n",
    "    if batch_num % BATCH_SIZE == 0:\n",
    "        if WANDB:\n",
    "            wandb.log({\"loss\": batch_loss/BATCH_SIZE, \"reward\":  batch_reward/BATCH_SIZE})\n",
    "            batch_loss = 0\n",
    "            batch_reward = 0\n",
    "            for name, param in gflowfigure8.sampler_fcn.named_parameters():\n",
    "                wandb.log({f\"{name}_mean\": param.data.mean().item(), f\"{name}_std\": param.data.std().item()})\n",
    "\n",
    "    episode_loss.backward()\n",
    "    optimizer.step()\n",
    "    optimizer.zero_grad()"
   ]
  },
  {
   "cell_type": "code",
   "execution_count": 8,
   "metadata": {},
   "outputs": [
    {
     "name": "stdout",
     "output_type": "stream",
     "text": [
      "{0: {'NOOP': -8.268583186501372, 'N': -7.372467926049602, 'S': -8.094081168187596, 'W': -8.714105078330345, 'E': -8.34197791149142}, 1: {'NOOP': -7.989169240276983, 'N': -8.429453397781996, 'S': -8.558959676534016, 'W': -7.989027128987622, 'E': -7.734271737759707}, 2: {'NOOP': -8.219692872446817, 'N': -8.228478331694099, 'S': -8.232860806543997, 'W': -8.388799794829199, 'E': -7.614703019079005}, 3: {'NOOP': -8.249323730104553, 'N': -8.489449043159564, 'S': -8.13092456033508, 'W': -7.971445468956761, 'E': -7.826401634263799}, 4: {'NOOP': -8.148759543743694, 'N': -8.25205655393381, 'S': -7.94118358497925, 'W': -8.194708210854905, 'E': -8.094218214944338}, 5: {'NOOP': -8.177092812324275, 'N': -8.326954968024875, 'S': -8.236814066198221, 'W': -7.612063352287366, 'E': -8.33808238117872}, 6: {'NOOP': -8.367796025895304, 'N': -8.780694667949426, 'S': -8.170630384010483, 'W': -6.953959476369189, 'E': -8.762081617012878}, 7: {'NOOP': -8.198084675800025, 'N': -8.367902154390231, 'S': -7.687548424581548, 'W': -8.185745245930267, 'E': -8.230298112953143}, 8: {'NOOP': -8.54314702056864, 'N': -8.613696356050646, 'S': -8.669442310858212, 'W': -6.29262766340848, 'E': -9.715227051047405}, 9: {'NOOP': -8.153316861107442, 'N': -8.192579356616147, 'S': -8.046904686216136, 'W': -8.062927925677815, 'E': -8.170049871122774}, 10: {'NOOP': -8.379130942395214, 'N': -8.796200169746154, 'S': -6.718592422353168, 'W': -8.991198363779578, 'E': -8.328615007445446}, 11: {'NOOP': -8.314536840143015, 'N': -9.084813709687559, 'S': -7.054086803512114, 'W': -8.252031383317266, 'E': -8.286003903732876}, 12: {'NOOP': -8.169575506185776, 'N': -8.049836761325425, 'S': -8.10781762178687, 'W': -8.181577743744363, 'E': -8.11427417662496}, 13: {'NOOP': -8.209939971663097, 'N': -8.274512389562444, 'S': -7.8842744616303015, 'W': -8.18380493687204, 'E': -8.085597300443467}, 14: {'NOOP': -8.36190906913624, 'N': -8.422809493576725, 'S': -7.0199964465000555, 'W': -8.840071977353587, 'E': -8.332977179420936}, 15: {'NOOP': -8.294903988583698, 'N': -8.222839046868337, 'S': -8.15878722375605, 'W': -8.936217225434497, 'E': -7.2640574370081925}, 16: {'NOOP': -8.219196459630133, 'N': -8.40129281446892, 'S': -7.922367929767794, 'W': -8.431428247845732, 'E': -7.71367028697187}, 17: {'NOOP': -8.232674568458657, 'N': -8.28030205266439, 'S': -7.070545173721672, 'W': -9.061338852722052, 'E': -8.333462284293958}, 18: {'NOOP': -8.202197016116514, 'N': -8.192862192637797, 'S': -8.29669883024723, 'W': -8.400032949077767, 'E': -7.597745472406922}, 19: {'NOOP': -8.157823032211034, 'N': -8.17102936744617, 'S': -8.075467441302207, 'W': -8.126585407917826, 'E': -8.091451275915846}, 20: {'NOOP': -8.181100786294497, 'N': -8.210729414764188, 'S': -7.60445511581117, 'W': -8.343170944866856, 'E': -8.348206651531484}, 21: {'NOOP': -8.166833610103765, 'N': -8.306573024794108, 'S': -7.832980982779391, 'W': -8.287517846089342, 'E': -8.054468258084006}, 22: {'NOOP': -8.19223793218783, 'N': -8.408959437948333, 'S': -7.968890527175477, 'W': -8.187377890935696, 'E': -7.893357201486804}, 23: {'NOOP': -8.184965692675672, 'N': -8.226330211955714, 'S': -8.116929509802304, 'W': -7.957927749489466, 'E': -8.144613917817061}, 24: {'NOOP': -8.237417387384909, 'N': -8.251987490751857, 'S': -8.184022198859935, 'W': -8.873269703737794, 'E': -7.293625955266861}, 25: {'NOOP': -8.162742676889314, 'N': -8.176903873847554, 'S': -8.149687929581352, 'W': -8.146241134702187, 'E': -7.989595978200866}, 26: {'NOOP': -8.16298655897252, 'N': -8.164283540999905, 'S': -8.136969917856597, 'W': -8.010173169942622, 'E': -8.150160202491024}}\n"
     ]
    }
   ],
   "source": [
    "gflowfigure8._reset_agents()\n",
    "state_dirs = {}\n",
    "for node in range(27):\n",
    "    states = [[0, 0, 0, 0, 0, 0, 0, 0, 0, 0, 0, 0, 0, 0, 0, 0, 0, 0, 0, 0, 0, 0, 0, 0, 0, 0, 0]]\n",
    "    states[0][node] = 1\n",
    "    device = torch.device(\"cuda\" if torch.cuda.is_available() else \"cpu\")\n",
    "    state = torch.tensor(np.array([states[0],], dtype=np.int8)).to(device)\n",
    "    probs = gflowfigure8.sampler_fcn.forward(state)\n",
    "    # (forward_prob, action) = gflowfigure8.probs_to_action(probs)\n",
    "    total_probs = {}\n",
    "    total_probs[\"NOOP\"] = (probs[0]+probs[5]+probs[10]).tolist()\n",
    "    total_probs[\"N\"] = (probs[1]+probs[6]+probs[11]).tolist()\n",
    "    total_probs[\"S\"] = (probs[2]+probs[7]+probs[12]).tolist()\n",
    "    total_probs[\"W\"] = (probs[3]+probs[8]+probs[13]).tolist()\n",
    "    total_probs[\"E\"] = (probs[4]+probs[9]+probs[14]).tolist()\n",
    "    \n",
    "    state_dirs[node] = total_probs\n",
    "print(state_dirs)"
   ]
  },
  {
   "cell_type": "code",
   "execution_count": 9,
   "metadata": {},
   "outputs": [
    {
     "name": "stdout",
     "output_type": "stream",
     "text": [
      "25\n",
      "[[3, 2]]\n",
      "19\n",
      "[[1, 0]]\n",
      "19\n",
      "[[0, 2]]\n",
      "19\n",
      "[[1, 0]]\n",
      "19\n",
      "[[2, 1]]\n",
      "13\n",
      "[[2, 1]]\n",
      "5\n",
      "[[3, 1]]\n",
      "5\n",
      "[[4, 1]]\n",
      "5\n",
      "[[3, 2]]\n",
      "5\n",
      "[[4, 2]]\n",
      "5\n",
      "[[0, 0]]\n",
      "5\n",
      "[[0, 0]]\n",
      "5\n",
      "[[2, 2]]\n",
      "4\n",
      "[[4, 1]]\n",
      "3\n",
      "[[4, 0]]\n",
      "1\n",
      "[[2, 2]]\n",
      "1\n",
      "[[0, 0]]\n",
      "1\n",
      "[[1, 1]]\n",
      "2\n",
      "[[1, 1]]\n",
      "12\n",
      "[[3, 2]]\n"
     ]
    }
   ],
   "source": [
    "trajectory = Trajectory()\n",
    "gflowfigure8._reset_agents()\n",
    "for _ in range(20):   \n",
    "    for a_id in range(config['custom_model_config']['nred']):\n",
    "        step = gflowfigure8.step(a_id)\n",
    "        trajectory.add_step(\n",
    "            forward_prob=step['forward_prob'],\n",
    "            backward_prob=step['backward_prob'],\n",
    "            # flow=step['flow'],\n",
    "            # action=step['action'],\n",
    "            reward=step['step_reward'],\n",
    "            # node=step['node']\n",
    "        )\n",
    "        print(step['node'])\n",
    "        print(step['action'])\n"
   ]
  },
  {
   "cell_type": "code",
   "execution_count": 10,
   "metadata": {},
   "outputs": [
    {
     "ename": "FileNotFoundError",
     "evalue": "[Errno 2] No such file or directory: b'../logs/temp'",
     "output_type": "error",
     "traceback": [
      "\u001b[0;31m---------------------------------------------------------------------------\u001b[0m",
      "\u001b[0;31mFileNotFoundError\u001b[0m                         Traceback (most recent call last)",
      "Cell \u001b[0;32mIn[10], line 190\u001b[0m\n\u001b[1;32m    187\u001b[0m parser\u001b[39m.\u001b[39madd_argument(\u001b[39m'\u001b[39m\u001b[39m--route_info\u001b[39m\u001b[39m'\u001b[39m, \u001b[39mtype\u001b[39m\u001b[39m=\u001b[39m\u001b[39mstr\u001b[39m, default\u001b[39m=\u001b[39m\u001b[39m'\u001b[39m\u001b[39mname\u001b[39m\u001b[39m'\u001b[39m)  \u001b[39m# choose from ['name', 'pos', 'idx']\u001b[39;00m\n\u001b[1;32m    188\u001b[0m args \u001b[39m=\u001b[39m parser\u001b[39m.\u001b[39mparse_args(args\u001b[39m=\u001b[39m[\u001b[39m'\u001b[39m\u001b[39m--log_dir\u001b[39m\u001b[39m'\u001b[39m, \u001b[39m'\u001b[39m\u001b[39m../logs/temp\u001b[39m\u001b[39m'\u001b[39m, \u001b[39m'\u001b[39m\u001b[39m--env_dir\u001b[39m\u001b[39m'\u001b[39m, \u001b[39m'\u001b[39m\u001b[39m../\u001b[39m\u001b[39m'\u001b[39m, \u001b[39m'\u001b[39m\u001b[39m--background\u001b[39m\u001b[39m'\u001b[39m, \u001b[39m'\u001b[39m\u001b[39m../logs/background.png\u001b[39m\u001b[39m'\u001b[39m])\n\u001b[0;32m--> 190\u001b[0m local_run(args\u001b[39m.\u001b[39;49menv_dir, args\u001b[39m.\u001b[39;49mlog_dir, args\u001b[39m.\u001b[39;49mprefix, args\u001b[39m.\u001b[39;49mbackground, args\u001b[39m.\u001b[39;49mfps,\n\u001b[1;32m    191\u001b[0m           args\u001b[39m.\u001b[39;49mHP_red, args\u001b[39m.\u001b[39;49mTR_red, args\u001b[39m.\u001b[39;49mHP_blue, args\u001b[39m.\u001b[39;49mTR_blue, args\u001b[39m.\u001b[39;49mHP_color_off,\n\u001b[1;32m    192\u001b[0m           args\u001b[39m.\u001b[39;49mHP_froze_on, args\u001b[39m.\u001b[39;49mroute_only, args\u001b[39m.\u001b[39;49mroute_info)\n",
      "Cell \u001b[0;32mIn[10], line 157\u001b[0m, in \u001b[0;36mlocal_run\u001b[0;34m(env_dir, log_dir, prefix, bg_pic, fps, HP_red, TR_red, HP_blue, TR_blue, color_decay, froze, route_only, route_info)\u001b[0m\n\u001b[1;32m    154\u001b[0m \u001b[39mdef\u001b[39;00m \u001b[39mlocal_run\u001b[39m(env_dir, log_dir, prefix, bg_pic, fps, HP_red, TR_red, HP_blue, TR_blue,\n\u001b[1;32m    155\u001b[0m               color_decay\u001b[39m=\u001b[39m\u001b[39mTrue\u001b[39;00m, froze\u001b[39m=\u001b[39m\u001b[39mFalse\u001b[39;00m, route_only\u001b[39m=\u001b[39m\u001b[39mFalse\u001b[39;00m, route_info\u001b[39m=\u001b[39m\u001b[39mNone\u001b[39;00m):\n\u001b[1;32m    156\u001b[0m     directory \u001b[39m=\u001b[39m os\u001b[39m.\u001b[39mfsencode(log_dir)\n\u001b[0;32m--> 157\u001b[0m     \u001b[39mfor\u001b[39;00m file \u001b[39min\u001b[39;00m os\u001b[39m.\u001b[39;49mlistdir(directory):\n\u001b[1;32m    158\u001b[0m         log_file \u001b[39m=\u001b[39m os\u001b[39m.\u001b[39mfsdecode(file)\n\u001b[1;32m    159\u001b[0m         \u001b[39mprint\u001b[39m(\u001b[39mf\u001b[39m\u001b[39m'\u001b[39m\u001b[39mlog_file \u001b[39m\u001b[39m{\u001b[39;00mlog_file\u001b[39m}\u001b[39;00m\u001b[39m'\u001b[39m)\n",
      "\u001b[0;31mFileNotFoundError\u001b[0m: [Errno 2] No such file or directory: b'../logs/temp'"
     ]
    }
   ],
   "source": [
    "import argparse\n",
    "import glob\n",
    "import os\n",
    "import re\n",
    "\n",
    "import networkx as nx\n",
    "import numpy as np\n",
    "from PIL import Image\n",
    "import matplotlib.colors as colors\n",
    "import matplotlib.pyplot as plt\n",
    "# from matplotlib.animation import FuncAnimation, PillowWriter\n",
    "from sigma_graph.data.file_manager import check_dir, find_file_in_dir, load_graph_files\n",
    "\n",
    "def agent_log_parser(line) -> dict:\n",
    "    agent_info = {}\n",
    "    # parse team info\n",
    "    team_red = re.search(r\"red:(\\d+)\", line)\n",
    "    team_blue = re.search(r\"blue:(\\d+)\", line)\n",
    "    if team_red is not None:\n",
    "        agent_info[\"team\"] = \"red\"\n",
    "        agent_info[\"id\"] = team_red[1]\n",
    "    elif team_blue is not None:\n",
    "        agent_info[\"team\"] = \"blue\"\n",
    "        agent_info[\"id\"] = team_blue[1]\n",
    "    else:\n",
    "        assert f\"[log] Invalid agent team format: {line}\"\n",
    "    # parse agent info\n",
    "    agent_pos = re.search(r\"HP:\\s?(\\d+) node:(\\d+) dir:(\\d) pos:\\((\\d+), (\\d+)\\)\", line)\n",
    "    if agent_info is not None:\n",
    "        agent_info[\"HP\"] = int(agent_pos[1])\n",
    "        agent_info[\"node\"] = int(agent_pos[2])\n",
    "        agent_info[\"dir\"] = int(agent_pos[3])\n",
    "        agent_info[\"pos\"] = (int(agent_pos[4]), int(agent_pos[5]))\n",
    "    else:\n",
    "        assert f\"[log] Invalid agent info format: {line}\"\n",
    "    return agent_info\n",
    "\n",
    "\n",
    "def list_nums_log_parser(line):\n",
    "    pass\n",
    "\n",
    "\n",
    "def log_file_parser(line):\n",
    "    print(f'line {line}')\n",
    "    segments = line.split(\" | \")\n",
    "    print(f'segments {segments}')\n",
    "    step_num = int(re.search(r\"Step #\\s?(\\d+)\", segments[0])[1])\n",
    "\n",
    "    agents = []\n",
    "    for str_agents in segments[1:-2]:\n",
    "        agents.append(agent_log_parser(str_agents))\n",
    "    actions = segments[-2]\n",
    "    rewards = segments[-1]\n",
    "\n",
    "    return step_num, agents, actions, rewards[:-1]\n",
    "\n",
    "\n",
    "def check_log_files(env_dir, log_dir, log_file):\n",
    "    # generate a subfolder in the log folder for -> animations (and optional pictures for each step)\n",
    "    log_file_dir = find_file_in_dir(log_dir, log_file)\n",
    "    fig_file_dir = os.path.join(log_dir, log_file[:-4])\n",
    "    if not check_dir(fig_file_dir):\n",
    "        os.mkdir(fig_file_dir)\n",
    "    return log_file_dir, fig_file_dir\n",
    "\n",
    "\n",
    "def generate_picture(env_dir, log_dir, log_file, HP_red, TR_red, HP_blue, TR_blue,\n",
    "                     color_decay=True, if_froze=False, max_step=40, map_lookup=\"S\"):\n",
    "    # check file existence\n",
    "    log_file_dir, fig_folder = check_log_files(env_dir, log_dir, log_file)\n",
    "    map_info, _ = load_graph_files(env_path=env_dir, map_lookup=map_lookup)\n",
    "    # load log info\n",
    "    file = open(log_file_dir, 'r')\n",
    "    lines = file.readlines()\n",
    "\n",
    "    # predetermined colors\n",
    "    col_map_red = ['#200000', '#200000', '#400000', '#800000', '#BF0000', '#FF0000']\n",
    "    col_map_blue = ['#000020', '#000020', '#000040', '#000080', '#0000BF', '#0000FF']\n",
    "    if color_decay:\n",
    "        HP_offset = 0.1\n",
    "        red_bds = np.append([0], np.linspace(HP_red - TR_red + HP_offset, HP_red + HP_offset, num=len(col_map_red)))\n",
    "        red_norm = colors.BoundaryNorm(boundaries=red_bds, ncolors=len(col_map_red))\n",
    "        blue_bds = np.append([0], np.linspace(HP_blue - TR_blue, HP_blue + HP_offset, num=len(col_map_blue)))\n",
    "        blue_norm = colors.BoundaryNorm(boundaries=blue_bds, ncolors=len(col_map_blue))\n",
    "    else:\n",
    "        red_norm = lambda x: -1\n",
    "        blue_norm = lambda x: -1\n",
    "\n",
    "    total_reward = 0\n",
    "    pause_step = 0\n",
    "\n",
    "    for i, line in enumerate(lines):\n",
    "        fig = plt.figure()\n",
    "        # set figure background opacity (alpha) to 0\n",
    "        fig.patch.set_alpha(0.)\n",
    "        fig.tight_layout()\n",
    "        plt.axis('off')\n",
    "\n",
    "        if i < max_step:\n",
    "            idx_step, agents, action, reward = log_file_parser(line)\n",
    "            text_head = f\"#{idx_step:2d}/{max_step} {action} {reward} \"\n",
    "        elif i == max_step:\n",
    "            # get episode rewards from log\n",
    "            text_head += line[:-1]\n",
    "        legend_text = [text_head]\n",
    "        # set color map for agents and waypoints\n",
    "        col_map = [\"gold\"] * len(map_info.n_info)\n",
    "        for agent in agents:\n",
    "            legend_text += [\"{}_{} HP:{} node:{} dir:{} pos:{}\".format(agent[\"team\"], agent[\"id\"], agent[\"HP\"],\n",
    "                                                                       agent[\"node\"], agent[\"dir\"], agent[\"pos\"])]\n",
    "            if agent[\"team\"] == 'red':\n",
    "                col_map[agent['node'] - 1] = \"red\" #col_map_red[red_norm(agent['HP'])]\n",
    "            elif agent[\"team\"] == 'blue':\n",
    "                blue_health = agent['HP']\n",
    "                col_map[agent['node'] - 1] = \"blue\" #col_map_blue[blue_norm(blue_health)]\n",
    "        # set pause frame number for gif looping\n",
    "        if if_froze and (not pause_step) and (blue_health <= HP_blue - TR_blue):\n",
    "            pause_step = i\n",
    "        # render fig and save to png\n",
    "        nx.draw_networkx(map_info.g_acs, map_info.n_info, node_color=col_map, edge_color=\"grey\", arrows=True)\n",
    "        plt.legend(legend_text, bbox_to_anchor=(0.07, 0.95, 0.83, 0.1), loc='lower left', prop={'size': 8},\n",
    "                   mode=\"expand\", borderaxespad=0.)\n",
    "        plt.savefig(os.path.join(fig_folder, f\"{i:03d}.png\"), dpi=100, transparent=True)\n",
    "        plt.close()\n",
    "    return fig_folder, pause_step\n",
    "\n",
    "\n",
    "def generate_picture_route(env_dir, log_dir, log_file, route_info):\n",
    "    log_file_dir, fig_folder = check_log_files(env_dir, log_dir, log_file)\n",
    "    return fig_folder\n",
    "\n",
    "\n",
    "def frame_add_background(img_dir, gif_file, bg_file, fps, stop_frame=0, wait_frame=5):\n",
    "    img_files = img_dir + \"/*.png\"\n",
    "    imgs = []\n",
    "    frames = 0\n",
    "    for f in sorted(glob.glob(img_files)):\n",
    "        foreground = Image.open(f)\n",
    "        background = Image.open(bg_file)\n",
    "        background.paste(foreground, (0, 0), foreground)\n",
    "        imgs.append(background)\n",
    "        if stop_frame:\n",
    "            if frames == stop_frame:\n",
    "                break\n",
    "            frames += 1\n",
    "    # set up additional end frames before looping\n",
    "    if not stop_frame:\n",
    "        for i in range(wait_frame):\n",
    "            imgs.append(imgs[-1])\n",
    "    imgs[0].save(fp=gif_file, format='GIF', append_images=imgs[1:],\n",
    "                 save_all=True, duration=(1000 // fps), loop=(stop_frame > 0))\n",
    "\n",
    "\n",
    "def local_run(env_dir, log_dir, prefix, bg_pic, fps, HP_red, TR_red, HP_blue, TR_blue,\n",
    "              color_decay=True, froze=False, route_only=False, route_info=None):\n",
    "    directory = os.fsencode(log_dir)\n",
    "    for file in os.listdir(directory):\n",
    "        log_file = os.fsdecode(file)\n",
    "        print(f'log_file {log_file}')\n",
    "        if log_file.endswith(\".txt\") and log_file.startswith(prefix):\n",
    "            if route_only:\n",
    "                fig_folder = generate_picture_route(env_dir, log_dir, log_file, route_info)\n",
    "                pause_frame = 0\n",
    "            else:\n",
    "                fig_folder, pause_frame = generate_picture(env_dir, log_dir, log_file,\n",
    "                                                           HP_red, TR_red, HP_blue, TR_blue, color_decay, froze)\n",
    "            frame_add_background(fig_folder, os.path.join(log_dir, f\"{log_file[:-4]}.gif\"), bg_pic, fps,\n",
    "                                 pause_frame)\n",
    "\n",
    "\n",
    "if __name__ == \"__main__\":\n",
    "    parser = argparse.ArgumentParser()\n",
    "    parser.add_argument('--env_dir', type=str, default='../../', help='path to project root')\n",
    "    parser.add_argument('--log_dir', type=str, default='../../logs/visuals/demo/', help='path to log file folder')\n",
    "    parser.add_argument('--prefix', type=str, default='log_', help='log file prefix')\n",
    "    parser.add_argument('--background', type=str, default='../../logs/visuals/background.png')\n",
    "    parser.add_argument('--fps', type=int, default=2)  # frame per second in animations\n",
    "\n",
    "    parser.add_argument('--HP_froze_on', action='store_true', default=False, help='stop animation if agent is dead')\n",
    "    parser.add_argument('--HP_red', type=int, default=100)\n",
    "    parser.add_argument('--TR_red', type=int, default=5)\n",
    "    parser.add_argument('--HP_blue', type=int, default=100)\n",
    "    parser.add_argument('--TR_blue', type=int, default=10)\n",
    "    parser.add_argument('--HP_color_off', action='store_false', default=True, help='gradient colors for HP')\n",
    "\n",
    "    parser.add_argument('--route_only', type=bool, default=False)  # exclude step info\n",
    "    parser.add_argument('--route_info', type=str, default='name')  # choose from ['name', 'pos', 'idx']\n",
    "    args = parser.parse_args(args=['--log_dir', '../logs/temp', '--env_dir', '../', '--background', '../logs/background.png'])\n",
    "\n",
    "    local_run(args.env_dir, args.log_dir, args.prefix, args.background, args.fps,\n",
    "              args.HP_red, args.TR_red, args.HP_blue, args.TR_blue, args.HP_color_off,\n",
    "              args.HP_froze_on, args.route_only, args.route_info)"
   ]
  }
 ],
 "metadata": {
  "kernelspec": {
   "display_name": "GflowsForSimulation_venv_real",
   "language": "python",
   "name": "python3"
  },
  "language_info": {
   "codemirror_mode": {
    "name": "ipython",
    "version": 3
   },
   "file_extension": ".py",
   "mimetype": "text/x-python",
   "name": "python",
   "nbconvert_exporter": "python",
   "pygments_lexer": "ipython3",
   "version": "3.8.10"
  }
 },
 "nbformat": 4,
 "nbformat_minor": 2
}
