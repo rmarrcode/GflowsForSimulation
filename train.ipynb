{
 "cells": [
  {
   "cell_type": "code",
   "execution_count": 1,
   "metadata": {},
   "outputs": [
    {
     "name": "stderr",
     "output_type": "stream",
     "text": [
      "2024-02-04 22:40:14,508\tWARNING deprecation.py:47 -- DeprecationWarning: `ray.rllib.agents.dqn` has been deprecated. Use `ray.rllib.algorithms.[dqn|simple_q|r2d2|apex_dqn]` instead. This will raise an error in the future!\n"
     ]
    }
   ],
   "source": [
    "# general\n",
    "import argparse\n",
    "import pickle\n",
    "import torch\n",
    "import time\n",
    "import tempfile\n",
    "import numpy as np\n",
    "import random\n",
    "import os\n",
    "import wandb\n",
    "#from ray.rllib.agents import ppo, dqn, pg, a3c, impala\n",
    "from tqdm import tnrange\n",
    "\n",
    "# our code\n",
    "from sigma_graph.envs.figure8.action_lookup import MOVE_LOOKUP, TURN_90_LOOKUP\n",
    "from sigma_graph.envs.figure8.default_setup import OBS_TOKEN\n",
    "from sigma_graph.envs.figure8.figure8_squad_rllib import Figure8SquadRLLib\n",
    "from sigma_graph.envs.figure8.gflow_figure8_squad import GlowFigure8Squad\n",
    "#from graph_scout.envs.base import ScoutMissionStdRLLib\n",
    "import sigma_graph.envs.figure8.default_setup as default_setup\n",
    "import model  # THIS NEEDS TO BE HERE IN ORDER TO RUN __init__.py!\n",
    "import model.utils as utils\n",
    "import model.gnn_gflow \n",
    "from trajectory import Trajectory\n",
    "import losses\n",
    "import torch.optim as optim"
   ]
  },
  {
   "cell_type": "code",
   "execution_count": 2,
   "metadata": {},
   "outputs": [],
   "source": [
    "WANDB = False\n",
    "SEED = 0\n",
    "LEARNING_RATE = 1e-3\n",
    "EPOCHS = 3000\n",
    "BATCH_SIZE = 100"
   ]
  },
  {
   "cell_type": "code",
   "execution_count": 3,
   "metadata": {},
   "outputs": [
    {
     "name": "stderr",
     "output_type": "stream",
     "text": [
      "Failed to detect the name of this notebook, you can set it manually with the WANDB_NOTEBOOK_NAME environment variable to enable code saving.\n",
      "\u001b[34m\u001b[1mwandb\u001b[0m: Currently logged in as: \u001b[33mr-marr747\u001b[0m. Use \u001b[1m`wandb login --relogin`\u001b[0m to force relogin\n"
     ]
    },
    {
     "data": {
      "text/html": [
       "wandb version 0.16.2 is available!  To upgrade, please run:\n",
       " $ pip install wandb --upgrade"
      ],
      "text/plain": [
       "<IPython.core.display.HTML object>"
      ]
     },
     "metadata": {},
     "output_type": "display_data"
    },
    {
     "data": {
      "text/html": [
       "Tracking run with wandb version 0.16.1"
      ],
      "text/plain": [
       "<IPython.core.display.HTML object>"
      ]
     },
     "metadata": {},
     "output_type": "display_data"
    },
    {
     "data": {
      "text/html": [
       "Run data is saved locally in <code>/home/rmarr/Documents/GflowsForSimulation_env/GflowsForSimulation/wandb/run-20240202_191850-mx1nx1bu</code>"
      ],
      "text/plain": [
       "<IPython.core.display.HTML object>"
      ]
     },
     "metadata": {},
     "output_type": "display_data"
    },
    {
     "data": {
      "text/html": [
       "Syncing run <strong><a href='https://wandb.ai/r-marr747/graph-training-simulation/runs/mx1nx1bu' target=\"_blank\">apricot-field-123</a></strong> to <a href='https://wandb.ai/r-marr747/graph-training-simulation' target=\"_blank\">Weights & Biases</a> (<a href='https://wandb.me/run' target=\"_blank\">docs</a>)<br/>"
      ],
      "text/plain": [
       "<IPython.core.display.HTML object>"
      ]
     },
     "metadata": {},
     "output_type": "display_data"
    },
    {
     "data": {
      "text/html": [
       " View project at <a href='https://wandb.ai/r-marr747/graph-training-simulation' target=\"_blank\">https://wandb.ai/r-marr747/graph-training-simulation</a>"
      ],
      "text/plain": [
       "<IPython.core.display.HTML object>"
      ]
     },
     "metadata": {},
     "output_type": "display_data"
    },
    {
     "data": {
      "text/html": [
       " View run at <a href='https://wandb.ai/r-marr747/graph-training-simulation/runs/mx1nx1bu' target=\"_blank\">https://wandb.ai/r-marr747/graph-training-simulation/runs/mx1nx1bu</a>"
      ],
      "text/plain": [
       "<IPython.core.display.HTML object>"
      ]
     },
     "metadata": {},
     "output_type": "display_data"
    }
   ],
   "source": [
    "if WANDB:\n",
    "    wandb.login()\n",
    "    wandb.init(\n",
    "        project=\"graph-training-simulation\",\n",
    "        config={\n",
    "            \"learning_rate\": LEARNING_RATE,\n",
    "            \"epochs\": EPOCHS,\n",
    "            \"batch_size\": BATCH_SIZE,\n",
    "            \"seed\": SEED\n",
    "        }\n",
    "    )"
   ]
  },
  {
   "cell_type": "code",
   "execution_count": 4,
   "metadata": {},
   "outputs": [],
   "source": [
    "config = {\n",
    "    \"custom_model\": \"graph_transformer_policy\",\n",
    "    \"custom_model_config\": {\n",
    "        \"nred\": 1,\n",
    "        \"nblue\": 1,\n",
    "        \"aggregation_fn\": \"agent_node\",\n",
    "        \"hidden_size\": 10,\n",
    "        \"is_hybrid\": False,\n",
    "        \"conv_type\": \"gcn\",\n",
    "        \"layernorm\": False,\n",
    "        \"graph_obs_token\": {\"embed_opt\": False, \"embed_dir\": True},\n",
    "    },\n",
    "    \"env_config\": {\n",
    "        \"env_path\": \".\",\n",
    "        \"act_masked\": True,\n",
    "        \"init_red\": None,\n",
    "        \"init_blue\": None,\n",
    "        \"init_health_red\": 20,\n",
    "        \"init_health_blue\": 20,\n",
    "        \"obs_embed\": False,\n",
    "        \"obs_dir\": False,\n",
    "        \"obs_team\": True,\n",
    "        \"obs_sight\": False,\n",
    "        \"log_on\": False,\n",
    "        \"log_path\": \"logs/temp/\",\n",
    "        \"fixed_start\": -1,\n",
    "        \"penalty_stay\": 0,\n",
    "        \"threshold_damage_2_blue\": 2,\n",
    "        \"threshold_damage_2_red\": 5,\n",
    "    },\n",
    "}"
   ]
  },
  {
   "cell_type": "code",
   "execution_count": 5,
   "metadata": {},
   "outputs": [
    {
     "data": {
      "text/plain": [
       "<torch._C.Generator at 0x7fa8624df3b0>"
      ]
     },
     "execution_count": 5,
     "metadata": {},
     "output_type": "execute_result"
    }
   ],
   "source": [
    "random.seed(SEED)\n",
    "np.random.seed(SEED)\n",
    "torch.manual_seed(SEED)"
   ]
  },
  {
   "cell_type": "code",
   "execution_count": 6,
   "metadata": {},
   "outputs": [
    {
     "name": "stdout",
     "output_type": "stream",
     "text": [
      "---------------\n",
      "path_data ./GflowsForSimulation/sigma_graph/data/parsed/\n",
      "/home/rmarr/Documents/GflowsForSimulation_env/GflowsForSimulation\n"
     ]
    }
   ],
   "source": [
    "gflowfigure8 = GlowFigure8Squad(sampler_config=config)"
   ]
  },
  {
   "cell_type": "markdown",
   "metadata": {},
   "source": [
    "random.seed(SEED)\n",
    "np.random.seed(SEED)\n",
    "torch.manual_seed(SEED)\n",
    "\n",
    "gflowfigure8 = GlowFigure8Squad(sampler_config=config)"
   ]
  },
  {
   "cell_type": "code",
   "execution_count": 8,
   "metadata": {},
   "outputs": [],
   "source": [
    "optimizer = optim.AdamW(gflowfigure8.sampler_fcn.parameters(), lr=LEARNING_RATE)\n",
    "\n",
    "batch_loss = 0\n",
    "batch_num = 0\n",
    "batch_reward = 0\n",
    "\n",
    "for i in range(EPOCHS):\n",
    "    trajectory = Trajectory()\n",
    "    gflowfigure8._reset_agents()\n",
    "    for _ in range(20):   \n",
    "        for a_id in range(config['custom_model_config']['nred']):\n",
    "            step = gflowfigure8.step(a_id)\n",
    "            trajectory.add_step(\n",
    "                forward_prob=step['forward_prob'],\n",
    "                backward_prob=step['backward_prob'],\n",
    "                # flow=step['flow'],\n",
    "                # action=step['action'],\n",
    "                reward=step['step_reward'],\n",
    "                # node=step['node']\n",
    "            )\n",
    "    \n",
    "    episode_loss = losses.Losses.trajectory_balance(trajectory)\n",
    "    episode_reward = trajectory.rewards\n",
    "\n",
    "    batch_num = batch_num + 1\n",
    "    batch_loss += episode_loss\n",
    "    batch_reward += episode_reward\n",
    "\n",
    "    if batch_num % BATCH_SIZE == 0:\n",
    "        if WANDB:\n",
    "            wandb.log({\"loss\": batch_loss/BATCH_SIZE, \"reward\":  batch_reward/BATCH_SIZE})\n",
    "            batch_loss = 0\n",
    "            batch_reward = 0\n",
    "            for name, param in gflowfigure8.sampler_fcn.named_parameters():\n",
    "                wandb.log({f\"{name}_mean\": param.data.mean().item(), f\"{name}_std\": param.data.std().item()})\n",
    "\n",
    "    episode_loss.backward()\n",
    "    optimizer.step()\n",
    "    optimizer.zero_grad()"
   ]
  },
  {
   "cell_type": "code",
   "execution_count": 12,
   "metadata": {},
   "outputs": [
    {
     "name": "stdout",
     "output_type": "stream",
     "text": [
      "{0: {'NOOP': 0.17820949651079954, 'N': 0.19639840144099877, 'S': 0.20381606319986284, 'W': 0.2254008692661287, 'E': 0.1961751695822102}, 1: {'NOOP': 0.18217598909235266, 'N': 0.19812147970705368, 'S': 0.19669236652488165, 'W': 0.21663757582996856, 'E': 0.2063725888457435}, 2: {'NOOP': 0.18004291409355228, 'N': 0.19487807413016764, 'S': 0.221700904809441, 'W': 0.19689705364023707, 'E': 0.20648105332660185}, 3: {'NOOP': 0.18169170924137149, 'N': 0.18619650300562068, 'S': 0.22019112569198818, 'W': 0.2079897318416776, 'E': 0.20393093021934208}, 4: {'NOOP': 0.18428485523093124, 'N': 0.1944376562795975, 'S': 0.20081464503836322, 'W': 0.22708909770667018, 'E': 0.19337374574443794}, 5: {'NOOP': 0.19413872073804495, 'N': 0.18301615324898782, 'S': 0.20584071761857042, 'W': 0.23640976764821833, 'E': 0.18059464074617837}, 6: {'NOOP': 0.1858327918118302, 'N': 0.16176891499626472, 'S': 0.22773962216945004, 'W': 0.25647981870644243, 'E': 0.16817885231601246}, 7: {'NOOP': 0.18215174715508717, 'N': 0.17804581583805892, 'S': 0.22525109082090763, 'W': 0.20644231724188705, 'E': 0.20810902894405925}, 8: {'NOOP': 0.1739629861370454, 'N': 0.18592307169281802, 'S': 0.20470431556815064, 'W': 0.27301190699791084, 'E': 0.1623977196040751}, 9: {'NOOP': 0.2114899367995085, 'N': 0.145234831854486, 'S': 0.22719885438719678, 'W': 0.23128179069500737, 'E': 0.18479458626380124}, 10: {'NOOP': 0.19784257124705262, 'N': 0.16403310110009198, 'S': 0.263695653153089, 'W': 0.18159138971307814, 'E': 0.19283728478668832}, 11: {'NOOP': 0.1749451678071332, 'N': 0.19080741847148905, 'S': 0.19300748625703393, 'W': 0.24857173603480437, 'E': 0.19266819142953948}, 12: {'NOOP': 0.17105424500452612, 'N': 0.19410668860280533, 'S': 0.19336194827508582, 'W': 0.24881205753497454, 'E': 0.19266506058260816}, 13: {'NOOP': 0.1885439069915387, 'N': 0.19974794597690343, 'S': 0.2158274836239907, 'W': 0.19581349777752594, 'E': 0.20006716563004123}, 14: {'NOOP': 0.1844347379479535, 'N': 0.19361726718050606, 'S': 0.24086560900889037, 'W': 0.18250075756866313, 'E': 0.1985816282939869}, 15: {'NOOP': 0.18585648836397112, 'N': 0.1897475251675541, 'S': 0.19002945475884925, 'W': 0.2304570172512372, 'E': 0.2039095144583884}, 16: {'NOOP': 0.1853407031105846, 'N': 0.20267183205123387, 'S': 0.19120535097713492, 'W': 0.22411889638794236, 'E': 0.19666321747310422}, 17: {'NOOP': 0.17139186302490622, 'N': 0.18586585450257176, 'S': 0.2000025919962793, 'W': 0.26128116938323015, 'E': 0.18145852109301264}, 18: {'NOOP': 0.16215426397671584, 'N': 0.2061730882136259, 'S': 0.21467077122904696, 'W': 0.2019939119496926, 'E': 0.2150079646309187}, 19: {'NOOP': 0.1730463475245792, 'N': 0.21637338199026648, 'S': 0.2020062938834794, 'W': 0.20573889932336253, 'E': 0.20283507727831235}, 20: {'NOOP': 0.17401278368846862, 'N': 0.20915860543201334, 'S': 0.19767281977061846, 'W': 0.2183545197015972, 'E': 0.20080127140730247}, 21: {'NOOP': 0.1890525758686234, 'N': 0.19712830722618124, 'S': 0.1931244205422654, 'W': 0.22044529324404225, 'E': 0.20024940311888775}, 22: {'NOOP': 0.19265182387737956, 'N': 0.19067422470179013, 'S': 0.20989023621287656, 'W': 0.2012235265252518, 'E': 0.2055601886827021}, 23: {'NOOP': 0.1842759781301731, 'N': 0.19721168166986108, 'S': 0.1876017819765185, 'W': 0.22568943938760525, 'E': 0.20522111883584204}, 24: {'NOOP': 0.1883784820247994, 'N': 0.18817623967260927, 'S': 0.19631861123843583, 'W': 0.22926222705859478, 'E': 0.1978644400055606}, 25: {'NOOP': 0.18671206258041212, 'N': 0.2062121111305363, 'S': 0.1895246645987934, 'W': 0.20868756649813575, 'E': 0.20886359519212244}, 26: {'NOOP': 0.17861992896247958, 'N': 0.2061817953941546, 'S': 0.18747431893494357, 'W': 0.2147285044719, 'E': 0.21299545223652233}}\n"
     ]
    }
   ],
   "source": [
    "gflowfigure8._reset_agents()\n",
    "state_dirs = {}\n",
    "for node in range(27):\n",
    "    states = [[0, 0, 0, 0, 0, 0, 0, 0, 0, 0, 0, 0, 0, 0, 0, 0, 0, 0, 0, 0, 0, 0, 0, 0, 0, 0, 0]]\n",
    "    states[0][node] = 1\n",
    "    device = torch.device(\"cuda\" if torch.cuda.is_available() else \"cpu\")\n",
    "    state = torch.tensor(np.array([states[0],], dtype=np.int8)).to(device)\n",
    "    probs = gflowfigure8.sampler_fcn.forward(state)\n",
    "    # (forward_prob, action) = gflowfigure8.probs_to_action(probs)\n",
    "    total_probs = {}\n",
    "    total_probs[\"NOOP\"] = (probs[0]+probs[5]+probs[10]).tolist()\n",
    "    total_probs[\"N\"] = (probs[1]+probs[6]+probs[11]).tolist()\n",
    "    total_probs[\"S\"] = (probs[2]+probs[7]+probs[12]).tolist()\n",
    "    total_probs[\"W\"] = (probs[3]+probs[8]+probs[13]).tolist()\n",
    "    total_probs[\"E\"] = (probs[4]+probs[9]+probs[14]).tolist()\n",
    "    \n",
    "    state_dirs[node] = total_probs\n",
    "print(state_dirs)"
   ]
  },
  {
   "cell_type": "code",
   "execution_count": 28,
   "metadata": {},
   "outputs": [
    {
     "name": "stdout",
     "output_type": "stream",
     "text": [
      "25\n",
      "[[4, 1]]\n",
      "25\n",
      "[[0, 0]]\n",
      "25\n",
      "[[0, 1]]\n",
      "25\n",
      "[[2, 1]]\n",
      "8\n",
      "[[0, 1]]\n",
      "8\n",
      "[[1, 1]]\n",
      "14\n",
      "[[0, 2]]\n",
      "14\n",
      "[[0, 0]]\n",
      "14\n",
      "[[4, 2]]\n",
      "14\n",
      "[[2, 0]]\n",
      "8\n",
      "[[0, 0]]\n",
      "8\n",
      "[[1, 2]]\n",
      "14\n",
      "[[1, 2]]\n",
      "20\n",
      "[[1, 1]]\n",
      "20\n",
      "[[1, 0]]\n",
      "20\n",
      "[[1, 0]]\n",
      "20\n",
      "[[0, 2]]\n",
      "20\n",
      "[[0, 0]]\n",
      "20\n",
      "[[4, 1]]\n",
      "26\n",
      "[[2, 0]]\n"
     ]
    }
   ],
   "source": [
    "trajectory = Trajectory()\n",
    "gflowfigure8._reset_agents()\n",
    "for _ in range(20):   \n",
    "    for a_id in range(config['custom_model_config']['nred']):\n",
    "        step = gflowfigure8.step(a_id)\n",
    "        trajectory.add_step(\n",
    "            forward_prob=step['forward_prob'],\n",
    "            backward_prob=step['backward_prob'],\n",
    "            # flow=step['flow'],\n",
    "            # action=step['action'],\n",
    "            reward=step['step_reward'],\n",
    "            # node=step['node']\n",
    "        )\n",
    "        print(step['node'])\n",
    "        print(step['action'])\n"
   ]
  },
  {
   "cell_type": "code",
   "execution_count": 25,
   "metadata": {},
   "outputs": [
    {
     "name": "stdout",
     "output_type": "stream",
     "text": [
      "log_file log_done_0\n",
      "log_file log_done_0.txt\n",
      "---------------\n",
      "path_data ../GflowsForSimulation/sigma_graph/data/parsed/\n",
      "/home/rmarr/Documents/GflowsForSimulation_env/GflowsForSimulation\n",
      "line Step # 1 | red:0 HP:5 node:25 dir:4 pos:(11, 6) | blue:1 HP:5 node:24 dir:1 pos:(14, 11) | Actions:[[[1, 0]]] | Step rewards:[0]\n",
      "\n",
      "segments ['Step # 1', 'red:0 HP:5 node:25 dir:4 pos:(11, 6)', 'blue:1 HP:5 node:24 dir:1 pos:(14, 11)', 'Actions:[[[1, 0]]]', 'Step rewards:[0]\\n']\n",
      "line Step # 1 | red:0 HP:5 node:25 dir:4 pos:(11, 6) | blue:1 HP:5 node:24 dir:1 pos:(14, 11) | Actions:[[[1, 0]]] | Step rewards:[0]\n",
      "\n",
      "segments ['Step # 1', 'red:0 HP:5 node:25 dir:4 pos:(11, 6)', 'blue:1 HP:5 node:24 dir:1 pos:(14, 11)', 'Actions:[[[1, 0]]]', 'Step rewards:[0]\\n']\n",
      "line Step # 2 | red:0 HP:5 node:11 dir:1 pos:(12, 6) | blue:1 HP:5 node:22 dir:4 pos:(14, 10) | Actions:[[[2, 2]]] | Step rewards:[0]\n",
      "\n",
      "segments ['Step # 2', 'red:0 HP:5 node:11 dir:1 pos:(12, 6)', 'blue:1 HP:5 node:22 dir:4 pos:(14, 10)', 'Actions:[[[2, 2]]]', 'Step rewards:[0]\\n']\n",
      "line Step # 3 | red:0 HP:5 node:10 dir:3 pos:(11, 6) | blue:1 HP:4 node:21 dir:4 pos:(14, 9) | Actions:[[[3, 1]]] | Step rewards:[0]\n",
      "\n",
      "segments ['Step # 3', 'red:0 HP:5 node:10 dir:3 pos:(11, 6)', 'blue:1 HP:4 node:21 dir:4 pos:(14, 9)', 'Actions:[[[3, 1]]]', 'Step rewards:[0]\\n']\n",
      "line Step # 4 | red:0 HP:5 node:10 dir:3 pos:(11, 6) | blue:1 HP:4 node:27 dir:4 pos:(14, 8) | Actions:[[[3, 2]]] | Step rewards:[0]\n",
      "\n",
      "segments ['Step # 4', 'red:0 HP:5 node:10 dir:3 pos:(11, 6)', 'blue:1 HP:4 node:27 dir:4 pos:(14, 8)', 'Actions:[[[3, 2]]]', 'Step rewards:[0]\\n']\n",
      "line Step # 5 | red:0 HP:5 node:10 dir:3 pos:(11, 6) | blue:1 HP:4 node:20 dir:4 pos:(14, 7) | Actions:[[[4, 2]]] | Step rewards:[0]\n",
      "\n",
      "segments ['Step # 5', 'red:0 HP:5 node:10 dir:3 pos:(11, 6)', 'blue:1 HP:4 node:20 dir:4 pos:(14, 7)', 'Actions:[[[4, 2]]]', 'Step rewards:[0]\\n']\n",
      "line Step # 6 | red:0 HP:5 node:9 dir:2 pos:(11, 5) | blue:1 HP:4 node:14 dir:2 pos:(13, 5) | Actions:[[[4, 2]]] | Step rewards:[0]\n",
      "\n",
      "segments ['Step # 6', 'red:0 HP:5 node:9 dir:2 pos:(11, 5)', 'blue:1 HP:4 node:14 dir:2 pos:(13, 5)', 'Actions:[[[4, 2]]]', 'Step rewards:[0]\\n']\n",
      "line Step # 7 | red:0 HP:5 node:7 dir:2 pos:(11, 4) | blue:1 HP:4 node:8 dir:2 pos:(12, 5) | Actions:[[[4, 1]]] | Step rewards:[0]\n",
      "\n",
      "segments ['Step # 7', 'red:0 HP:5 node:7 dir:2 pos:(11, 4)', 'blue:1 HP:4 node:8 dir:2 pos:(12, 5)', 'Actions:[[[4, 1]]]', 'Step rewards:[0]\\n']\n",
      "line Step # 8 | red:0 HP:4 node:6 dir:1 pos:(11, 3) | blue:1 HP:4 node:7 dir:2 pos:(11, 4) | Actions:[[[0, 2]]] | Step rewards:[0]\n",
      "\n",
      "segments ['Step # 8', 'red:0 HP:4 node:6 dir:1 pos:(11, 3)', 'blue:1 HP:4 node:7 dir:2 pos:(11, 4)', 'Actions:[[[0, 2]]]', 'Step rewards:[0]\\n']\n",
      "line Step # 9 | red:0 HP:4 node:6 dir:4 pos:(11, 3) | blue:1 HP:4 node:6 dir:4 pos:(11, 3) | Actions:[[[0, 1]]] | Step rewards:[0]\n",
      "\n",
      "segments ['Step # 9', 'red:0 HP:4 node:6 dir:4 pos:(11, 3)', 'blue:1 HP:4 node:6 dir:4 pos:(11, 3)', 'Actions:[[[0, 1]]]', 'Step rewards:[0]\\n']\n",
      "line Step #10 | red:0 HP:3 node:6 dir:1 pos:(11, 3) | blue:1 HP:3 node:4 dir:4 pos:(11, 2) | Actions:[[[0, 2]]] | Step rewards:[0]\n",
      "\n",
      "segments ['Step #10', 'red:0 HP:3 node:6 dir:1 pos:(11, 3)', 'blue:1 HP:3 node:4 dir:4 pos:(11, 2)', 'Actions:[[[0, 2]]]', 'Step rewards:[0]\\n']\n",
      "line Step #11 | red:0 HP:3 node:6 dir:4 pos:(11, 3) | blue:1 HP:3 node:5 dir:1 pos:(12, 4) | Actions:[[[2, 2]]] | Step rewards:[0]\n",
      "\n",
      "segments ['Step #11', 'red:0 HP:3 node:6 dir:4 pos:(11, 3)', 'blue:1 HP:3 node:5 dir:1 pos:(12, 4)', 'Actions:[[[2, 2]]]', 'Step rewards:[0]\\n']\n",
      "line Step #12 | red:0 HP:3 node:6 dir:4 pos:(11, 3) | blue:1 HP:3 node:13 dir:1 pos:(13, 4) | Actions:[[[0, 2]]] | Step rewards:[0]\n",
      "\n",
      "segments ['Step #12', 'red:0 HP:3 node:6 dir:4 pos:(11, 3)', 'blue:1 HP:3 node:13 dir:1 pos:(13, 4)', 'Actions:[[[0, 2]]]', 'Step rewards:[0]\\n']\n",
      "line Step #13 | red:0 HP:3 node:6 dir:2 pos:(11, 3) | blue:1 HP:3 node:19 dir:1 pos:(14, 5) | Actions:[[[3, 0]]] | Step rewards:[0]\n",
      "\n",
      "segments ['Step #13', 'red:0 HP:3 node:6 dir:2 pos:(11, 3)', 'blue:1 HP:3 node:19 dir:1 pos:(14, 5)', 'Actions:[[[3, 0]]]', 'Step rewards:[0]\\n']\n",
      "line Step #14 | red:0 HP:3 node:7 dir:3 pos:(11, 4) | blue:1 HP:3 node:25 dir:4 pos:(14, 4) | Actions:[[[3, 1]]] | Step rewards:[0]\n",
      "\n",
      "segments ['Step #14', 'red:0 HP:3 node:7 dir:3 pos:(11, 4)', 'blue:1 HP:3 node:25 dir:4 pos:(14, 4)', 'Actions:[[[3, 1]]]', 'Step rewards:[0]\\n']\n",
      "line Step #15 | red:0 HP:3 node:9 dir:2 pos:(11, 5) | blue:1 HP:3 node:18 dir:4 pos:(14, 3) | Actions:[[[3, 0]]] | Step rewards:[0]\n",
      "\n",
      "segments ['Step #15', 'red:0 HP:3 node:9 dir:2 pos:(11, 5)', 'blue:1 HP:3 node:18 dir:4 pos:(14, 3)', 'Actions:[[[3, 0]]]', 'Step rewards:[0]\\n']\n",
      "line Step #16 | red:0 HP:3 node:10 dir:3 pos:(11, 6) | blue:1 HP:3 node:12 dir:2 pos:(13, 3) | Actions:[[[2, 1]]] | Step rewards:[0]\n",
      "\n",
      "segments ['Step #16', 'red:0 HP:3 node:10 dir:3 pos:(11, 6)', 'blue:1 HP:3 node:12 dir:2 pos:(13, 3)', 'Actions:[[[2, 1]]]', 'Step rewards:[0]\\n']\n",
      "line Step #17 | red:0 HP:3 node:10 dir:3 pos:(11, 6) | blue:1 HP:3 node:2 dir:2 pos:(12, 3) | Actions:[[[3, 2]]] | Step rewards:[0]\n",
      "\n",
      "segments ['Step #17', 'red:0 HP:3 node:10 dir:3 pos:(11, 6)', 'blue:1 HP:3 node:2 dir:2 pos:(12, 3)', 'Actions:[[[3, 2]]]', 'Step rewards:[0]\\n']\n",
      "line Step #18 | red:0 HP:3 node:10 dir:3 pos:(11, 6) | blue:1 HP:3 node:1 dir:2 pos:(11, 0) | Actions:[[[3, 1]]] | Step rewards:[0]\n",
      "\n",
      "segments ['Step #18', 'red:0 HP:3 node:10 dir:3 pos:(11, 6)', 'blue:1 HP:3 node:1 dir:2 pos:(11, 0)', 'Actions:[[[3, 1]]]', 'Step rewards:[0]\\n']\n",
      "line Step #19 | red:0 HP:3 node:10 dir:3 pos:(11, 6) | blue:1 HP:3 node:3 dir:3 pos:(11, 1) | Actions:[[[3, 0]]] | Step rewards:[0]\n",
      "\n",
      "segments ['Step #19', 'red:0 HP:3 node:10 dir:3 pos:(11, 6)', 'blue:1 HP:3 node:3 dir:3 pos:(11, 1)', 'Actions:[[[3, 0]]]', 'Step rewards:[0]\\n']\n",
      "line Step #20 | red:0 HP:3 node:10 dir:3 pos:(11, 6) | blue:1 HP:3 node:4 dir:3 pos:(11, 2) | Actions:[[[4, 0]]] | Step rewards:[0]\n",
      "\n",
      "segments ['Step #20', 'red:0 HP:3 node:10 dir:3 pos:(11, 6)', 'blue:1 HP:3 node:4 dir:3 pos:(11, 2)', 'Actions:[[[4, 0]]]', 'Step rewards:[0]\\n']\n",
      "line Step # 1 | red:0 HP:5 node:25 dir:4 pos:(11, 6) | blue:1 HP:5 node:24 dir:1 pos:(14, 11) | Actions:[[[3, 2]]] | Step rewards:[0]\n",
      "\n",
      "segments ['Step # 1', 'red:0 HP:5 node:25 dir:4 pos:(11, 6)', 'blue:1 HP:5 node:24 dir:1 pos:(14, 11)', 'Actions:[[[3, 2]]]', 'Step rewards:[0]\\n']\n",
      "line Step # 2 | red:0 HP:5 node:25 dir:4 pos:(11, 6) | blue:1 HP:5 node:22 dir:4 pos:(14, 10) | Actions:[[[3, 2]]] | Step rewards:[0]\n",
      "\n",
      "segments ['Step # 2', 'red:0 HP:5 node:25 dir:4 pos:(11, 6)', 'blue:1 HP:5 node:22 dir:4 pos:(14, 10)', 'Actions:[[[3, 2]]]', 'Step rewards:[0]\\n']\n",
      "line Step # 3 | red:0 HP:5 node:25 dir:4 pos:(11, 6) | blue:1 HP:5 node:21 dir:4 pos:(14, 9) | Actions:[[[4, 0]]] | Step rewards:[0]\n",
      "\n",
      "segments ['Step # 3', 'red:0 HP:5 node:25 dir:4 pos:(11, 6)', 'blue:1 HP:5 node:21 dir:4 pos:(14, 9)', 'Actions:[[[4, 0]]]', 'Step rewards:[0]\\n']\n",
      "line Step # 4 | red:0 HP:5 node:9 dir:4 pos:(11, 5) | blue:1 HP:5 node:27 dir:4 pos:(14, 8) | Actions:[[[3, 2]]] | Step rewards:[0]\n",
      "\n",
      "segments ['Step # 4', 'red:0 HP:5 node:9 dir:4 pos:(11, 5)', 'blue:1 HP:5 node:27 dir:4 pos:(14, 8)', 'Actions:[[[3, 2]]]', 'Step rewards:[0]\\n']\n",
      "line Step # 5 | red:0 HP:5 node:10 dir:1 pos:(11, 6) | blue:1 HP:5 node:20 dir:4 pos:(14, 7) | Actions:[[[1, 2]]] | Step rewards:[0]\n",
      "\n",
      "segments ['Step # 5', 'red:0 HP:5 node:10 dir:1 pos:(11, 6)', 'blue:1 HP:5 node:20 dir:4 pos:(14, 7)', 'Actions:[[[1, 2]]]', 'Step rewards:[0]\\n']\n",
      "line Step # 6 | red:0 HP:5 node:11 dir:4 pos:(12, 6) | blue:1 HP:5 node:14 dir:2 pos:(13, 5) | Actions:[[[2, 0]]] | Step rewards:[0]\n",
      "\n",
      "segments ['Step # 6', 'red:0 HP:5 node:11 dir:4 pos:(12, 6)', 'blue:1 HP:5 node:14 dir:2 pos:(13, 5)', 'Actions:[[[2, 0]]]', 'Step rewards:[0]\\n']\n",
      "line Step # 7 | red:0 HP:5 node:10 dir:2 pos:(11, 6) | blue:1 HP:5 node:8 dir:2 pos:(12, 5) | Actions:[[[3, 0]]] | Step rewards:[0]\n",
      "\n",
      "segments ['Step # 7', 'red:0 HP:5 node:10 dir:2 pos:(11, 6)', 'blue:1 HP:5 node:8 dir:2 pos:(12, 5)', 'Actions:[[[3, 0]]]', 'Step rewards:[0]\\n']\n",
      "line Step # 8 | red:0 HP:5 node:10 dir:2 pos:(11, 6) | blue:1 HP:5 node:7 dir:2 pos:(11, 4) | Actions:[[[1, 0]]] | Step rewards:[0]\n",
      "\n",
      "segments ['Step # 8', 'red:0 HP:5 node:10 dir:2 pos:(11, 6)', 'blue:1 HP:5 node:7 dir:2 pos:(11, 4)', 'Actions:[[[1, 0]]]', 'Step rewards:[0]\\n']\n",
      "line Step # 9 | red:0 HP:5 node:11 dir:1 pos:(12, 6) | blue:1 HP:5 node:6 dir:4 pos:(11, 3) | Actions:[[[2, 0]]] | Step rewards:[0]\n",
      "\n",
      "segments ['Step # 9', 'red:0 HP:5 node:11 dir:1 pos:(12, 6)', 'blue:1 HP:5 node:6 dir:4 pos:(11, 3)', 'Actions:[[[2, 0]]]', 'Step rewards:[0]\\n']\n",
      "line Step #10 | red:0 HP:5 node:10 dir:2 pos:(11, 6) | blue:1 HP:5 node:4 dir:4 pos:(11, 2) | Actions:[[[0, 2]]] | Step rewards:[0]\n",
      "\n",
      "segments ['Step #10', 'red:0 HP:5 node:10 dir:2 pos:(11, 6)', 'blue:1 HP:5 node:4 dir:4 pos:(11, 2)', 'Actions:[[[0, 2]]]', 'Step rewards:[0]\\n']\n",
      "line Step #11 | red:0 HP:5 node:10 dir:3 pos:(11, 6) | blue:1 HP:5 node:5 dir:1 pos:(12, 4) | Actions:[[[1, 0]]] | Step rewards:[0]\n",
      "\n",
      "segments ['Step #11', 'red:0 HP:5 node:10 dir:3 pos:(11, 6)', 'blue:1 HP:5 node:5 dir:1 pos:(12, 4)', 'Actions:[[[1, 0]]]', 'Step rewards:[0]\\n']\n",
      "line Step #12 | red:0 HP:5 node:11 dir:1 pos:(12, 6) | blue:1 HP:5 node:13 dir:1 pos:(13, 4) | Actions:[[[2, 0]]] | Step rewards:[0]\n",
      "\n",
      "segments ['Step #12', 'red:0 HP:5 node:11 dir:1 pos:(12, 6)', 'blue:1 HP:5 node:13 dir:1 pos:(13, 4)', 'Actions:[[[2, 0]]]', 'Step rewards:[0]\\n']\n",
      "line Step #13 | red:0 HP:5 node:10 dir:2 pos:(11, 6) | blue:1 HP:5 node:19 dir:1 pos:(14, 5) | Actions:[[[2, 2]]] | Step rewards:[0]\n",
      "\n",
      "segments ['Step #13', 'red:0 HP:5 node:10 dir:2 pos:(11, 6)', 'blue:1 HP:5 node:19 dir:1 pos:(14, 5)', 'Actions:[[[2, 2]]]', 'Step rewards:[0]\\n']\n",
      "line Step #14 | red:0 HP:5 node:10 dir:2 pos:(11, 6) | blue:1 HP:5 node:25 dir:4 pos:(14, 4) | Actions:[[[3, 0]]] | Step rewards:[0]\n",
      "\n",
      "segments ['Step #14', 'red:0 HP:5 node:10 dir:2 pos:(11, 6)', 'blue:1 HP:5 node:25 dir:4 pos:(14, 4)', 'Actions:[[[3, 0]]]', 'Step rewards:[0]\\n']\n",
      "line Step #15 | red:0 HP:5 node:10 dir:2 pos:(11, 6) | blue:1 HP:5 node:18 dir:4 pos:(14, 3) | Actions:[[[4, 0]]] | Step rewards:[0]\n",
      "\n",
      "segments ['Step #15', 'red:0 HP:5 node:10 dir:2 pos:(11, 6)', 'blue:1 HP:5 node:18 dir:4 pos:(14, 3)', 'Actions:[[[4, 0]]]', 'Step rewards:[0]\\n']\n",
      "line Step #16 | red:0 HP:5 node:9 dir:4 pos:(11, 5) | blue:1 HP:5 node:12 dir:2 pos:(13, 3) | Actions:[[[3, 1]]] | Step rewards:[0]\n",
      "\n",
      "segments ['Step #16', 'red:0 HP:5 node:9 dir:4 pos:(11, 5)', 'blue:1 HP:5 node:12 dir:2 pos:(13, 3)', 'Actions:[[[3, 1]]]', 'Step rewards:[0]\\n']\n",
      "line Step #17 | red:0 HP:5 node:10 dir:2 pos:(11, 6) | blue:1 HP:5 node:2 dir:2 pos:(12, 3) | Actions:[[[3, 0]]] | Step rewards:[0]\n",
      "\n",
      "segments ['Step #17', 'red:0 HP:5 node:10 dir:2 pos:(11, 6)', 'blue:1 HP:5 node:2 dir:2 pos:(12, 3)', 'Actions:[[[3, 0]]]', 'Step rewards:[0]\\n']\n",
      "line Step #18 | red:0 HP:5 node:10 dir:2 pos:(11, 6) | blue:1 HP:5 node:1 dir:2 pos:(11, 0) | Actions:[[[3, 1]]] | Step rewards:[0]\n",
      "\n",
      "segments ['Step #18', 'red:0 HP:5 node:10 dir:2 pos:(11, 6)', 'blue:1 HP:5 node:1 dir:2 pos:(11, 0)', 'Actions:[[[3, 1]]]', 'Step rewards:[0]\\n']\n",
      "line Step #19 | red:0 HP:5 node:10 dir:2 pos:(11, 6) | blue:1 HP:5 node:3 dir:3 pos:(11, 1) | Actions:[[[1, 2]]] | Step rewards:[0]\n",
      "\n",
      "segments ['Step #19', 'red:0 HP:5 node:10 dir:2 pos:(11, 6)', 'blue:1 HP:5 node:3 dir:3 pos:(11, 1)', 'Actions:[[[1, 2]]]', 'Step rewards:[0]\\n']\n"
     ]
    },
    {
     "ename": "KeyboardInterrupt",
     "evalue": "",
     "output_type": "error",
     "traceback": [
      "\u001b[0;31m---------------------------------------------------------------------------\u001b[0m",
      "\u001b[0;31mAttributeError\u001b[0m                            Traceback (most recent call last)",
      "File \u001b[0;32m~/Documents/GflowsForSimulation_env/GflowsForSimulation_venv_real/lib/python3.8/site-packages/PIL/ImageFile.py:515\u001b[0m, in \u001b[0;36m_save\u001b[0;34m(im, fp, tile, bufsize)\u001b[0m\n\u001b[1;32m    514\u001b[0m \u001b[38;5;28;01mtry\u001b[39;00m:\n\u001b[0;32m--> 515\u001b[0m     fh \u001b[38;5;241m=\u001b[39m \u001b[43mfp\u001b[49m\u001b[38;5;241;43m.\u001b[39;49m\u001b[43mfileno\u001b[49m()\n\u001b[1;32m    516\u001b[0m     fp\u001b[38;5;241m.\u001b[39mflush()\n",
      "\u001b[0;31mAttributeError\u001b[0m: '_idat' object has no attribute 'fileno'",
      "\nDuring handling of the above exception, another exception occurred:\n",
      "\u001b[0;31mKeyboardInterrupt\u001b[0m                         Traceback (most recent call last)",
      "Cell \u001b[0;32mIn[25], line 190\u001b[0m\n\u001b[1;32m    187\u001b[0m parser\u001b[38;5;241m.\u001b[39madd_argument(\u001b[38;5;124m'\u001b[39m\u001b[38;5;124m--route_info\u001b[39m\u001b[38;5;124m'\u001b[39m, \u001b[38;5;28mtype\u001b[39m\u001b[38;5;241m=\u001b[39m\u001b[38;5;28mstr\u001b[39m, default\u001b[38;5;241m=\u001b[39m\u001b[38;5;124m'\u001b[39m\u001b[38;5;124mname\u001b[39m\u001b[38;5;124m'\u001b[39m)  \u001b[38;5;66;03m# choose from ['name', 'pos', 'idx']\u001b[39;00m\n\u001b[1;32m    188\u001b[0m args \u001b[38;5;241m=\u001b[39m parser\u001b[38;5;241m.\u001b[39mparse_args(args\u001b[38;5;241m=\u001b[39m[\u001b[38;5;124m'\u001b[39m\u001b[38;5;124m--log_dir\u001b[39m\u001b[38;5;124m'\u001b[39m, \u001b[38;5;124m'\u001b[39m\u001b[38;5;124m../logs/temp\u001b[39m\u001b[38;5;124m'\u001b[39m, \u001b[38;5;124m'\u001b[39m\u001b[38;5;124m--env_dir\u001b[39m\u001b[38;5;124m'\u001b[39m, \u001b[38;5;124m'\u001b[39m\u001b[38;5;124m../\u001b[39m\u001b[38;5;124m'\u001b[39m, \u001b[38;5;124m'\u001b[39m\u001b[38;5;124m--background\u001b[39m\u001b[38;5;124m'\u001b[39m, \u001b[38;5;124m'\u001b[39m\u001b[38;5;124m../logs/background.png\u001b[39m\u001b[38;5;124m'\u001b[39m])\n\u001b[0;32m--> 190\u001b[0m \u001b[43mlocal_run\u001b[49m\u001b[43m(\u001b[49m\u001b[43margs\u001b[49m\u001b[38;5;241;43m.\u001b[39;49m\u001b[43menv_dir\u001b[49m\u001b[43m,\u001b[49m\u001b[43m \u001b[49m\u001b[43margs\u001b[49m\u001b[38;5;241;43m.\u001b[39;49m\u001b[43mlog_dir\u001b[49m\u001b[43m,\u001b[49m\u001b[43m \u001b[49m\u001b[43margs\u001b[49m\u001b[38;5;241;43m.\u001b[39;49m\u001b[43mprefix\u001b[49m\u001b[43m,\u001b[49m\u001b[43m \u001b[49m\u001b[43margs\u001b[49m\u001b[38;5;241;43m.\u001b[39;49m\u001b[43mbackground\u001b[49m\u001b[43m,\u001b[49m\u001b[43m \u001b[49m\u001b[43margs\u001b[49m\u001b[38;5;241;43m.\u001b[39;49m\u001b[43mfps\u001b[49m\u001b[43m,\u001b[49m\n\u001b[1;32m    191\u001b[0m \u001b[43m          \u001b[49m\u001b[43margs\u001b[49m\u001b[38;5;241;43m.\u001b[39;49m\u001b[43mHP_red\u001b[49m\u001b[43m,\u001b[49m\u001b[43m \u001b[49m\u001b[43margs\u001b[49m\u001b[38;5;241;43m.\u001b[39;49m\u001b[43mTR_red\u001b[49m\u001b[43m,\u001b[49m\u001b[43m \u001b[49m\u001b[43margs\u001b[49m\u001b[38;5;241;43m.\u001b[39;49m\u001b[43mHP_blue\u001b[49m\u001b[43m,\u001b[49m\u001b[43m \u001b[49m\u001b[43margs\u001b[49m\u001b[38;5;241;43m.\u001b[39;49m\u001b[43mTR_blue\u001b[49m\u001b[43m,\u001b[49m\u001b[43m \u001b[49m\u001b[43margs\u001b[49m\u001b[38;5;241;43m.\u001b[39;49m\u001b[43mHP_color_off\u001b[49m\u001b[43m,\u001b[49m\n\u001b[1;32m    192\u001b[0m \u001b[43m          \u001b[49m\u001b[43margs\u001b[49m\u001b[38;5;241;43m.\u001b[39;49m\u001b[43mHP_froze_on\u001b[49m\u001b[43m,\u001b[49m\u001b[43m \u001b[49m\u001b[43margs\u001b[49m\u001b[38;5;241;43m.\u001b[39;49m\u001b[43mroute_only\u001b[49m\u001b[43m,\u001b[49m\u001b[43m \u001b[49m\u001b[43margs\u001b[49m\u001b[38;5;241;43m.\u001b[39;49m\u001b[43mroute_info\u001b[49m\u001b[43m)\u001b[49m\n",
      "Cell \u001b[0;32mIn[25], line 165\u001b[0m, in \u001b[0;36mlocal_run\u001b[0;34m(env_dir, log_dir, prefix, bg_pic, fps, HP_red, TR_red, HP_blue, TR_blue, color_decay, froze, route_only, route_info)\u001b[0m\n\u001b[1;32m    163\u001b[0m     pause_frame \u001b[38;5;241m=\u001b[39m \u001b[38;5;241m0\u001b[39m\n\u001b[1;32m    164\u001b[0m \u001b[38;5;28;01melse\u001b[39;00m:\n\u001b[0;32m--> 165\u001b[0m     fig_folder, pause_frame \u001b[38;5;241m=\u001b[39m \u001b[43mgenerate_picture\u001b[49m\u001b[43m(\u001b[49m\u001b[43menv_dir\u001b[49m\u001b[43m,\u001b[49m\u001b[43m \u001b[49m\u001b[43mlog_dir\u001b[49m\u001b[43m,\u001b[49m\u001b[43m \u001b[49m\u001b[43mlog_file\u001b[49m\u001b[43m,\u001b[49m\n\u001b[1;32m    166\u001b[0m \u001b[43m                                               \u001b[49m\u001b[43mHP_red\u001b[49m\u001b[43m,\u001b[49m\u001b[43m \u001b[49m\u001b[43mTR_red\u001b[49m\u001b[43m,\u001b[49m\u001b[43m \u001b[49m\u001b[43mHP_blue\u001b[49m\u001b[43m,\u001b[49m\u001b[43m \u001b[49m\u001b[43mTR_blue\u001b[49m\u001b[43m,\u001b[49m\u001b[43m \u001b[49m\u001b[43mcolor_decay\u001b[49m\u001b[43m,\u001b[49m\u001b[43m \u001b[49m\u001b[43mfroze\u001b[49m\u001b[43m)\u001b[49m\n\u001b[1;32m    167\u001b[0m frame_add_background(fig_folder, os\u001b[38;5;241m.\u001b[39mpath\u001b[38;5;241m.\u001b[39mjoin(log_dir, \u001b[38;5;124mf\u001b[39m\u001b[38;5;124m\"\u001b[39m\u001b[38;5;132;01m{\u001b[39;00mlog_file[:\u001b[38;5;241m-\u001b[39m\u001b[38;5;241m4\u001b[39m]\u001b[38;5;132;01m}\u001b[39;00m\u001b[38;5;124m.gif\u001b[39m\u001b[38;5;124m\"\u001b[39m), bg_pic, fps,\n\u001b[1;32m    168\u001b[0m                      pause_frame)\n",
      "Cell \u001b[0;32mIn[25], line 123\u001b[0m, in \u001b[0;36mgenerate_picture\u001b[0;34m(env_dir, log_dir, log_file, HP_red, TR_red, HP_blue, TR_blue, color_decay, if_froze, max_step, map_lookup)\u001b[0m\n\u001b[1;32m    120\u001b[0m     nx\u001b[38;5;241m.\u001b[39mdraw_networkx(map_info\u001b[38;5;241m.\u001b[39mg_acs, map_info\u001b[38;5;241m.\u001b[39mn_info, node_color\u001b[38;5;241m=\u001b[39mcol_map, edge_color\u001b[38;5;241m=\u001b[39m\u001b[38;5;124m\"\u001b[39m\u001b[38;5;124mgrey\u001b[39m\u001b[38;5;124m\"\u001b[39m, arrows\u001b[38;5;241m=\u001b[39m\u001b[38;5;28;01mTrue\u001b[39;00m)\n\u001b[1;32m    121\u001b[0m     plt\u001b[38;5;241m.\u001b[39mlegend(legend_text, bbox_to_anchor\u001b[38;5;241m=\u001b[39m(\u001b[38;5;241m0.07\u001b[39m, \u001b[38;5;241m0.95\u001b[39m, \u001b[38;5;241m0.83\u001b[39m, \u001b[38;5;241m0.1\u001b[39m), loc\u001b[38;5;241m=\u001b[39m\u001b[38;5;124m'\u001b[39m\u001b[38;5;124mlower left\u001b[39m\u001b[38;5;124m'\u001b[39m, prop\u001b[38;5;241m=\u001b[39m{\u001b[38;5;124m'\u001b[39m\u001b[38;5;124msize\u001b[39m\u001b[38;5;124m'\u001b[39m: \u001b[38;5;241m8\u001b[39m},\n\u001b[1;32m    122\u001b[0m                mode\u001b[38;5;241m=\u001b[39m\u001b[38;5;124m\"\u001b[39m\u001b[38;5;124mexpand\u001b[39m\u001b[38;5;124m\"\u001b[39m, borderaxespad\u001b[38;5;241m=\u001b[39m\u001b[38;5;241m0.\u001b[39m)\n\u001b[0;32m--> 123\u001b[0m     \u001b[43mplt\u001b[49m\u001b[38;5;241;43m.\u001b[39;49m\u001b[43msavefig\u001b[49m\u001b[43m(\u001b[49m\u001b[43mos\u001b[49m\u001b[38;5;241;43m.\u001b[39;49m\u001b[43mpath\u001b[49m\u001b[38;5;241;43m.\u001b[39;49m\u001b[43mjoin\u001b[49m\u001b[43m(\u001b[49m\u001b[43mfig_folder\u001b[49m\u001b[43m,\u001b[49m\u001b[43m \u001b[49m\u001b[38;5;124;43mf\u001b[39;49m\u001b[38;5;124;43m\"\u001b[39;49m\u001b[38;5;132;43;01m{\u001b[39;49;00m\u001b[43mi\u001b[49m\u001b[38;5;132;43;01m:\u001b[39;49;00m\u001b[38;5;124;43m03d\u001b[39;49m\u001b[38;5;132;43;01m}\u001b[39;49;00m\u001b[38;5;124;43m.png\u001b[39;49m\u001b[38;5;124;43m\"\u001b[39;49m\u001b[43m)\u001b[49m\u001b[43m,\u001b[49m\u001b[43m \u001b[49m\u001b[43mdpi\u001b[49m\u001b[38;5;241;43m=\u001b[39;49m\u001b[38;5;241;43m100\u001b[39;49m\u001b[43m,\u001b[49m\u001b[43m \u001b[49m\u001b[43mtransparent\u001b[49m\u001b[38;5;241;43m=\u001b[39;49m\u001b[38;5;28;43;01mTrue\u001b[39;49;00m\u001b[43m)\u001b[49m\n\u001b[1;32m    124\u001b[0m     plt\u001b[38;5;241m.\u001b[39mclose()\n\u001b[1;32m    125\u001b[0m \u001b[38;5;28;01mreturn\u001b[39;00m fig_folder, pause_step\n",
      "File \u001b[0;32m~/Documents/GflowsForSimulation_env/GflowsForSimulation_venv_real/lib/python3.8/site-packages/matplotlib/pyplot.py:958\u001b[0m, in \u001b[0;36msavefig\u001b[0;34m(*args, **kwargs)\u001b[0m\n\u001b[1;32m    955\u001b[0m \u001b[38;5;129m@_copy_docstring_and_deprecators\u001b[39m(Figure\u001b[38;5;241m.\u001b[39msavefig)\n\u001b[1;32m    956\u001b[0m \u001b[38;5;28;01mdef\u001b[39;00m \u001b[38;5;21msavefig\u001b[39m(\u001b[38;5;241m*\u001b[39margs, \u001b[38;5;241m*\u001b[39m\u001b[38;5;241m*\u001b[39mkwargs):\n\u001b[1;32m    957\u001b[0m     fig \u001b[38;5;241m=\u001b[39m gcf()\n\u001b[0;32m--> 958\u001b[0m     res \u001b[38;5;241m=\u001b[39m \u001b[43mfig\u001b[49m\u001b[38;5;241;43m.\u001b[39;49m\u001b[43msavefig\u001b[49m\u001b[43m(\u001b[49m\u001b[38;5;241;43m*\u001b[39;49m\u001b[43margs\u001b[49m\u001b[43m,\u001b[49m\u001b[43m \u001b[49m\u001b[38;5;241;43m*\u001b[39;49m\u001b[38;5;241;43m*\u001b[39;49m\u001b[43mkwargs\u001b[49m\u001b[43m)\u001b[49m\n\u001b[1;32m    959\u001b[0m     fig\u001b[38;5;241m.\u001b[39mcanvas\u001b[38;5;241m.\u001b[39mdraw_idle()   \u001b[38;5;66;03m# need this if 'transparent=True' to reset colors\u001b[39;00m\n\u001b[1;32m    960\u001b[0m     \u001b[38;5;28;01mreturn\u001b[39;00m res\n",
      "File \u001b[0;32m~/Documents/GflowsForSimulation_env/GflowsForSimulation_venv_real/lib/python3.8/site-packages/matplotlib/figure.py:3019\u001b[0m, in \u001b[0;36mFigure.savefig\u001b[0;34m(self, fname, transparent, **kwargs)\u001b[0m\n\u001b[1;32m   3015\u001b[0m     \u001b[38;5;28;01mfor\u001b[39;00m ax \u001b[38;5;129;01min\u001b[39;00m \u001b[38;5;28mself\u001b[39m\u001b[38;5;241m.\u001b[39maxes:\n\u001b[1;32m   3016\u001b[0m         stack\u001b[38;5;241m.\u001b[39menter_context(\n\u001b[1;32m   3017\u001b[0m             ax\u001b[38;5;241m.\u001b[39mpatch\u001b[38;5;241m.\u001b[39m_cm_set(facecolor\u001b[38;5;241m=\u001b[39m\u001b[38;5;124m'\u001b[39m\u001b[38;5;124mnone\u001b[39m\u001b[38;5;124m'\u001b[39m, edgecolor\u001b[38;5;241m=\u001b[39m\u001b[38;5;124m'\u001b[39m\u001b[38;5;124mnone\u001b[39m\u001b[38;5;124m'\u001b[39m))\n\u001b[0;32m-> 3019\u001b[0m \u001b[38;5;28;43mself\u001b[39;49m\u001b[38;5;241;43m.\u001b[39;49m\u001b[43mcanvas\u001b[49m\u001b[38;5;241;43m.\u001b[39;49m\u001b[43mprint_figure\u001b[49m\u001b[43m(\u001b[49m\u001b[43mfname\u001b[49m\u001b[43m,\u001b[49m\u001b[43m \u001b[49m\u001b[38;5;241;43m*\u001b[39;49m\u001b[38;5;241;43m*\u001b[39;49m\u001b[43mkwargs\u001b[49m\u001b[43m)\u001b[49m\n",
      "File \u001b[0;32m~/Documents/GflowsForSimulation_env/GflowsForSimulation_venv_real/lib/python3.8/site-packages/matplotlib/backend_bases.py:2319\u001b[0m, in \u001b[0;36mFigureCanvasBase.print_figure\u001b[0;34m(self, filename, dpi, facecolor, edgecolor, orientation, format, bbox_inches, pad_inches, bbox_extra_artists, backend, **kwargs)\u001b[0m\n\u001b[1;32m   2315\u001b[0m \u001b[38;5;28;01mtry\u001b[39;00m:\n\u001b[1;32m   2316\u001b[0m     \u001b[38;5;66;03m# _get_renderer may change the figure dpi (as vector formats\u001b[39;00m\n\u001b[1;32m   2317\u001b[0m     \u001b[38;5;66;03m# force the figure dpi to 72), so we need to set it again here.\u001b[39;00m\n\u001b[1;32m   2318\u001b[0m     \u001b[38;5;28;01mwith\u001b[39;00m cbook\u001b[38;5;241m.\u001b[39m_setattr_cm(\u001b[38;5;28mself\u001b[39m\u001b[38;5;241m.\u001b[39mfigure, dpi\u001b[38;5;241m=\u001b[39mdpi):\n\u001b[0;32m-> 2319\u001b[0m         result \u001b[38;5;241m=\u001b[39m \u001b[43mprint_method\u001b[49m\u001b[43m(\u001b[49m\n\u001b[1;32m   2320\u001b[0m \u001b[43m            \u001b[49m\u001b[43mfilename\u001b[49m\u001b[43m,\u001b[49m\n\u001b[1;32m   2321\u001b[0m \u001b[43m            \u001b[49m\u001b[43mfacecolor\u001b[49m\u001b[38;5;241;43m=\u001b[39;49m\u001b[43mfacecolor\u001b[49m\u001b[43m,\u001b[49m\n\u001b[1;32m   2322\u001b[0m \u001b[43m            \u001b[49m\u001b[43medgecolor\u001b[49m\u001b[38;5;241;43m=\u001b[39;49m\u001b[43medgecolor\u001b[49m\u001b[43m,\u001b[49m\n\u001b[1;32m   2323\u001b[0m \u001b[43m            \u001b[49m\u001b[43morientation\u001b[49m\u001b[38;5;241;43m=\u001b[39;49m\u001b[43morientation\u001b[49m\u001b[43m,\u001b[49m\n\u001b[1;32m   2324\u001b[0m \u001b[43m            \u001b[49m\u001b[43mbbox_inches_restore\u001b[49m\u001b[38;5;241;43m=\u001b[39;49m\u001b[43m_bbox_inches_restore\u001b[49m\u001b[43m,\u001b[49m\n\u001b[1;32m   2325\u001b[0m \u001b[43m            \u001b[49m\u001b[38;5;241;43m*\u001b[39;49m\u001b[38;5;241;43m*\u001b[39;49m\u001b[43mkwargs\u001b[49m\u001b[43m)\u001b[49m\n\u001b[1;32m   2326\u001b[0m \u001b[38;5;28;01mfinally\u001b[39;00m:\n\u001b[1;32m   2327\u001b[0m     \u001b[38;5;28;01mif\u001b[39;00m bbox_inches \u001b[38;5;129;01mand\u001b[39;00m restore_bbox:\n",
      "File \u001b[0;32m~/Documents/GflowsForSimulation_env/GflowsForSimulation_venv_real/lib/python3.8/site-packages/matplotlib/backend_bases.py:1648\u001b[0m, in \u001b[0;36m_check_savefig_extra_args.<locals>.wrapper\u001b[0;34m(*args, **kwargs)\u001b[0m\n\u001b[1;32m   1640\u001b[0m     _api\u001b[38;5;241m.\u001b[39mwarn_deprecated(\n\u001b[1;32m   1641\u001b[0m         \u001b[38;5;124m'\u001b[39m\u001b[38;5;124m3.3\u001b[39m\u001b[38;5;124m'\u001b[39m, name\u001b[38;5;241m=\u001b[39mname, removal\u001b[38;5;241m=\u001b[39m\u001b[38;5;124m'\u001b[39m\u001b[38;5;124m3.6\u001b[39m\u001b[38;5;124m'\u001b[39m,\n\u001b[1;32m   1642\u001b[0m         message\u001b[38;5;241m=\u001b[39m\u001b[38;5;124m'\u001b[39m\u001b[38;5;132;01m%(name)s\u001b[39;00m\u001b[38;5;124m() got unexpected keyword argument \u001b[39m\u001b[38;5;124m\"\u001b[39m\u001b[38;5;124m'\u001b[39m\n\u001b[1;32m   1643\u001b[0m                 \u001b[38;5;241m+\u001b[39m arg \u001b[38;5;241m+\u001b[39m \u001b[38;5;124m'\u001b[39m\u001b[38;5;124m\"\u001b[39m\u001b[38;5;124m which is no longer supported as of \u001b[39m\u001b[38;5;124m'\u001b[39m\n\u001b[1;32m   1644\u001b[0m                 \u001b[38;5;124m'\u001b[39m\u001b[38;5;132;01m%(since)s\u001b[39;00m\u001b[38;5;124m and will become an error \u001b[39m\u001b[38;5;124m'\u001b[39m\n\u001b[1;32m   1645\u001b[0m                 \u001b[38;5;124m'\u001b[39m\u001b[38;5;132;01m%(removal)s\u001b[39;00m\u001b[38;5;124m'\u001b[39m)\n\u001b[1;32m   1646\u001b[0m     kwargs\u001b[38;5;241m.\u001b[39mpop(arg)\n\u001b[0;32m-> 1648\u001b[0m \u001b[38;5;28;01mreturn\u001b[39;00m \u001b[43mfunc\u001b[49m\u001b[43m(\u001b[49m\u001b[38;5;241;43m*\u001b[39;49m\u001b[43margs\u001b[49m\u001b[43m,\u001b[49m\u001b[43m \u001b[49m\u001b[38;5;241;43m*\u001b[39;49m\u001b[38;5;241;43m*\u001b[39;49m\u001b[43mkwargs\u001b[49m\u001b[43m)\u001b[49m\n",
      "File \u001b[0;32m~/Documents/GflowsForSimulation_env/GflowsForSimulation_venv_real/lib/python3.8/site-packages/matplotlib/_api/deprecation.py:412\u001b[0m, in \u001b[0;36mdelete_parameter.<locals>.wrapper\u001b[0;34m(*inner_args, **inner_kwargs)\u001b[0m\n\u001b[1;32m    402\u001b[0m     deprecation_addendum \u001b[38;5;241m=\u001b[39m (\n\u001b[1;32m    403\u001b[0m         \u001b[38;5;124mf\u001b[39m\u001b[38;5;124m\"\u001b[39m\u001b[38;5;124mIf any parameter follows \u001b[39m\u001b[38;5;132;01m{\u001b[39;00mname\u001b[38;5;132;01m!r}\u001b[39;00m\u001b[38;5;124m, they should be passed as \u001b[39m\u001b[38;5;124m\"\u001b[39m\n\u001b[1;32m    404\u001b[0m         \u001b[38;5;124mf\u001b[39m\u001b[38;5;124m\"\u001b[39m\u001b[38;5;124mkeyword, not positionally.\u001b[39m\u001b[38;5;124m\"\u001b[39m)\n\u001b[1;32m    405\u001b[0m     warn_deprecated(\n\u001b[1;32m    406\u001b[0m         since,\n\u001b[1;32m    407\u001b[0m         name\u001b[38;5;241m=\u001b[39m\u001b[38;5;28mrepr\u001b[39m(name),\n\u001b[0;32m   (...)\u001b[0m\n\u001b[1;32m    410\u001b[0m                  \u001b[38;5;28;01melse\u001b[39;00m deprecation_addendum,\n\u001b[1;32m    411\u001b[0m         \u001b[38;5;241m*\u001b[39m\u001b[38;5;241m*\u001b[39mkwargs)\n\u001b[0;32m--> 412\u001b[0m \u001b[38;5;28;01mreturn\u001b[39;00m \u001b[43mfunc\u001b[49m\u001b[43m(\u001b[49m\u001b[38;5;241;43m*\u001b[39;49m\u001b[43minner_args\u001b[49m\u001b[43m,\u001b[49m\u001b[43m \u001b[49m\u001b[38;5;241;43m*\u001b[39;49m\u001b[38;5;241;43m*\u001b[39;49m\u001b[43minner_kwargs\u001b[49m\u001b[43m)\u001b[49m\n",
      "File \u001b[0;32m~/Documents/GflowsForSimulation_env/GflowsForSimulation_venv_real/lib/python3.8/site-packages/matplotlib/backends/backend_agg.py:541\u001b[0m, in \u001b[0;36mFigureCanvasAgg.print_png\u001b[0;34m(self, filename_or_obj, metadata, pil_kwargs, *args)\u001b[0m\n\u001b[1;32m    494\u001b[0m \u001b[38;5;250m\u001b[39m\u001b[38;5;124;03m\"\"\"\u001b[39;00m\n\u001b[1;32m    495\u001b[0m \u001b[38;5;124;03mWrite the figure to a PNG file.\u001b[39;00m\n\u001b[1;32m    496\u001b[0m \n\u001b[0;32m   (...)\u001b[0m\n\u001b[1;32m    538\u001b[0m \u001b[38;5;124;03m    *metadata*, including the default 'Software' key.\u001b[39;00m\n\u001b[1;32m    539\u001b[0m \u001b[38;5;124;03m\"\"\"\u001b[39;00m\n\u001b[1;32m    540\u001b[0m FigureCanvasAgg\u001b[38;5;241m.\u001b[39mdraw(\u001b[38;5;28mself\u001b[39m)\n\u001b[0;32m--> 541\u001b[0m \u001b[43mmpl\u001b[49m\u001b[38;5;241;43m.\u001b[39;49m\u001b[43mimage\u001b[49m\u001b[38;5;241;43m.\u001b[39;49m\u001b[43mimsave\u001b[49m\u001b[43m(\u001b[49m\n\u001b[1;32m    542\u001b[0m \u001b[43m    \u001b[49m\u001b[43mfilename_or_obj\u001b[49m\u001b[43m,\u001b[49m\u001b[43m \u001b[49m\u001b[38;5;28;43mself\u001b[39;49m\u001b[38;5;241;43m.\u001b[39;49m\u001b[43mbuffer_rgba\u001b[49m\u001b[43m(\u001b[49m\u001b[43m)\u001b[49m\u001b[43m,\u001b[49m\u001b[43m \u001b[49m\u001b[38;5;28;43mformat\u001b[39;49m\u001b[38;5;241;43m=\u001b[39;49m\u001b[38;5;124;43m\"\u001b[39;49m\u001b[38;5;124;43mpng\u001b[39;49m\u001b[38;5;124;43m\"\u001b[39;49m\u001b[43m,\u001b[49m\u001b[43m \u001b[49m\u001b[43morigin\u001b[49m\u001b[38;5;241;43m=\u001b[39;49m\u001b[38;5;124;43m\"\u001b[39;49m\u001b[38;5;124;43mupper\u001b[39;49m\u001b[38;5;124;43m\"\u001b[39;49m\u001b[43m,\u001b[49m\n\u001b[1;32m    543\u001b[0m \u001b[43m    \u001b[49m\u001b[43mdpi\u001b[49m\u001b[38;5;241;43m=\u001b[39;49m\u001b[38;5;28;43mself\u001b[39;49m\u001b[38;5;241;43m.\u001b[39;49m\u001b[43mfigure\u001b[49m\u001b[38;5;241;43m.\u001b[39;49m\u001b[43mdpi\u001b[49m\u001b[43m,\u001b[49m\u001b[43m \u001b[49m\u001b[43mmetadata\u001b[49m\u001b[38;5;241;43m=\u001b[39;49m\u001b[43mmetadata\u001b[49m\u001b[43m,\u001b[49m\u001b[43m \u001b[49m\u001b[43mpil_kwargs\u001b[49m\u001b[38;5;241;43m=\u001b[39;49m\u001b[43mpil_kwargs\u001b[49m\u001b[43m)\u001b[49m\n",
      "File \u001b[0;32m~/Documents/GflowsForSimulation_env/GflowsForSimulation_venv_real/lib/python3.8/site-packages/matplotlib/image.py:1675\u001b[0m, in \u001b[0;36mimsave\u001b[0;34m(fname, arr, vmin, vmax, cmap, format, origin, dpi, metadata, pil_kwargs)\u001b[0m\n\u001b[1;32m   1673\u001b[0m pil_kwargs\u001b[38;5;241m.\u001b[39msetdefault(\u001b[38;5;124m\"\u001b[39m\u001b[38;5;124mformat\u001b[39m\u001b[38;5;124m\"\u001b[39m, \u001b[38;5;28mformat\u001b[39m)\n\u001b[1;32m   1674\u001b[0m pil_kwargs\u001b[38;5;241m.\u001b[39msetdefault(\u001b[38;5;124m\"\u001b[39m\u001b[38;5;124mdpi\u001b[39m\u001b[38;5;124m\"\u001b[39m, (dpi, dpi))\n\u001b[0;32m-> 1675\u001b[0m \u001b[43mimage\u001b[49m\u001b[38;5;241;43m.\u001b[39;49m\u001b[43msave\u001b[49m\u001b[43m(\u001b[49m\u001b[43mfname\u001b[49m\u001b[43m,\u001b[49m\u001b[43m \u001b[49m\u001b[38;5;241;43m*\u001b[39;49m\u001b[38;5;241;43m*\u001b[39;49m\u001b[43mpil_kwargs\u001b[49m\u001b[43m)\u001b[49m\n",
      "File \u001b[0;32m~/Documents/GflowsForSimulation_env/GflowsForSimulation_venv_real/lib/python3.8/site-packages/PIL/Image.py:2413\u001b[0m, in \u001b[0;36mImage.save\u001b[0;34m(self, fp, format, **params)\u001b[0m\n\u001b[1;32m   2410\u001b[0m         fp \u001b[38;5;241m=\u001b[39m builtins\u001b[38;5;241m.\u001b[39mopen(filename, \u001b[38;5;124m\"\u001b[39m\u001b[38;5;124mw+b\u001b[39m\u001b[38;5;124m\"\u001b[39m)\n\u001b[1;32m   2412\u001b[0m \u001b[38;5;28;01mtry\u001b[39;00m:\n\u001b[0;32m-> 2413\u001b[0m     \u001b[43msave_handler\u001b[49m\u001b[43m(\u001b[49m\u001b[38;5;28;43mself\u001b[39;49m\u001b[43m,\u001b[49m\u001b[43m \u001b[49m\u001b[43mfp\u001b[49m\u001b[43m,\u001b[49m\u001b[43m \u001b[49m\u001b[43mfilename\u001b[49m\u001b[43m)\u001b[49m\n\u001b[1;32m   2414\u001b[0m \u001b[38;5;28;01mexcept\u001b[39;00m \u001b[38;5;167;01mException\u001b[39;00m:\n\u001b[1;32m   2415\u001b[0m     \u001b[38;5;28;01mif\u001b[39;00m open_fp:\n",
      "File \u001b[0;32m~/Documents/GflowsForSimulation_env/GflowsForSimulation_venv_real/lib/python3.8/site-packages/PIL/PngImagePlugin.py:1398\u001b[0m, in \u001b[0;36m_save\u001b[0;34m(im, fp, filename, chunk, save_all)\u001b[0m\n\u001b[1;32m   1396\u001b[0m     _write_multiple_frames(im, fp, chunk, rawmode, default_image, append_images)\n\u001b[1;32m   1397\u001b[0m \u001b[38;5;28;01melse\u001b[39;00m:\n\u001b[0;32m-> 1398\u001b[0m     \u001b[43mImageFile\u001b[49m\u001b[38;5;241;43m.\u001b[39;49m\u001b[43m_save\u001b[49m\u001b[43m(\u001b[49m\u001b[43mim\u001b[49m\u001b[43m,\u001b[49m\u001b[43m \u001b[49m\u001b[43m_idat\u001b[49m\u001b[43m(\u001b[49m\u001b[43mfp\u001b[49m\u001b[43m,\u001b[49m\u001b[43m \u001b[49m\u001b[43mchunk\u001b[49m\u001b[43m)\u001b[49m\u001b[43m,\u001b[49m\u001b[43m \u001b[49m\u001b[43m[\u001b[49m\u001b[43m(\u001b[49m\u001b[38;5;124;43m\"\u001b[39;49m\u001b[38;5;124;43mzip\u001b[39;49m\u001b[38;5;124;43m\"\u001b[39;49m\u001b[43m,\u001b[49m\u001b[43m \u001b[49m\u001b[43m(\u001b[49m\u001b[38;5;241;43m0\u001b[39;49m\u001b[43m,\u001b[49m\u001b[43m \u001b[49m\u001b[38;5;241;43m0\u001b[39;49m\u001b[43m)\u001b[49m\u001b[43m \u001b[49m\u001b[38;5;241;43m+\u001b[39;49m\u001b[43m \u001b[49m\u001b[43mim\u001b[49m\u001b[38;5;241;43m.\u001b[39;49m\u001b[43msize\u001b[49m\u001b[43m,\u001b[49m\u001b[43m \u001b[49m\u001b[38;5;241;43m0\u001b[39;49m\u001b[43m,\u001b[49m\u001b[43m \u001b[49m\u001b[43mrawmode\u001b[49m\u001b[43m)\u001b[49m\u001b[43m]\u001b[49m\u001b[43m)\u001b[49m\n\u001b[1;32m   1400\u001b[0m \u001b[38;5;28;01mif\u001b[39;00m info:\n\u001b[1;32m   1401\u001b[0m     \u001b[38;5;28;01mfor\u001b[39;00m info_chunk \u001b[38;5;129;01min\u001b[39;00m info\u001b[38;5;241m.\u001b[39mchunks:\n",
      "File \u001b[0;32m~/Documents/GflowsForSimulation_env/GflowsForSimulation_venv_real/lib/python3.8/site-packages/PIL/ImageFile.py:519\u001b[0m, in \u001b[0;36m_save\u001b[0;34m(im, fp, tile, bufsize)\u001b[0m\n\u001b[1;32m    517\u001b[0m     _encode_tile(im, fp, tile, bufsize, fh)\n\u001b[1;32m    518\u001b[0m \u001b[38;5;28;01mexcept\u001b[39;00m (\u001b[38;5;167;01mAttributeError\u001b[39;00m, io\u001b[38;5;241m.\u001b[39mUnsupportedOperation) \u001b[38;5;28;01mas\u001b[39;00m exc:\n\u001b[0;32m--> 519\u001b[0m     \u001b[43m_encode_tile\u001b[49m\u001b[43m(\u001b[49m\u001b[43mim\u001b[49m\u001b[43m,\u001b[49m\u001b[43m \u001b[49m\u001b[43mfp\u001b[49m\u001b[43m,\u001b[49m\u001b[43m \u001b[49m\u001b[43mtile\u001b[49m\u001b[43m,\u001b[49m\u001b[43m \u001b[49m\u001b[43mbufsize\u001b[49m\u001b[43m,\u001b[49m\u001b[43m \u001b[49m\u001b[38;5;28;43;01mNone\u001b[39;49;00m\u001b[43m,\u001b[49m\u001b[43m \u001b[49m\u001b[43mexc\u001b[49m\u001b[43m)\u001b[49m\n\u001b[1;32m    520\u001b[0m \u001b[38;5;28;01mif\u001b[39;00m \u001b[38;5;28mhasattr\u001b[39m(fp, \u001b[38;5;124m\"\u001b[39m\u001b[38;5;124mflush\u001b[39m\u001b[38;5;124m\"\u001b[39m):\n\u001b[1;32m    521\u001b[0m     fp\u001b[38;5;241m.\u001b[39mflush()\n",
      "File \u001b[0;32m~/Documents/GflowsForSimulation_env/GflowsForSimulation_venv_real/lib/python3.8/site-packages/PIL/ImageFile.py:538\u001b[0m, in \u001b[0;36m_encode_tile\u001b[0;34m(im, fp, tile, bufsize, fh, exc)\u001b[0m\n\u001b[1;32m    535\u001b[0m \u001b[38;5;28;01mif\u001b[39;00m exc:\n\u001b[1;32m    536\u001b[0m     \u001b[38;5;66;03m# compress to Python file-compatible object\u001b[39;00m\n\u001b[1;32m    537\u001b[0m     \u001b[38;5;28;01mwhile\u001b[39;00m \u001b[38;5;28;01mTrue\u001b[39;00m:\n\u001b[0;32m--> 538\u001b[0m         errcode, data \u001b[38;5;241m=\u001b[39m \u001b[43mencoder\u001b[49m\u001b[38;5;241;43m.\u001b[39;49m\u001b[43mencode\u001b[49m\u001b[43m(\u001b[49m\u001b[43mbufsize\u001b[49m\u001b[43m)\u001b[49m[\u001b[38;5;241m1\u001b[39m:]\n\u001b[1;32m    539\u001b[0m         fp\u001b[38;5;241m.\u001b[39mwrite(data)\n\u001b[1;32m    540\u001b[0m         \u001b[38;5;28;01mif\u001b[39;00m errcode:\n",
      "\u001b[0;31mKeyboardInterrupt\u001b[0m: "
     ]
    },
    {
     "data": {
      "image/png": "[encoded data removed]",
      "text/plain": [
       "<Figure size 432x288 with 1 Axes>"
      ]
     },
     "metadata": {},
     "output_type": "display_data"
    }
   ],
   "source": [
    "import argparse\n",
    "import glob\n",
    "import os\n",
    "import re\n",
    "\n",
    "import networkx as nx\n",
    "import numpy as np\n",
    "from PIL import Image\n",
    "import matplotlib.colors as colors\n",
    "import matplotlib.pyplot as plt\n",
    "# from matplotlib.animation import FuncAnimation, PillowWriter\n",
    "from sigma_graph.data.file_manager import check_dir, find_file_in_dir, load_graph_files\n",
    "\n",
    "def agent_log_parser(line) -> dict:\n",
    "    agent_info = {}\n",
    "    # parse team info\n",
    "    team_red = re.search(r\"red:(\\d+)\", line)\n",
    "    team_blue = re.search(r\"blue:(\\d+)\", line)\n",
    "    if team_red is not None:\n",
    "        agent_info[\"team\"] = \"red\"\n",
    "        agent_info[\"id\"] = team_red[1]\n",
    "    elif team_blue is not None:\n",
    "        agent_info[\"team\"] = \"blue\"\n",
    "        agent_info[\"id\"] = team_blue[1]\n",
    "    else:\n",
    "        assert f\"[log] Invalid agent team format: {line}\"\n",
    "    # parse agent info\n",
    "    agent_pos = re.search(r\"HP:\\s?(\\d+) node:(\\d+) dir:(\\d) pos:\\((\\d+), (\\d+)\\)\", line)\n",
    "    if agent_info is not None:\n",
    "        agent_info[\"HP\"] = int(agent_pos[1])\n",
    "        agent_info[\"node\"] = int(agent_pos[2])\n",
    "        agent_info[\"dir\"] = int(agent_pos[3])\n",
    "        agent_info[\"pos\"] = (int(agent_pos[4]), int(agent_pos[5]))\n",
    "    else:\n",
    "        assert f\"[log] Invalid agent info format: {line}\"\n",
    "    return agent_info\n",
    "\n",
    "\n",
    "def list_nums_log_parser(line):\n",
    "    pass\n",
    "\n",
    "\n",
    "def log_file_parser(line):\n",
    "    print(f'line {line}')\n",
    "    segments = line.split(\" | \")\n",
    "    print(f'segments {segments}')\n",
    "    step_num = int(re.search(r\"Step #\\s?(\\d+)\", segments[0])[1])\n",
    "\n",
    "    agents = []\n",
    "    for str_agents in segments[1:-2]:\n",
    "        agents.append(agent_log_parser(str_agents))\n",
    "    actions = segments[-2]\n",
    "    rewards = segments[-1]\n",
    "\n",
    "    return step_num, agents, actions, rewards[:-1]\n",
    "\n",
    "\n",
    "def check_log_files(env_dir, log_dir, log_file):\n",
    "    # generate a subfolder in the log folder for -> animations (and optional pictures for each step)\n",
    "    log_file_dir = find_file_in_dir(log_dir, log_file)\n",
    "    fig_file_dir = os.path.join(log_dir, log_file[:-4])\n",
    "    if not check_dir(fig_file_dir):\n",
    "        os.mkdir(fig_file_dir)\n",
    "    return log_file_dir, fig_file_dir\n",
    "\n",
    "\n",
    "def generate_picture(env_dir, log_dir, log_file, HP_red, TR_red, HP_blue, TR_blue,\n",
    "                     color_decay=True, if_froze=False, max_step=40, map_lookup=\"S\"):\n",
    "    # check file existence\n",
    "    log_file_dir, fig_folder = check_log_files(env_dir, log_dir, log_file)\n",
    "    map_info, _ = load_graph_files(env_path=env_dir, map_lookup=map_lookup)\n",
    "    # load log info\n",
    "    file = open(log_file_dir, 'r')\n",
    "    lines = file.readlines()\n",
    "\n",
    "    # predetermined colors\n",
    "    col_map_red = ['#200000', '#200000', '#400000', '#800000', '#BF0000', '#FF0000']\n",
    "    col_map_blue = ['#000020', '#000020', '#000040', '#000080', '#0000BF', '#0000FF']\n",
    "    if color_decay:\n",
    "        HP_offset = 0.1\n",
    "        red_bds = np.append([0], np.linspace(HP_red - TR_red + HP_offset, HP_red + HP_offset, num=len(col_map_red)))\n",
    "        red_norm = colors.BoundaryNorm(boundaries=red_bds, ncolors=len(col_map_red))\n",
    "        blue_bds = np.append([0], np.linspace(HP_blue - TR_blue, HP_blue + HP_offset, num=len(col_map_blue)))\n",
    "        blue_norm = colors.BoundaryNorm(boundaries=blue_bds, ncolors=len(col_map_blue))\n",
    "    else:\n",
    "        red_norm = lambda x: -1\n",
    "        blue_norm = lambda x: -1\n",
    "\n",
    "    total_reward = 0\n",
    "    pause_step = 0\n",
    "\n",
    "    for i, line in enumerate(lines):\n",
    "        fig = plt.figure()\n",
    "        # set figure background opacity (alpha) to 0\n",
    "        fig.patch.set_alpha(0.)\n",
    "        fig.tight_layout()\n",
    "        plt.axis('off')\n",
    "\n",
    "        if i < max_step:\n",
    "            idx_step, agents, action, reward = log_file_parser(line)\n",
    "            text_head = f\"#{idx_step:2d}/{max_step} {action} {reward} \"\n",
    "        elif i == max_step:\n",
    "            # get episode rewards from log\n",
    "            text_head += line[:-1]\n",
    "        legend_text = [text_head]\n",
    "        # set color map for agents and waypoints\n",
    "        col_map = [\"gold\"] * len(map_info.n_info)\n",
    "        for agent in agents:\n",
    "            legend_text += [\"{}_{} HP:{} node:{} dir:{} pos:{}\".format(agent[\"team\"], agent[\"id\"], agent[\"HP\"],\n",
    "                                                                       agent[\"node\"], agent[\"dir\"], agent[\"pos\"])]\n",
    "            if agent[\"team\"] == 'red':\n",
    "                col_map[agent['node'] - 1] = \"red\" #col_map_red[red_norm(agent['HP'])]\n",
    "            elif agent[\"team\"] == 'blue':\n",
    "                blue_health = agent['HP']\n",
    "                col_map[agent['node'] - 1] = \"blue\" #col_map_blue[blue_norm(blue_health)]\n",
    "        # set pause frame number for gif looping\n",
    "        if if_froze and (not pause_step) and (blue_health <= HP_blue - TR_blue):\n",
    "            pause_step = i\n",
    "        # render fig and save to png\n",
    "        nx.draw_networkx(map_info.g_acs, map_info.n_info, node_color=col_map, edge_color=\"grey\", arrows=True)\n",
    "        plt.legend(legend_text, bbox_to_anchor=(0.07, 0.95, 0.83, 0.1), loc='lower left', prop={'size': 8},\n",
    "                   mode=\"expand\", borderaxespad=0.)\n",
    "        plt.savefig(os.path.join(fig_folder, f\"{i:03d}.png\"), dpi=100, transparent=True)\n",
    "        plt.close()\n",
    "    return fig_folder, pause_step\n",
    "\n",
    "\n",
    "def generate_picture_route(env_dir, log_dir, log_file, route_info):\n",
    "    log_file_dir, fig_folder = check_log_files(env_dir, log_dir, log_file)\n",
    "    return fig_folder\n",
    "\n",
    "\n",
    "def frame_add_background(img_dir, gif_file, bg_file, fps, stop_frame=0, wait_frame=5):\n",
    "    img_files = img_dir + \"/*.png\"\n",
    "    imgs = []\n",
    "    frames = 0\n",
    "    for f in sorted(glob.glob(img_files)):\n",
    "        foreground = Image.open(f)\n",
    "        background = Image.open(bg_file)\n",
    "        background.paste(foreground, (0, 0), foreground)\n",
    "        imgs.append(background)\n",
    "        if stop_frame:\n",
    "            if frames == stop_frame:\n",
    "                break\n",
    "            frames += 1\n",
    "    # set up additional end frames before looping\n",
    "    if not stop_frame:\n",
    "        for i in range(wait_frame):\n",
    "            imgs.append(imgs[-1])\n",
    "    imgs[0].save(fp=gif_file, format='GIF', append_images=imgs[1:],\n",
    "                 save_all=True, duration=(1000 // fps), loop=(stop_frame > 0))\n",
    "\n",
    "\n",
    "def local_run(env_dir, log_dir, prefix, bg_pic, fps, HP_red, TR_red, HP_blue, TR_blue,\n",
    "              color_decay=True, froze=False, route_only=False, route_info=None):\n",
    "    directory = os.fsencode(log_dir)\n",
    "    for file in os.listdir(directory):\n",
    "        log_file = os.fsdecode(file)\n",
    "        print(f'log_file {log_file}')\n",
    "        if log_file.endswith(\".txt\") and log_file.startswith(prefix):\n",
    "            if route_only:\n",
    "                fig_folder = generate_picture_route(env_dir, log_dir, log_file, route_info)\n",
    "                pause_frame = 0\n",
    "            else:\n",
    "                fig_folder, pause_frame = generate_picture(env_dir, log_dir, log_file,\n",
    "                                                           HP_red, TR_red, HP_blue, TR_blue, color_decay, froze)\n",
    "            frame_add_background(fig_folder, os.path.join(log_dir, f\"{log_file[:-4]}.gif\"), bg_pic, fps,\n",
    "                                 pause_frame)\n",
    "\n",
    "\n",
    "if __name__ == \"__main__\":\n",
    "    parser = argparse.ArgumentParser()\n",
    "    parser.add_argument('--env_dir', type=str, default='../../', help='path to project root')\n",
    "    parser.add_argument('--log_dir', type=str, default='../../logs/visuals/demo/', help='path to log file folder')\n",
    "    parser.add_argument('--prefix', type=str, default='log_', help='log file prefix')\n",
    "    parser.add_argument('--background', type=str, default='../../logs/visuals/background.png')\n",
    "    parser.add_argument('--fps', type=int, default=2)  # frame per second in animations\n",
    "\n",
    "    parser.add_argument('--HP_froze_on', action='store_true', default=False, help='stop animation if agent is dead')\n",
    "    parser.add_argument('--HP_red', type=int, default=100)\n",
    "    parser.add_argument('--TR_red', type=int, default=5)\n",
    "    parser.add_argument('--HP_blue', type=int, default=100)\n",
    "    parser.add_argument('--TR_blue', type=int, default=10)\n",
    "    parser.add_argument('--HP_color_off', action='store_false', default=True, help='gradient colors for HP')\n",
    "\n",
    "    parser.add_argument('--route_only', type=bool, default=False)  # exclude step info\n",
    "    parser.add_argument('--route_info', type=str, default='name')  # choose from ['name', 'pos', 'idx']\n",
    "    args = parser.parse_args(args=['--log_dir', '../logs/temp', '--env_dir', '../', '--background', '../logs/background.png'])\n",
    "\n",
    "    local_run(args.env_dir, args.log_dir, args.prefix, args.background, args.fps,\n",
    "              args.HP_red, args.TR_red, args.HP_blue, args.TR_blue, args.HP_color_off,\n",
    "              args.HP_froze_on, args.route_only, args.route_info)"
   ]
  }
 ],
 "metadata": {
  "kernelspec": {
   "display_name": "GflowsForSimulation_venv_real",
   "language": "python",
   "name": "python3"
  },
  "language_info": {
   "codemirror_mode": {
    "name": "ipython",
    "version": 3
   },
   "file_extension": ".py",
   "mimetype": "text/x-python",
   "name": "python",
   "nbconvert_exporter": "python",
   "pygments_lexer": "ipython3",
   "version": "3.8.10"
  }
 },
 "nbformat": 4,
 "nbformat_minor": 2
}
