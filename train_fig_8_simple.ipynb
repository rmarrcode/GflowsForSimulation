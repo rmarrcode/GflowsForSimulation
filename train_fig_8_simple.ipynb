{
 "cells": [
  {
   "cell_type": "code",
   "execution_count": 1,
   "metadata": {},
   "outputs": [
    {
     "name": "stderr",
     "output_type": "stream",
     "text": [
      "2024-02-21 16:39:35,017\tWARNING deprecation.py:47 -- DeprecationWarning: `ray.rllib.agents.dqn` has been deprecated. Use `ray.rllib.algorithms.[dqn|simple_q|r2d2|apex_dqn]` instead. This will raise an error in the future!\n"
     ]
    }
   ],
   "source": [
    "import torch\n",
    "import torch.nn as nn\n",
    "from torch.distributions.categorical import Categorical\n",
    "import tqdm\n",
    "import matplotlib.pyplot as pp\n",
    "import numpy as np\n",
    "\n",
    "from sigma_graph.envs.figure8.action_lookup import MOVE_LOOKUP, TURN_90_LOOKUP\n",
    "from sigma_graph.envs.figure8.default_setup import OBS_TOKEN\n",
    "from sigma_graph.envs.figure8.figure8_squad_rllib import Figure8SquadRLLib\n",
    "from sigma_graph.envs.figure8.gflow_figure8_squad import GlowFigure8Squad\n",
    "#from graph_scout.envs.base import ScoutMissionStdRLLib\n",
    "import sigma_graph.envs.figure8.default_setup as default_setup\n",
    "import model  # THIS NEEDS TO BE HERE IN ORDER TO RUN __init__.py!\n",
    "import model.utils as utils\n",
    "import model.gnn_gflow \n",
    "from trajectory import Trajectory\n",
    "import losses\n",
    "import torch.optim as optim\n",
    "import wandb\n",
    "\n",
    "INPUT_DIMS = 27\n",
    "OUTPUT_DIMS = 5\n",
    "NUM_EPOCHS = 100000\n",
    "TRAJECTORY_LENGTH = 20\n",
    "BATCH_SIZE = 100\n",
    "START_NODE = 25\n",
    "LEARNING_RATE = 3e-4\n",
    "WANDB = True\n",
    "\n",
    "device = torch.device(\"cuda\" if torch.cuda.is_available() else \"cpu\")\n",
    "\n",
    "transitions = {\n",
    "    1: {0: 1, 1: 2, 2: 1, 3: 3, 4: 1},\n",
    "    2: {0: 2, 1: 12, 2: 1, 3: 2, 4: 2},\n",
    "    3: {0: 3, 1: 3, 2: 3, 3: 4, 4: 1},\n",
    "    4: {0: 4, 1: 5, 2: 4, 3: 6, 4: 3},\n",
    "    5: {0: 5, 1: 13, 2: 4, 3: 5, 4: 5},\n",
    "    6: {0: 6, 1: 6, 2: 6, 3: 7, 4: 4},\n",
    "    7: {0: 7, 1: 8, 2: 7, 3: 9, 4: 6},\n",
    "    8: {0: 8, 1: 14, 2: 7, 3: 8, 4: 8},\n",
    "    9: {0: 9, 1: 9, 2: 9, 3: 10, 4: 7},\n",
    "    10: {0: 10, 1: 11, 2: 10, 3: 10, 4: 9},\n",
    "    11: {0: 11, 1: 15, 2: 10, 3: 16, 4: 11},\n",
    "    12: {0: 12, 1: 18, 2: 2, 3: 12, 4: 12},\n",
    "    13: {0: 13, 1: 19, 2: 5, 3: 13, 4: 13},\n",
    "    14: {0: 14, 1: 20, 2: 8, 3: 14, 4: 14},\n",
    "    15: {0: 15, 1: 21, 2: 11, 3: 17, 4: 15},\n",
    "    16: {0: 16, 1: 17, 2: 16, 3: 16, 4: 11},\n",
    "    17: {0: 17, 1: 22, 2: 16, 3: 23, 4: 15},\n",
    "    18: {0: 18, 1: 18, 2: 12, 3: 25, 4: 18},\n",
    "    19: {0: 19, 1: 19, 2: 13, 3: 26, 4: 25},\n",
    "    20: {0: 20, 1: 20, 2: 14, 3: 27, 4: 26},\n",
    "    21: {0: 21, 1: 21, 2: 15, 3: 22, 4: 27},\n",
    "    22: {0: 22, 1: 22, 2: 17, 3: 24, 4: 21},\n",
    "    23: {0: 23, 1: 24, 2: 17, 3: 23, 4: 17},\n",
    "    24: {0: 24, 1: 22, 2: 23, 3: 24, 4: 22},\n",
    "    25: {0: 25, 1: 25, 2: 25, 3: 19, 4: 18},\n",
    "    26: {0: 26, 1: 26, 2: 26, 3: 20, 4: 19},\n",
    "    27: {0: 27, 1: 27, 2: 27, 3: 21, 4: 20}\n",
    "}\n",
    "\n",
    "local_action_move = {\n",
    "    0: \"NOOP\",\n",
    "    1: \"N\",\n",
    "    2: \"S\",\n",
    "    3: \"W\",\n",
    "    4: \"E\",\n",
    "}\n",
    "\n",
    "def state_to_vec(state):\n",
    "    result = [0]*27\n",
    "    result[state-1] = 1\n",
    "    return torch.tensor(result).float()\n",
    "\n",
    "def compute_reward(state):\n",
    "    if state == 10:\n",
    "        return 2\n",
    "    if state == 2:\n",
    "        return 1\n",
    "    return 0\n",
    "\n",
    "def convert_discrete_action_to_multidiscrete(action):\n",
    "        return [action % len(local_action_move), action // len(local_action_move)]"
   ]
  },
  {
   "cell_type": "code",
   "execution_count": 2,
   "metadata": {},
   "outputs": [
    {
     "name": "stderr",
     "output_type": "stream",
     "text": [
      "Failed to detect the name of this notebook, you can set it manually with the WANDB_NOTEBOOK_NAME environment variable to enable code saving.\n",
      "\u001b[34m\u001b[1mwandb\u001b[0m: Currently logged in as: \u001b[33mr-marr747\u001b[0m. Use \u001b[1m`wandb login --relogin`\u001b[0m to force relogin\n"
     ]
    },
    {
     "data": {
      "text/html": [
       "wandb version 0.16.3 is available!  To upgrade, please run:\n",
       " $ pip install wandb --upgrade"
      ],
      "text/plain": [
       "<IPython.core.display.HTML object>"
      ]
     },
     "metadata": {},
     "output_type": "display_data"
    },
    {
     "data": {
      "text/html": [
       "Tracking run with wandb version 0.16.1"
      ],
      "text/plain": [
       "<IPython.core.display.HTML object>"
      ]
     },
     "metadata": {},
     "output_type": "display_data"
    },
    {
     "data": {
      "text/html": [
       "Run data is saved locally in <code>/Users/ryanmarr/Documents/CognArch/GflowsForSimulation/wandb/run-20240221_163936-c0bkkbkd</code>"
      ],
      "text/plain": [
       "<IPython.core.display.HTML object>"
      ]
     },
     "metadata": {},
     "output_type": "display_data"
    },
    {
     "data": {
      "text/html": [
       "Syncing run <strong><a href='https://wandb.ai/r-marr747/graph-training-simulation/runs/c0bkkbkd' target=\"_blank\">thriving-dog-168</a></strong> to <a href='https://wandb.ai/r-marr747/graph-training-simulation' target=\"_blank\">Weights & Biases</a> (<a href='https://wandb.me/run' target=\"_blank\">docs</a>)<br/>"
      ],
      "text/plain": [
       "<IPython.core.display.HTML object>"
      ]
     },
     "metadata": {},
     "output_type": "display_data"
    },
    {
     "data": {
      "text/html": [
       " View project at <a href='https://wandb.ai/r-marr747/graph-training-simulation' target=\"_blank\">https://wandb.ai/r-marr747/graph-training-simulation</a>"
      ],
      "text/plain": [
       "<IPython.core.display.HTML object>"
      ]
     },
     "metadata": {},
     "output_type": "display_data"
    },
    {
     "data": {
      "text/html": [
       " View run at <a href='https://wandb.ai/r-marr747/graph-training-simulation/runs/c0bkkbkd' target=\"_blank\">https://wandb.ai/r-marr747/graph-training-simulation/runs/c0bkkbkd</a>"
      ],
      "text/plain": [
       "<IPython.core.display.HTML object>"
      ]
     },
     "metadata": {},
     "output_type": "display_data"
    },
    {
     "name": "stdout",
     "output_type": "stream",
     "text": [
      "---------------\n",
      "path_data ./GflowsForSimulation/sigma_graph/data/parsed/\n",
      "/Users/ryanmarr/Documents/CognArch/GflowsForSimulation\n"
     ]
    }
   ],
   "source": [
    "# Investigate loss rewar mirror\n",
    "# Try real reward\n",
    "# Make code cleaner \n",
    "# visualize flows \n",
    "\n",
    "if WANDB:\n",
    "    wandb.init(\n",
    "        project=\"graph-training-simulation\",\n",
    "        config={\n",
    "            \"learning_rate\": LEARNING_RATE,\n",
    "            \"epocs\": NUM_EPOCHS,\n",
    "            \"batch_size\": BATCH_SIZE\n",
    "        }\n",
    "    )\n",
    "\n",
    "config = {\n",
    "    \"custom_model\": \"fcn\",\n",
    "    \"reward\": \"toy\",\n",
    "    \"custom_model_config\": {\n",
    "        \"nred\": 1,\n",
    "        \"nblue\": 1,\n",
    "        \"aggregation_fn\": \"agent_node\",\n",
    "        \"hidden_size\": 15,\n",
    "        \"is_hybrid\": False,\n",
    "        \"conv_type\": \"gcn\",\n",
    "        \"layernorm\": False,\n",
    "        \"graph_obs_token\": {\"embed_opt\": False, \"embed_dir\": True},\n",
    "    },\n",
    "    \"env_config\": {\n",
    "        \"env_path\": \".\",\n",
    "        \"act_masked\": True,\n",
    "        \"init_red\": None,\n",
    "        \"init_blue\": None,\n",
    "        \"init_health_red\": 20,\n",
    "        \"init_health_blue\": 20,\n",
    "        \"obs_embed\": False,\n",
    "        \"obs_dir\": False,\n",
    "        \"obs_team\": True,\n",
    "        \"obs_sight\": False,\n",
    "        \"log_on\": False,\n",
    "        \"log_path\": \"logs/temp/\",\n",
    "        \"fixed_start\": -1,\n",
    "        \"penalty_stay\": 0,\n",
    "        \"threshold_damage_2_blue\": 2,\n",
    "        \"threshold_damage_2_red\": 5,\n",
    "    },\n",
    "}\n",
    "LEARNING_RATE = 3e-4\n",
    "gflowfigure8 = GlowFigure8Squad(sampler_config=config)\n",
    "# sampler_fcn -> sampler\n",
    "# TODO: this is bad revisit and come up with something more concise\n",
    "\n",
    "optimizer = optim.AdamW(gflowfigure8.sampler.parameters(), lr=LEARNING_RATE)"
   ]
  },
  {
   "cell_type": "code",
   "execution_count": 3,
   "metadata": {},
   "outputs": [
    {
     "name": "stderr",
     "output_type": "stream",
     "text": [
      "  0%|       | 0/1000000 [00:00<?, ?it/s]"
     ]
    },
    {
     "name": "stderr",
     "output_type": "stream",
     "text": [
      "  8%| | 77131/1000000 [18:49:22<16:52:33"
     ]
    }
   ],
   "source": [
    "# Using sigma code fully\n",
    "\n",
    "minibatch_loss = 0\n",
    "minibatch_reward = 0\n",
    "minibatch_z = 0\n",
    "minibatch_pf = 0\n",
    "minibatch_pb = 0\n",
    "\n",
    "for episode in tqdm.tqdm(range(NUM_EPOCHS), ncols=40):\n",
    "  \n",
    "  TEMP_AGENT_INDEX = 0\n",
    "  gflowfigure8._reset_agents()\n",
    "\n",
    "  total_P_F = 0\n",
    "  total_P_B = 0\n",
    "  for t in range(TRAJECTORY_LENGTH):\n",
    "\n",
    "    step = gflowfigure8.step(TEMP_AGENT_INDEX)  \n",
    "    total_P_F += step['forward_prob']\n",
    "    total_P_B += step['backward_prob']\n",
    "\n",
    "    if t == TRAJECTORY_LENGTH-1:\n",
    "      reward_value = gflowfigure8._step_reward_test()\n",
    "      reward = torch.tensor(reward_value)\n",
    "\n",
    "  logZ = gflowfigure8.sampler.logZ\n",
    " \n",
    "  reward = torch.log(reward).clip(-20)\n",
    "  loss = (logZ + total_P_F - reward - total_P_B).pow(2)\n",
    "  \n",
    "  minibatch_loss += loss\n",
    "  minibatch_reward += reward\n",
    "  minibatch_z += logZ\n",
    "  minibatch_pf += total_P_F\n",
    "  minibatch_pb += total_P_B\n",
    "\n",
    "  if episode % BATCH_SIZE == 0:\n",
    "    if WANDB:\n",
    "      wandb.log({\n",
    "          \"loss\": minibatch_loss/BATCH_SIZE, \n",
    "          \"reward\":  minibatch_reward/BATCH_SIZE,\n",
    "          \"pf\": minibatch_pf/BATCH_SIZE,\n",
    "          \"pb\": minibatch_pb/BATCH_SIZE,\n",
    "          \"Z\": minibatch_z/BATCH_SIZE\n",
    "        })\n",
    "      # for name, param in sampler.named_parameters():\n",
    "      #     wandb.log({f\"{name}_mean\": param.data.mean().item(), f\"{name}_std\": param.data.std().item()})\n",
    "          \n",
    "    minibatch_loss.backward()\n",
    "    optimizer.step()\n",
    "    optimizer.zero_grad()\n",
    "    minibatch_loss = 0\n",
    "    minibatch_reward = 0\n",
    "    minibatch_z = 0\n",
    "    minibatch_pf = 0\n",
    "    minibatch_pb = 0"
   ]
  },
  {
   "cell_type": "code",
   "execution_count": null,
   "metadata": {},
   "outputs": [],
   "source": [
    "class TBModel(nn.Module):\n",
    "  def __init__(self, num_hid):\n",
    "    super().__init__()\n",
    "\n",
    "    self.mlp_forward = nn.Sequential(nn.Linear(INPUT_DIMS, num_hid), nn.LeakyReLU(),\n",
    "                             nn.Linear(num_hid, OUTPUT_DIMS))\n",
    "    \n",
    "    self.mlp_backward = nn.Sequential(nn.Linear(INPUT_DIMS, num_hid), nn.LeakyReLU(),\n",
    "                             nn.Linear(num_hid, OUTPUT_DIMS))\n",
    "    \n",
    "    self.logZ = nn.Parameter(torch.ones(1))\n",
    "\n",
    "  def forward(self, x):\n",
    "    P_F = self.mlp_forward(x)\n",
    "    return P_F\n",
    "  \n",
    "  def backward(self, x):\n",
    "    P_B = self.mlp_backward(x) \n",
    "\n",
    "    return P_B\n",
    "  "
   ]
  },
  {
   "cell_type": "code",
   "execution_count": null,
   "metadata": {},
   "outputs": [
    {
     "ename": "NameError",
     "evalue": "name 'TBModel' is not defined",
     "output_type": "error",
     "traceback": [
      "\u001b[0;31m---------------------------------------------------------------------------\u001b[0m",
      "\u001b[0;31mNameError\u001b[0m                                 Traceback (most recent call last)",
      "Cell \u001b[0;32mIn[4], line 3\u001b[0m\n\u001b[1;32m      1\u001b[0m \u001b[39m# Very basic toy env \u001b[39;00m\n\u001b[0;32m----> 3\u001b[0m model \u001b[39m=\u001b[39m TBModel(\u001b[39m512\u001b[39m)\n\u001b[1;32m      4\u001b[0m opt \u001b[39m=\u001b[39m torch\u001b[39m.\u001b[39moptim\u001b[39m.\u001b[39mAdam(model\u001b[39m.\u001b[39mparameters(),  \u001b[39m3e-4\u001b[39m)\n\u001b[1;32m      6\u001b[0m tb_losses \u001b[39m=\u001b[39m []\n",
      "\u001b[0;31mNameError\u001b[0m: name 'TBModel' is not defined"
     ]
    }
   ],
   "source": [
    "# Very basic toy env \n",
    "\n",
    "model = TBModel(512)\n",
    "opt = torch.optim.Adam(model.parameters(),  3e-4)\n",
    "\n",
    "tb_losses = []\n",
    "tb_rewards = []\n",
    "logZs = []\n",
    "\n",
    "minibatch_loss = 0\n",
    "minibatch_reward = 0\n",
    "\n",
    "for episode in tqdm.tqdm(range(NUM_EPOCHS), ncols=40):\n",
    "  state = START_NODE\n",
    "  \n",
    "  total_P_F = 0\n",
    "  total_P_B = 0\n",
    "  for t in range(TRAJECTORY_LENGTH):\n",
    "    P_F_s = model.forward(state_to_vec(state))\n",
    "    P_B_s = model.backward(state_to_vec(state))\n",
    "\n",
    "    cat = Categorical(logits=P_F_s)\n",
    "    action = cat.sample()\n",
    "    new_state = transitions[state][action.item()]\n",
    "    total_P_F += cat.log_prob(action)\n",
    "\n",
    "    if t == TRAJECTORY_LENGTH-1:\n",
    "      reward_value = compute_reward(new_state)\n",
    "      reward = torch.tensor(reward_value)\n",
    "\n",
    "    total_P_B += Categorical(logits=P_B_s).log_prob(action)\n",
    "\n",
    "    state = new_state\n",
    "\n",
    "\n",
    "  loss = (model.logZ + total_P_F - torch.log(reward).clip(-20) - total_P_B).pow(2)\n",
    "  minibatch_loss += loss\n",
    "  minibatch_reward += reward\n",
    "\n",
    "  if episode % BATCH_SIZE == 0:\n",
    "    tb_losses.append(minibatch_loss.item())\n",
    "    tb_rewards.append(minibatch_reward.item())\n",
    "    minibatch_loss.backward()\n",
    "    opt.step()\n",
    "    opt.zero_grad()\n",
    "    minibatch_loss = 0\n",
    "    minibatch_reward = 0\n",
    "    logZs.append(model.logZ.item())\n"
   ]
  },
  {
   "cell_type": "code",
   "execution_count": null,
   "metadata": {},
   "outputs": [
    {
     "data": {
      "text/plain": [
       "Text(0, 0.5, 'rewards')"
      ]
     },
     "execution_count": 6,
     "metadata": {},
     "output_type": "execute_result"
    },
    {
     "data": {
      "image/png": "[encoded data removed]",
      "text/plain": [
       "<Figure size 720x432 with 3 Axes>"
      ]
     },
     "metadata": {
      "needs_background": "light"
     },
     "output_type": "display_data"
    }
   ],
   "source": [
    "f, ax = pp.subplots(3, 1, figsize=(10,6))\n",
    "pp.sca(ax[0])\n",
    "pp.plot(tb_losses)\n",
    "pp.yscale('log')\n",
    "pp.ylabel('loss')\n",
    "pp.sca(ax[1])\n",
    "pp.plot(np.exp(logZs))\n",
    "pp.ylabel('estimated Z')\n",
    "pp.sca(ax[2])\n",
    "pp.plot(tb_rewards)\n",
    "pp.ylabel('rewards')"
   ]
  },
  {
   "cell_type": "code",
   "execution_count": null,
   "metadata": {},
   "outputs": [],
   "source": [
    "# using sampler only not really needed any more\n",
    "\n",
    "# tb_losses = []\n",
    "# tb_rewards = []\n",
    "# logZs = []\n",
    "\n",
    "# minibatch_loss = 0\n",
    "# minibatch_reward = 0\n",
    "  \n",
    "# for episode in tqdm.tqdm(range(NUM_EPOCHS), ncols=40):\n",
    "#   state = START_NODE\n",
    "  \n",
    "#   total_P_F = 0\n",
    "#   total_P_B = 0\n",
    "#   for t in range(TRAJECTORY_LENGTH):\n",
    "\n",
    "#     f_probs = gflowfigure8.sampler_fcn.forward([state_to_vec(state).to(device)])\n",
    "#     b_probs = gflowfigure8.sampler_fcn.backward([state_to_vec(state).to(device)])\n",
    "\n",
    "#     cat = Categorical(logits=f_probs)\n",
    "#     discrete_action = cat.sample()\n",
    "#     multidiscrete_action = convert_discrete_action_to_multidiscrete(discrete_action)\n",
    "\n",
    "#     new_state = transitions[state][multidiscrete_action[0].tolist()]\n",
    "#     total_P_F += cat.log_prob(discrete_action)\n",
    "\n",
    "#     if t == TRAJECTORY_LENGTH-1:\n",
    "#       reward_value = compute_reward(new_state)\n",
    "#       reward = torch.tensor(reward_value)\n",
    "\n",
    "#     # same forward action?\n",
    "#     # TODO investigate difference between selecting backwards action and using forward action on backwards distribution\n",
    "#     # cat = Categorical(logits=b_probs)\n",
    "#     # discrete_action = cat.sample()\n",
    "#     total_P_B += Categorical(logits=b_probs).log_prob(discrete_action)\n",
    "\n",
    "#     state = new_state\n",
    "\n",
    "#   logZ = gflowfigure8.sampler_fcn.logZ\n",
    "\n",
    "#   loss = (logZ + total_P_F - torch.log(reward).clip(-20) - total_P_B).pow(2)\n",
    "#   minibatch_loss += loss\n",
    "#   minibatch_reward += reward\n",
    "\n",
    "#   if episode % BATCH_SIZE == 0:\n",
    "#     tb_losses.append(minibatch_loss.item())\n",
    "#     tb_rewards.append(minibatch_reward.item())\n",
    "#     minibatch_loss.backward()\n",
    "#     optimizer.step()\n",
    "#     optimizer.zero_grad()\n",
    "#     minibatch_loss = 0\n",
    "#     minibatch_reward = 0\n",
    "#     logZs.append(gflowfigure8.sampler_fcn.logZ.item())\n",
    "\n",
    "# f, ax = pp.subplots(3, 1, figsize=(10,6))\n",
    "# pp.sca(ax[0])\n",
    "# pp.plot(tb_losses)\n",
    "# pp.yscale('log')\n",
    "# pp.ylabel('loss')\n",
    "# pp.sca(ax[1])\n",
    "# pp.plot(np.exp(logZs))\n",
    "# pp.ylabel('estimated Z')\n",
    "# pp.sca(ax[2])\n",
    "# pp.plot(tb_rewards)\n",
    "# pp.ylabel('rewards')"
   ]
  },
  {
   "cell_type": "code",
   "execution_count": null,
   "metadata": {},
   "outputs": [
    {
     "data": {
      "text/plain": [
       "Text(0, 0.5, 'rewards')"
      ]
     },
     "execution_count": 8,
     "metadata": {},
     "output_type": "execute_result"
    },
    {
     "data": {
      "image/png": "[encoded data removed]",
      "text/plain": [
       "<Figure size 720x432 with 3 Axes>"
      ]
     },
     "metadata": {
      "needs_background": "light"
     },
     "output_type": "display_data"
    }
   ],
   "source": [
    "f, ax = pp.subplots(3, 1, figsize=(10,6))\n",
    "pp.sca(ax[0])\n",
    "pp.plot(tb_losses[1:])\n",
    "pp.yscale('log')\n",
    "pp.ylabel('loss')\n",
    "pp.sca(ax[1])\n",
    "pp.plot(np.exp(logZs))\n",
    "pp.ylabel('estimated Z')\n",
    "pp.sca(ax[2])\n",
    "pp.plot(tb_rewards)\n",
    "pp.ylabel('rewards')"
   ]
  }
 ],
 "metadata": {
  "kernelspec": {
   "display_name": ".cogn_arch",
   "language": "python",
   "name": "python3"
  },
  "language_info": {
   "codemirror_mode": {
    "name": "ipython",
    "version": 3
   },
   "file_extension": ".py",
   "mimetype": "text/x-python",
   "name": "python",
   "nbconvert_exporter": "python",
   "pygments_lexer": "ipython3",
   "version": "3.10.5"
  },
  "orig_nbformat": 4
 },
 "nbformat": 4,
 "nbformat_minor": 2
}
